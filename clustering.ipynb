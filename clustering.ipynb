{
 "cells": [
  {
   "cell_type": "code",
   "execution_count": 1,
   "metadata": {},
   "outputs": [],
   "source": [
    "# general\n",
    "import pandas as pd\n",
    "from pandas.plotting import scatter_matrix\n",
    "import numpy as np\n",
    "from collections import Counter\n",
    "import collections\n",
    "from pandas import DataFrame\n",
    "from scipy.cluster.hierarchy import linkage, dendrogram\n",
    "\n",
    "# sk learn\n",
    "from sklearn.cluster import KMeans\n",
    "from sklearn.feature_extraction.text import CountVectorizer, TfidfVectorizer\n",
    "from sklearn.feature_extraction import text \n",
    "from sklearn.metrics.pairwise import linear_kernel\n",
    "import matplotlib.pyplot as plt "
   ]
  },
  {
   "cell_type": "code",
   "execution_count": 2,
   "metadata": {},
   "outputs": [],
   "source": [
    "# traveler profile\n",
    "data3 = pd.read_excel('data/users_full_7034.xlsx')\n",
    "# traveler and reviews\n",
    "data4 = pd.read_excel('data/reviews_32618_for_1098_users_with_location.xlsx')"
   ]
  },
  {
   "cell_type": "code",
   "execution_count": 3,
   "metadata": {},
   "outputs": [],
   "source": [
    "null_age = data3.ageRange.isnull()\n",
    "null_gender = data3.gender.isnull()\n",
    "null_style = data3.travelStyle.isnull()\n",
    "\n",
    "\n"
   ]
  },
  {
   "cell_type": "code",
   "execution_count": 4,
   "metadata": {},
   "outputs": [
    {
     "name": "stderr",
     "output_type": "stream",
     "text": [
      "/anaconda3/lib/python3.6/site-packages/ipykernel_launcher.py:1: UserWarning: Boolean Series key will be reindexed to match DataFrame index.\n",
      "  \"\"\"Entry point for launching an IPython kernel.\n"
     ]
    }
   ],
   "source": [
    "filtered_data3 = data3[data3.totalPoints > 1000][~null_age][~null_gender][~null_style]"
   ]
  },
  {
   "cell_type": "code",
   "execution_count": 5,
   "metadata": {},
   "outputs": [],
   "source": [
    "filtered_data3 = filtered_data3[['username']]"
   ]
  },
  {
   "cell_type": "code",
   "execution_count": 6,
   "metadata": {},
   "outputs": [],
   "source": [
    "filtered_data4 = data4[['id', 'username', 'type', 'title', 'text', 'rating', 'taObjectCity']]\n"
   ]
  },
  {
   "cell_type": "code",
   "execution_count": 7,
   "metadata": {},
   "outputs": [],
   "source": [
    "attraction_only = filtered_data4.type == 'Attractions'\n",
    "filtered_data4 = filtered_data4[attraction_only]"
   ]
  },
  {
   "cell_type": "code",
   "execution_count": 9,
   "metadata": {},
   "outputs": [],
   "source": [
    "span_mask1 = (filtered_data4.username == 'AnaS1')\n",
    "span_mask2 = (filtered_data4.username == 'DaniLK')\n",
    "span_mask3 = (filtered_data4.username == 'Aprile_24')\n",
    "non_city_mask = (filtered_data4.taObjectCity == 'California')"
   ]
  },
  {
   "cell_type": "code",
   "execution_count": 10,
   "metadata": {},
   "outputs": [
    {
     "name": "stderr",
     "output_type": "stream",
     "text": [
      "/anaconda3/lib/python3.6/site-packages/ipykernel_launcher.py:1: UserWarning: Boolean Series key will be reindexed to match DataFrame index.\n",
      "  \"\"\"Entry point for launching an IPython kernel.\n"
     ]
    }
   ],
   "source": [
    "filtered_data4 = filtered_data4[~span_mask1][~span_mask2][~non_city_mask][~span_mask3]"
   ]
  },
  {
   "cell_type": "code",
   "execution_count": 11,
   "metadata": {},
   "outputs": [],
   "source": [
    "data3_merge_4 = pd.merge(filtered_data4, filtered_data3, on=['username'])\n"
   ]
  },
  {
   "cell_type": "code",
   "execution_count": 12,
   "metadata": {},
   "outputs": [
    {
     "name": "stdout",
     "output_type": "stream",
     "text": [
      "56\n"
     ]
    }
   ],
   "source": [
    "# cities with more than 4 reviews\n",
    "popular_city = []\n",
    "for item, value in Counter(data3_merge_4.taObjectCity).items():\n",
    "    if value > 7:\n",
    "        popular_city.append(item)\n",
    "print(len(popular_city))"
   ]
  },
  {
   "cell_type": "code",
   "execution_count": 13,
   "metadata": {},
   "outputs": [],
   "source": [
    "final_df = data3_merge_4[data3_merge_4.taObjectCity.isin(popular_city)]\n"
   ]
  },
  {
   "cell_type": "code",
   "execution_count": 14,
   "metadata": {},
   "outputs": [
    {
     "data": {
      "text/html": [
       "<div>\n",
       "<style scoped>\n",
       "    .dataframe tbody tr th:only-of-type {\n",
       "        vertical-align: middle;\n",
       "    }\n",
       "\n",
       "    .dataframe tbody tr th {\n",
       "        vertical-align: top;\n",
       "    }\n",
       "\n",
       "    .dataframe thead th {\n",
       "        text-align: right;\n",
       "    }\n",
       "</style>\n",
       "<table border=\"1\" class=\"dataframe\">\n",
       "  <thead>\n",
       "    <tr style=\"text-align: right;\">\n",
       "      <th></th>\n",
       "      <th>id</th>\n",
       "      <th>username</th>\n",
       "      <th>type</th>\n",
       "      <th>title</th>\n",
       "      <th>text</th>\n",
       "      <th>rating</th>\n",
       "      <th>taObjectCity</th>\n",
       "    </tr>\n",
       "  </thead>\n",
       "  <tbody>\n",
       "    <tr>\n",
       "      <th>2</th>\n",
       "      <td>362</td>\n",
       "      <td>19Cam</td>\n",
       "      <td>Attractions</td>\n",
       "      <td>See it before its gone</td>\n",
       "      <td>The box is only a temporary exhibit while cons...</td>\n",
       "      <td>4</td>\n",
       "      <td>Berlin</td>\n",
       "    </tr>\n",
       "    <tr>\n",
       "      <th>3</th>\n",
       "      <td>363</td>\n",
       "      <td>19Cam</td>\n",
       "      <td>Attractions</td>\n",
       "      <td>Worth a look for the architecture alone</td>\n",
       "      <td>A large collection, presented in a stunning bu...</td>\n",
       "      <td>3</td>\n",
       "      <td>Berlin</td>\n",
       "    </tr>\n",
       "    <tr>\n",
       "      <th>4</th>\n",
       "      <td>378</td>\n",
       "      <td>19Cam</td>\n",
       "      <td>Attractions</td>\n",
       "      <td>Fantastic</td>\n",
       "      <td>After reading all the hype about this show, I ...</td>\n",
       "      <td>5</td>\n",
       "      <td>London</td>\n",
       "    </tr>\n",
       "    <tr>\n",
       "      <th>5</th>\n",
       "      <td>414</td>\n",
       "      <td>19Cam</td>\n",
       "      <td>Attractions</td>\n",
       "      <td>Tranquility in a busy city</td>\n",
       "      <td>Sited within the main botanical gardens area o...</td>\n",
       "      <td>4</td>\n",
       "      <td>Kuala Lumpur</td>\n",
       "    </tr>\n",
       "    <tr>\n",
       "      <th>18</th>\n",
       "      <td>778</td>\n",
       "      <td>1oldseagull</td>\n",
       "      <td>Attractions</td>\n",
       "      <td>THIS SHOULD BE A FIRST STOP</td>\n",
       "      <td>First thing, this visiter center was not easy ...</td>\n",
       "      <td>5</td>\n",
       "      <td>Chattanooga</td>\n",
       "    </tr>\n",
       "  </tbody>\n",
       "</table>\n",
       "</div>"
      ],
      "text/plain": [
       "     id     username         type                                    title  \\\n",
       "2   362        19Cam  Attractions                   See it before its gone   \n",
       "3   363        19Cam  Attractions  Worth a look for the architecture alone   \n",
       "4   378        19Cam  Attractions                                Fantastic   \n",
       "5   414        19Cam  Attractions               Tranquility in a busy city   \n",
       "18  778  1oldseagull  Attractions              THIS SHOULD BE A FIRST STOP   \n",
       "\n",
       "                                                 text  rating  taObjectCity  \n",
       "2   The box is only a temporary exhibit while cons...       4        Berlin  \n",
       "3   A large collection, presented in a stunning bu...       3        Berlin  \n",
       "4   After reading all the hype about this show, I ...       5        London  \n",
       "5   Sited within the main botanical gardens area o...       4  Kuala Lumpur  \n",
       "18  First thing, this visiter center was not easy ...       5   Chattanooga  "
      ]
     },
     "execution_count": 14,
     "metadata": {},
     "output_type": "execute_result"
    }
   ],
   "source": [
    "final_df.head()"
   ]
  },
  {
   "cell_type": "code",
   "execution_count": 15,
   "metadata": {},
   "outputs": [
    {
     "data": {
      "text/html": [
       "<div>\n",
       "<style scoped>\n",
       "    .dataframe tbody tr th:only-of-type {\n",
       "        vertical-align: middle;\n",
       "    }\n",
       "\n",
       "    .dataframe tbody tr th {\n",
       "        vertical-align: top;\n",
       "    }\n",
       "\n",
       "    .dataframe thead th {\n",
       "        text-align: right;\n",
       "    }\n",
       "</style>\n",
       "<table border=\"1\" class=\"dataframe\">\n",
       "  <thead>\n",
       "    <tr style=\"text-align: right;\">\n",
       "      <th></th>\n",
       "      <th>id</th>\n",
       "      <th>username</th>\n",
       "      <th>type</th>\n",
       "      <th>title</th>\n",
       "      <th>text</th>\n",
       "      <th>rating</th>\n",
       "      <th>taObjectCity</th>\n",
       "    </tr>\n",
       "  </thead>\n",
       "  <tbody>\n",
       "    <tr>\n",
       "      <th>2576</th>\n",
       "      <td>32510</td>\n",
       "      <td>FamilyTravelJunkkie</td>\n",
       "      <td>Attractions</td>\n",
       "      <td>If you travel at the right time there are no c...</td>\n",
       "      <td>Disneyland is great and so is California Adven...</td>\n",
       "      <td>4</td>\n",
       "      <td>Anaheim</td>\n",
       "    </tr>\n",
       "    <tr>\n",
       "      <th>2581</th>\n",
       "      <td>32516</td>\n",
       "      <td>FamilyTravelJunkkie</td>\n",
       "      <td>Attractions</td>\n",
       "      <td>If you are a cricket fan</td>\n",
       "      <td>If you are a cricket fan Kensington Oval is de...</td>\n",
       "      <td>4</td>\n",
       "      <td>Bridgetown</td>\n",
       "    </tr>\n",
       "    <tr>\n",
       "      <th>2591</th>\n",
       "      <td>32580</td>\n",
       "      <td>Farnborough</td>\n",
       "      <td>Attractions</td>\n",
       "      <td>A bit of a joke really</td>\n",
       "      <td>This is not actually the original or genuine C...</td>\n",
       "      <td>1</td>\n",
       "      <td>Berlin</td>\n",
       "    </tr>\n",
       "    <tr>\n",
       "      <th>2594</th>\n",
       "      <td>32612</td>\n",
       "      <td>Farnborough</td>\n",
       "      <td>Attractions</td>\n",
       "      <td>Not worth visiting</td>\n",
       "      <td>As cat lovers, when we saw this mentioned in o...</td>\n",
       "      <td>1</td>\n",
       "      <td>Amsterdam</td>\n",
       "    </tr>\n",
       "    <tr>\n",
       "      <th>2595</th>\n",
       "      <td>32614</td>\n",
       "      <td>Farnborough</td>\n",
       "      <td>Attractions</td>\n",
       "      <td>Didn&amp;acute;t live up to expectations</td>\n",
       "      <td>This didnвЂ™t really live up to expectations f...</td>\n",
       "      <td>2</td>\n",
       "      <td>Amsterdam</td>\n",
       "    </tr>\n",
       "  </tbody>\n",
       "</table>\n",
       "</div>"
      ],
      "text/plain": [
       "         id             username         type  \\\n",
       "2576  32510  FamilyTravelJunkkie  Attractions   \n",
       "2581  32516  FamilyTravelJunkkie  Attractions   \n",
       "2591  32580          Farnborough  Attractions   \n",
       "2594  32612          Farnborough  Attractions   \n",
       "2595  32614          Farnborough  Attractions   \n",
       "\n",
       "                                                  title  \\\n",
       "2576  If you travel at the right time there are no c...   \n",
       "2581                           If you are a cricket fan   \n",
       "2591                             A bit of a joke really   \n",
       "2594                                 Not worth visiting   \n",
       "2595               Didn&acute;t live up to expectations   \n",
       "\n",
       "                                                   text  rating taObjectCity  \n",
       "2576  Disneyland is great and so is California Adven...       4      Anaheim  \n",
       "2581  If you are a cricket fan Kensington Oval is de...       4   Bridgetown  \n",
       "2591  This is not actually the original or genuine C...       1       Berlin  \n",
       "2594  As cat lovers, when we saw this mentioned in o...       1    Amsterdam  \n",
       "2595  This didnвЂ™t really live up to expectations f...       2    Amsterdam  "
      ]
     },
     "execution_count": 15,
     "metadata": {},
     "output_type": "execute_result"
    }
   ],
   "source": [
    "final_df.tail(5)"
   ]
  },
  {
   "cell_type": "code",
   "execution_count": 16,
   "metadata": {},
   "outputs": [
    {
     "data": {
      "text/plain": [
       "(963, 7)"
      ]
     },
     "execution_count": 16,
     "metadata": {},
     "output_type": "execute_result"
    }
   ],
   "source": [
    "final_df.shape"
   ]
  },
  {
   "cell_type": "markdown",
   "metadata": {},
   "source": [
    "# clustering functions"
   ]
  },
  {
   "cell_type": "code",
   "execution_count": 17,
   "metadata": {},
   "outputs": [],
   "source": [
    "cluster_input_df = final_df.copy()\n",
    "cluster_input_df = cluster_input_df[['title', 'text', 'taObjectCity']]"
   ]
  },
  {
   "cell_type": "code",
   "execution_count": 18,
   "metadata": {},
   "outputs": [
    {
     "data": {
      "text/html": [
       "<div>\n",
       "<style scoped>\n",
       "    .dataframe tbody tr th:only-of-type {\n",
       "        vertical-align: middle;\n",
       "    }\n",
       "\n",
       "    .dataframe tbody tr th {\n",
       "        vertical-align: top;\n",
       "    }\n",
       "\n",
       "    .dataframe thead th {\n",
       "        text-align: right;\n",
       "    }\n",
       "</style>\n",
       "<table border=\"1\" class=\"dataframe\">\n",
       "  <thead>\n",
       "    <tr style=\"text-align: right;\">\n",
       "      <th></th>\n",
       "      <th>title</th>\n",
       "      <th>text</th>\n",
       "      <th>taObjectCity</th>\n",
       "    </tr>\n",
       "  </thead>\n",
       "  <tbody>\n",
       "    <tr>\n",
       "      <th>2</th>\n",
       "      <td>See it before its gone</td>\n",
       "      <td>The box is only a temporary exhibit while cons...</td>\n",
       "      <td>Berlin</td>\n",
       "    </tr>\n",
       "    <tr>\n",
       "      <th>3</th>\n",
       "      <td>Worth a look for the architecture alone</td>\n",
       "      <td>A large collection, presented in a stunning bu...</td>\n",
       "      <td>Berlin</td>\n",
       "    </tr>\n",
       "    <tr>\n",
       "      <th>4</th>\n",
       "      <td>Fantastic</td>\n",
       "      <td>After reading all the hype about this show, I ...</td>\n",
       "      <td>London</td>\n",
       "    </tr>\n",
       "    <tr>\n",
       "      <th>5</th>\n",
       "      <td>Tranquility in a busy city</td>\n",
       "      <td>Sited within the main botanical gardens area o...</td>\n",
       "      <td>Kuala Lumpur</td>\n",
       "    </tr>\n",
       "    <tr>\n",
       "      <th>18</th>\n",
       "      <td>THIS SHOULD BE A FIRST STOP</td>\n",
       "      <td>First thing, this visiter center was not easy ...</td>\n",
       "      <td>Chattanooga</td>\n",
       "    </tr>\n",
       "  </tbody>\n",
       "</table>\n",
       "</div>"
      ],
      "text/plain": [
       "                                      title  \\\n",
       "2                    See it before its gone   \n",
       "3   Worth a look for the architecture alone   \n",
       "4                                 Fantastic   \n",
       "5                Tranquility in a busy city   \n",
       "18              THIS SHOULD BE A FIRST STOP   \n",
       "\n",
       "                                                 text  taObjectCity  \n",
       "2   The box is only a temporary exhibit while cons...        Berlin  \n",
       "3   A large collection, presented in a stunning bu...        Berlin  \n",
       "4   After reading all the hype about this show, I ...        London  \n",
       "5   Sited within the main botanical gardens area o...  Kuala Lumpur  \n",
       "18  First thing, this visiter center was not easy ...   Chattanooga  "
      ]
     },
     "execution_count": 18,
     "metadata": {},
     "output_type": "execute_result"
    }
   ],
   "source": [
    "cluster_input_df.head()"
   ]
  },
  {
   "cell_type": "code",
   "execution_count": 19,
   "metadata": {},
   "outputs": [
    {
     "data": {
      "text/html": [
       "<div>\n",
       "<style scoped>\n",
       "    .dataframe tbody tr th:only-of-type {\n",
       "        vertical-align: middle;\n",
       "    }\n",
       "\n",
       "    .dataframe tbody tr th {\n",
       "        vertical-align: top;\n",
       "    }\n",
       "\n",
       "    .dataframe thead th {\n",
       "        text-align: right;\n",
       "    }\n",
       "</style>\n",
       "<table border=\"1\" class=\"dataframe\">\n",
       "  <thead>\n",
       "    <tr style=\"text-align: right;\">\n",
       "      <th></th>\n",
       "      <th>id</th>\n",
       "      <th>username</th>\n",
       "      <th>type</th>\n",
       "      <th>title</th>\n",
       "      <th>text</th>\n",
       "      <th>rating</th>\n",
       "      <th>taObjectCity</th>\n",
       "    </tr>\n",
       "  </thead>\n",
       "  <tbody>\n",
       "    <tr>\n",
       "      <th>2</th>\n",
       "      <td>362</td>\n",
       "      <td>19Cam</td>\n",
       "      <td>Attractions</td>\n",
       "      <td>See it before its gone</td>\n",
       "      <td>The box is only a temporary exhibit while cons...</td>\n",
       "      <td>4</td>\n",
       "      <td>Berlin</td>\n",
       "    </tr>\n",
       "    <tr>\n",
       "      <th>3</th>\n",
       "      <td>363</td>\n",
       "      <td>19Cam</td>\n",
       "      <td>Attractions</td>\n",
       "      <td>Worth a look for the architecture alone</td>\n",
       "      <td>A large collection, presented in a stunning bu...</td>\n",
       "      <td>3</td>\n",
       "      <td>Berlin</td>\n",
       "    </tr>\n",
       "    <tr>\n",
       "      <th>4</th>\n",
       "      <td>378</td>\n",
       "      <td>19Cam</td>\n",
       "      <td>Attractions</td>\n",
       "      <td>Fantastic</td>\n",
       "      <td>After reading all the hype about this show, I ...</td>\n",
       "      <td>5</td>\n",
       "      <td>London</td>\n",
       "    </tr>\n",
       "    <tr>\n",
       "      <th>5</th>\n",
       "      <td>414</td>\n",
       "      <td>19Cam</td>\n",
       "      <td>Attractions</td>\n",
       "      <td>Tranquility in a busy city</td>\n",
       "      <td>Sited within the main botanical gardens area o...</td>\n",
       "      <td>4</td>\n",
       "      <td>Kuala Lumpur</td>\n",
       "    </tr>\n",
       "    <tr>\n",
       "      <th>18</th>\n",
       "      <td>778</td>\n",
       "      <td>1oldseagull</td>\n",
       "      <td>Attractions</td>\n",
       "      <td>THIS SHOULD BE A FIRST STOP</td>\n",
       "      <td>First thing, this visiter center was not easy ...</td>\n",
       "      <td>5</td>\n",
       "      <td>Chattanooga</td>\n",
       "    </tr>\n",
       "  </tbody>\n",
       "</table>\n",
       "</div>"
      ],
      "text/plain": [
       "     id     username         type                                    title  \\\n",
       "2   362        19Cam  Attractions                   See it before its gone   \n",
       "3   363        19Cam  Attractions  Worth a look for the architecture alone   \n",
       "4   378        19Cam  Attractions                                Fantastic   \n",
       "5   414        19Cam  Attractions               Tranquility in a busy city   \n",
       "18  778  1oldseagull  Attractions              THIS SHOULD BE A FIRST STOP   \n",
       "\n",
       "                                                 text  rating  taObjectCity  \n",
       "2   The box is only a temporary exhibit while cons...       4        Berlin  \n",
       "3   A large collection, presented in a stunning bu...       3        Berlin  \n",
       "4   After reading all the hype about this show, I ...       5        London  \n",
       "5   Sited within the main botanical gardens area o...       4  Kuala Lumpur  \n",
       "18  First thing, this visiter center was not easy ...       5   Chattanooga  "
      ]
     },
     "execution_count": 19,
     "metadata": {},
     "output_type": "execute_result"
    }
   ],
   "source": [
    "final_df.head()"
   ]
  },
  {
   "cell_type": "code",
   "execution_count": 20,
   "metadata": {},
   "outputs": [],
   "source": [
    "# span_mask1 = (final_df.username == 'AnaS1')\n",
    "# span_mask2 = (final_df.username == 'DaniLK')\n",
    "# span_mask3 = (final_df.username == 'Aprile_24')\n",
    "# non_city_mask = (final_df.taObjectCity == 'California')\n"
   ]
  },
  {
   "cell_type": "code",
   "execution_count": 21,
   "metadata": {},
   "outputs": [],
   "source": [
    "# final_df = final_df[~span_mask1][~span_mask2][~non_city_mask][~span_mask3]"
   ]
  },
  {
   "cell_type": "code",
   "execution_count": 22,
   "metadata": {},
   "outputs": [
    {
     "data": {
      "text/plain": [
       "(963, 7)"
      ]
     },
     "execution_count": 22,
     "metadata": {},
     "output_type": "execute_result"
    }
   ],
   "source": [
    "final_df.shape"
   ]
  },
  {
   "cell_type": "code",
   "execution_count": null,
   "metadata": {},
   "outputs": [],
   "source": []
  },
  {
   "cell_type": "code",
   "execution_count": null,
   "metadata": {},
   "outputs": [],
   "source": []
  },
  {
   "cell_type": "code",
   "execution_count": null,
   "metadata": {},
   "outputs": [],
   "source": []
  },
  {
   "cell_type": "code",
   "execution_count": 23,
   "metadata": {},
   "outputs": [],
   "source": [
    "# print(final_df.text.values[0])\n",
    "# print(final_df.text.values[1])"
   ]
  },
  {
   "cell_type": "code",
   "execution_count": 24,
   "metadata": {},
   "outputs": [],
   "source": [
    "df_title_comb = final_df.groupby(['taObjectCity']).apply(lambda x: ' '.join(x.title)).reset_index()\n",
    "df_text_comb = final_df.groupby(['taObjectCity']).apply(lambda x: ' '.join(x.text)).reset_index()"
   ]
  },
  {
   "cell_type": "code",
   "execution_count": 25,
   "metadata": {},
   "outputs": [
    {
     "data": {
      "text/html": [
       "<div>\n",
       "<style scoped>\n",
       "    .dataframe tbody tr th:only-of-type {\n",
       "        vertical-align: middle;\n",
       "    }\n",
       "\n",
       "    .dataframe tbody tr th {\n",
       "        vertical-align: top;\n",
       "    }\n",
       "\n",
       "    .dataframe thead th {\n",
       "        text-align: right;\n",
       "    }\n",
       "</style>\n",
       "<table border=\"1\" class=\"dataframe\">\n",
       "  <thead>\n",
       "    <tr style=\"text-align: right;\">\n",
       "      <th></th>\n",
       "      <th>taObjectCity</th>\n",
       "      <th>0</th>\n",
       "    </tr>\n",
       "  </thead>\n",
       "  <tbody>\n",
       "    <tr>\n",
       "      <th>0</th>\n",
       "      <td>Amsterdam</td>\n",
       "      <td>We found Van Gogh&amp;acute;s story so interesting...</td>\n",
       "    </tr>\n",
       "    <tr>\n",
       "      <th>1</th>\n",
       "      <td>Anaheim</td>\n",
       "      <td>Disney has taken time to build the new cars la...</td>\n",
       "    </tr>\n",
       "    <tr>\n",
       "      <th>2</th>\n",
       "      <td>Bangkok</td>\n",
       "      <td>Every Bangkok visit should include the Grand p...</td>\n",
       "    </tr>\n",
       "    <tr>\n",
       "      <th>3</th>\n",
       "      <td>Barcelona</td>\n",
       "      <td>The gardens are very pleasant, but nothing out...</td>\n",
       "    </tr>\n",
       "    <tr>\n",
       "      <th>4</th>\n",
       "      <td>Bergen</td>\n",
       "      <td>A hike that will leave you tired but smiling. ...</td>\n",
       "    </tr>\n",
       "  </tbody>\n",
       "</table>\n",
       "</div>"
      ],
      "text/plain": [
       "  taObjectCity                                                  0\n",
       "0    Amsterdam  We found Van Gogh&acute;s story so interesting...\n",
       "1      Anaheim  Disney has taken time to build the new cars la...\n",
       "2      Bangkok  Every Bangkok visit should include the Grand p...\n",
       "3    Barcelona  The gardens are very pleasant, but nothing out...\n",
       "4       Bergen  A hike that will leave you tired but smiling. ..."
      ]
     },
     "execution_count": 25,
     "metadata": {},
     "output_type": "execute_result"
    }
   ],
   "source": [
    "df_text_comb.head()"
   ]
  },
  {
   "cell_type": "code",
   "execution_count": 26,
   "metadata": {
    "scrolled": true
   },
   "outputs": [],
   "source": [
    "cluster_input_df = df_title_comb.merge(df_text_comb, on= 'taObjectCity')"
   ]
  },
  {
   "cell_type": "code",
   "execution_count": 27,
   "metadata": {},
   "outputs": [
    {
     "data": {
      "text/html": [
       "<div>\n",
       "<style scoped>\n",
       "    .dataframe tbody tr th:only-of-type {\n",
       "        vertical-align: middle;\n",
       "    }\n",
       "\n",
       "    .dataframe tbody tr th {\n",
       "        vertical-align: top;\n",
       "    }\n",
       "\n",
       "    .dataframe thead th {\n",
       "        text-align: right;\n",
       "    }\n",
       "</style>\n",
       "<table border=\"1\" class=\"dataframe\">\n",
       "  <thead>\n",
       "    <tr style=\"text-align: right;\">\n",
       "      <th></th>\n",
       "      <th>taObjectCity</th>\n",
       "      <th>0_x</th>\n",
       "      <th>0_y</th>\n",
       "    </tr>\n",
       "  </thead>\n",
       "  <tbody>\n",
       "    <tr>\n",
       "      <th>0</th>\n",
       "      <td>Amsterdam</td>\n",
       "      <td>An interesting Story from start to finish A Mu...</td>\n",
       "      <td>We found Van Gogh&amp;acute;s story so interesting...</td>\n",
       "    </tr>\n",
       "    <tr>\n",
       "      <th>1</th>\n",
       "      <td>Anaheim</td>\n",
       "      <td>Cars land a great addition Easy shopping an ol...</td>\n",
       "      <td>Disney has taken time to build the new cars la...</td>\n",
       "    </tr>\n",
       "    <tr>\n",
       "      <th>2</th>\n",
       "      <td>Bangkok</td>\n",
       "      <td>Impressive indeed! Must do also :) Nice one - ...</td>\n",
       "      <td>Every Bangkok visit should include the Grand p...</td>\n",
       "    </tr>\n",
       "    <tr>\n",
       "      <th>3</th>\n",
       "      <td>Barcelona</td>\n",
       "      <td>OK More than a club Just wow! Cosmo Scooter - ...</td>\n",
       "      <td>The gardens are very pleasant, but nothing out...</td>\n",
       "    </tr>\n",
       "    <tr>\n",
       "      <th>4</th>\n",
       "      <td>Bergen</td>\n",
       "      <td>A Great Hike! Touristy and Pricey A Must-Do......</td>\n",
       "      <td>A hike that will leave you tired but smiling. ...</td>\n",
       "    </tr>\n",
       "  </tbody>\n",
       "</table>\n",
       "</div>"
      ],
      "text/plain": [
       "  taObjectCity                                                0_x  \\\n",
       "0    Amsterdam  An interesting Story from start to finish A Mu...   \n",
       "1      Anaheim  Cars land a great addition Easy shopping an ol...   \n",
       "2      Bangkok  Impressive indeed! Must do also :) Nice one - ...   \n",
       "3    Barcelona  OK More than a club Just wow! Cosmo Scooter - ...   \n",
       "4       Bergen  A Great Hike! Touristy and Pricey A Must-Do......   \n",
       "\n",
       "                                                 0_y  \n",
       "0  We found Van Gogh&acute;s story so interesting...  \n",
       "1  Disney has taken time to build the new cars la...  \n",
       "2  Every Bangkok visit should include the Grand p...  \n",
       "3  The gardens are very pleasant, but nothing out...  \n",
       "4  A hike that will leave you tired but smiling. ...  "
      ]
     },
     "execution_count": 27,
     "metadata": {},
     "output_type": "execute_result"
    }
   ],
   "source": [
    "cluster_input_df.head()"
   ]
  },
  {
   "cell_type": "code",
   "execution_count": 28,
   "metadata": {},
   "outputs": [
    {
     "data": {
      "text/html": [
       "<div>\n",
       "<style scoped>\n",
       "    .dataframe tbody tr th:only-of-type {\n",
       "        vertical-align: middle;\n",
       "    }\n",
       "\n",
       "    .dataframe tbody tr th {\n",
       "        vertical-align: top;\n",
       "    }\n",
       "\n",
       "    .dataframe thead th {\n",
       "        text-align: right;\n",
       "    }\n",
       "</style>\n",
       "<table border=\"1\" class=\"dataframe\">\n",
       "  <thead>\n",
       "    <tr style=\"text-align: right;\">\n",
       "      <th></th>\n",
       "      <th>taObjectCity</th>\n",
       "      <th>title</th>\n",
       "      <th>text</th>\n",
       "    </tr>\n",
       "  </thead>\n",
       "  <tbody>\n",
       "    <tr>\n",
       "      <th>0</th>\n",
       "      <td>Amsterdam</td>\n",
       "      <td>An interesting Story from start to finish A Mu...</td>\n",
       "      <td>We found Van Gogh&amp;acute;s story so interesting...</td>\n",
       "    </tr>\n",
       "    <tr>\n",
       "      <th>1</th>\n",
       "      <td>Anaheim</td>\n",
       "      <td>Cars land a great addition Easy shopping an ol...</td>\n",
       "      <td>Disney has taken time to build the new cars la...</td>\n",
       "    </tr>\n",
       "    <tr>\n",
       "      <th>2</th>\n",
       "      <td>Bangkok</td>\n",
       "      <td>Impressive indeed! Must do also :) Nice one - ...</td>\n",
       "      <td>Every Bangkok visit should include the Grand p...</td>\n",
       "    </tr>\n",
       "    <tr>\n",
       "      <th>3</th>\n",
       "      <td>Barcelona</td>\n",
       "      <td>OK More than a club Just wow! Cosmo Scooter - ...</td>\n",
       "      <td>The gardens are very pleasant, but nothing out...</td>\n",
       "    </tr>\n",
       "    <tr>\n",
       "      <th>4</th>\n",
       "      <td>Bergen</td>\n",
       "      <td>A Great Hike! Touristy and Pricey A Must-Do......</td>\n",
       "      <td>A hike that will leave you tired but smiling. ...</td>\n",
       "    </tr>\n",
       "  </tbody>\n",
       "</table>\n",
       "</div>"
      ],
      "text/plain": [
       "  taObjectCity                                              title  \\\n",
       "0    Amsterdam  An interesting Story from start to finish A Mu...   \n",
       "1      Anaheim  Cars land a great addition Easy shopping an ol...   \n",
       "2      Bangkok  Impressive indeed! Must do also :) Nice one - ...   \n",
       "3    Barcelona  OK More than a club Just wow! Cosmo Scooter - ...   \n",
       "4       Bergen  A Great Hike! Touristy and Pricey A Must-Do......   \n",
       "\n",
       "                                                text  \n",
       "0  We found Van Gogh&acute;s story so interesting...  \n",
       "1  Disney has taken time to build the new cars la...  \n",
       "2  Every Bangkok visit should include the Grand p...  \n",
       "3  The gardens are very pleasant, but nothing out...  \n",
       "4  A hike that will leave you tired but smiling. ...  "
      ]
     },
     "execution_count": 28,
     "metadata": {},
     "output_type": "execute_result"
    }
   ],
   "source": [
    "cluster_input_df.columns = ['taObjectCity','title','text']\n",
    "cluster_input_df.head()"
   ]
  },
  {
   "cell_type": "code",
   "execution_count": 29,
   "metadata": {},
   "outputs": [],
   "source": [
    "cluster_input_df.set_index(['taObjectCity'], drop=True, inplace=True)"
   ]
  },
  {
   "cell_type": "code",
   "execution_count": 30,
   "metadata": {},
   "outputs": [
    {
     "data": {
      "text/html": [
       "<div>\n",
       "<style scoped>\n",
       "    .dataframe tbody tr th:only-of-type {\n",
       "        vertical-align: middle;\n",
       "    }\n",
       "\n",
       "    .dataframe tbody tr th {\n",
       "        vertical-align: top;\n",
       "    }\n",
       "\n",
       "    .dataframe thead th {\n",
       "        text-align: right;\n",
       "    }\n",
       "</style>\n",
       "<table border=\"1\" class=\"dataframe\">\n",
       "  <thead>\n",
       "    <tr style=\"text-align: right;\">\n",
       "      <th></th>\n",
       "      <th>title</th>\n",
       "      <th>text</th>\n",
       "    </tr>\n",
       "    <tr>\n",
       "      <th>taObjectCity</th>\n",
       "      <th></th>\n",
       "      <th></th>\n",
       "    </tr>\n",
       "  </thead>\n",
       "  <tbody>\n",
       "    <tr>\n",
       "      <th>Amsterdam</th>\n",
       "      <td>An interesting Story from start to finish A Mu...</td>\n",
       "      <td>We found Van Gogh&amp;acute;s story so interesting...</td>\n",
       "    </tr>\n",
       "    <tr>\n",
       "      <th>Anaheim</th>\n",
       "      <td>Cars land a great addition Easy shopping an ol...</td>\n",
       "      <td>Disney has taken time to build the new cars la...</td>\n",
       "    </tr>\n",
       "    <tr>\n",
       "      <th>Bangkok</th>\n",
       "      <td>Impressive indeed! Must do also :) Nice one - ...</td>\n",
       "      <td>Every Bangkok visit should include the Grand p...</td>\n",
       "    </tr>\n",
       "    <tr>\n",
       "      <th>Barcelona</th>\n",
       "      <td>OK More than a club Just wow! Cosmo Scooter - ...</td>\n",
       "      <td>The gardens are very pleasant, but nothing out...</td>\n",
       "    </tr>\n",
       "    <tr>\n",
       "      <th>Bergen</th>\n",
       "      <td>A Great Hike! Touristy and Pricey A Must-Do......</td>\n",
       "      <td>A hike that will leave you tired but smiling. ...</td>\n",
       "    </tr>\n",
       "  </tbody>\n",
       "</table>\n",
       "</div>"
      ],
      "text/plain": [
       "                                                          title  \\\n",
       "taObjectCity                                                      \n",
       "Amsterdam     An interesting Story from start to finish A Mu...   \n",
       "Anaheim       Cars land a great addition Easy shopping an ol...   \n",
       "Bangkok       Impressive indeed! Must do also :) Nice one - ...   \n",
       "Barcelona     OK More than a club Just wow! Cosmo Scooter - ...   \n",
       "Bergen        A Great Hike! Touristy and Pricey A Must-Do......   \n",
       "\n",
       "                                                           text  \n",
       "taObjectCity                                                     \n",
       "Amsterdam     We found Van Gogh&acute;s story so interesting...  \n",
       "Anaheim       Disney has taken time to build the new cars la...  \n",
       "Bangkok       Every Bangkok visit should include the Grand p...  \n",
       "Barcelona     The gardens are very pleasant, but nothing out...  \n",
       "Bergen        A hike that will leave you tired but smiling. ...  "
      ]
     },
     "execution_count": 30,
     "metadata": {},
     "output_type": "execute_result"
    }
   ],
   "source": [
    "cluster_input_df.head()"
   ]
  },
  {
   "cell_type": "code",
   "execution_count": 642,
   "metadata": {},
   "outputs": [],
   "source": [
    "\n",
    "\n",
    "def cluster_texts(texts, clusters=3):\n",
    "    \"\"\" \n",
    "    Transform texts to Tf-Idf coordinates and cluster texts using K-Means \n",
    "    \"\"\"\n",
    "    #my_additional_stop_words = ['acute', 'good', 'great', 'really', 'just', 'nice', 'like', 'day']\n",
    "    my_additional_stop_words = ['acute', 'good', 'great', 'really', 'just', 'nice', \n",
    "                                'like', 'day', 'beautiful', 'visit', 'time', 'don',\n",
    "                                'did', 'place', 'didn', 'did', 'tour', 'sydney','pm',\n",
    "                                'lot', '00', 'inside', 'istanbul', 'doesn','going',\n",
    "                                'right', '15']\n",
    "    stop_words = text.ENGLISH_STOP_WORDS.union(my_additional_stop_words)\n",
    "    \n",
    "    \n",
    "    vectorizer = TfidfVectorizer(stop_words= stop_words,\n",
    "                                 max_features = 400,\n",
    "                                 lowercase=True)\n",
    " \n",
    "    tfidf_model = vectorizer.fit_transform(texts)\n",
    "    vectors = tfidf_model.toarray()\n",
    "    cols = vectorizer.get_feature_names()\n",
    "\n",
    "    return (vectors, cols)\n",
    "\n",
    "\n",
    "def cluster(vectors, cols, texts):\n",
    "    \"\"\"\n",
    "    Cluster vecotirzed reviews and create k books a data frame relating the\n",
    "    k label to the book id\n",
    "    \"\"\"\n",
    "    kmeans = KMeans(n_clusters=5, random_state=2929292).fit(vectors)\n",
    "    k_books = pd.DataFrame(list(zip(list(kmeans.labels_),\n",
    "                                list(texts.index))),\n",
    "                                columns=['cluster_k', 'city_index'])\n",
    "    \n",
    "    ''' added code to print centriod vocab - Print the top n words from all centroids vocab\n",
    "    '''\n",
    "    n = 20\n",
    "    centroids = kmeans.cluster_centers_\n",
    "    for ind, c in enumerate(centroids):\n",
    "        print(ind)\n",
    "        indices = c.argsort()[-1:-n-1:-1]\n",
    "        print([cols[i] for i in indices])\n",
    "        print(\"==\"*20)\n",
    "    \n",
    "    return k_books"
   ]
  },
  {
   "cell_type": "code",
   "execution_count": 643,
   "metadata": {},
   "outputs": [],
   "source": [
    "#reviews = cluster_input_df.title + ' ' + cluster_input_df.text\n",
    "reviews = cluster_input_df.text\n",
    "\n",
    "#reviews = final_df.title + ' ' + final_df.text\n",
    "content = [i for i in reviews]\n"
   ]
  },
  {
   "cell_type": "code",
   "execution_count": 644,
   "metadata": {},
   "outputs": [
    {
     "name": "stdout",
     "output_type": "stream",
     "text": [
      "0\n",
      "['museum', 'history', 'interesting', 'guide', 'building', 'hours', 'walk', 'worth', 'city', 'people', 'way', 'church', 'lovely', 'took', 'art', 'went', 'tickets', 'main', 'floor', 'little']\n",
      "========================================\n",
      "1\n",
      "['worth', 'experience', 'fun', 'food', 'free', 'people', 'bar', 'trip', 'view', 'way', 'park', 'minutes', 'boat', 'went', 'bay', 'drinks', 'hotel', 'san', 'city', 'need']\n",
      "========================================\n",
      "2\n",
      "['trail', 'falls', 'hike', 'road', 'memorial', 'water', 'area', 'views', 'bear', 'beach', 'walk', 'easy', 'morning', 'make', 'minutes', 'way', 'ride', 'view', 'parking', 'boat']\n",
      "========================================\n",
      "3\n",
      "['town', 'worth', 'train', 'old', 'gardens', 'central', 'free', 'busy', 'walk', 'river', 'building', 'store', 'cars', 'area', 'best', 'friendly', 'lovely', 'views', 'bridge', 'walking']\n",
      "========================================\n",
      "4\n",
      "['park', 'disney', 'parking', 'rides', 'love', 'food', 'kids', 'ride', 'movie', 'cars', 'pass', 'house', 'early', 'best', 'lots', 'fun', 'shows', 'husband', 'hour', 'area']\n",
      "========================================\n"
     ]
    }
   ],
   "source": [
    "vector, cols = cluster_texts(content, 5)\n",
    "cluster_df = cluster(vector, cols, reviews)"
   ]
  },
  {
   "cell_type": "markdown",
   "metadata": {},
   "source": [
    "#593043848\n",
    "\n",
    "\n",
    "0\n",
    "['visit', 'beautiful', 'inside', 'place', 'tour', 'worth', 'building', 'museum', 'outside', 'impressive', 'interesting', 'lovely', 'time', 'barcelona', 'city', 'walk', 'excellent', 'cathedral', 'old', 'history']\n",
    "========================================\n",
    "1\n",
    "['museum', 'ship', 'gate', 'tiki', 'temple', 'museums', 'story', 'beautiful', 'small', 'main', 'christmas', 'snow', 'time', 'visit', 'miss', 'pretty', 'minute', 'walk', '15', 'crowd']\n",
    "========================================\n",
    "2\n",
    "['tour', 'time', 'worth', 'museum', 'place', 'visit', 'fun', 'history', 'guide', 'people', 'interesting', 'experience', 'lot', 'building', 'way', 'went', 'did', 'park', 'little', 'food']\n",
    "========================================\n",
    "3\n",
    "['tour', 'train', 'free', 'place', 'visit', 'park', 'food', 'walk', 'fun', 'time', 'view', 'worth', 'hk', 'experience', 'aquarium', 'old', 'sydney', 'istanbul', 'shopping', 'dubai']\n",
    "========================================\n",
    "4\n",
    "['falls', 'trail', 'hike', 'valley', 'yellowstone', 'memorial', 'water', 'road', 'area', 'views', 'right', 'walk', 'hiking', 'beach', 'grove', 'view', 'easy', 'visit', 'worth', 'ride']"
   ]
  },
  {
   "cell_type": "markdown",
   "metadata": {},
   "source": [
    "# 34728870\n",
    "0\n",
    "['fun', 'train', 'free', 'place', 'food', 'time', 'vegas', 'experience', 'central', 'park', 'people', 'hk', 'old', 'lot', 'dubai', 'view', 'worth', 'singapore', 'amazing', 'way']\n",
    "========================================\n",
    "1\n",
    "['museum', 'st', 'inside', 'art', 'place', 'jazz', 'gate', 'worth', 'time', 'museums', 'impressive', 'pm', 'temple', 'history', 'don', 'tiki', 'tour', 'work', 'west', 'world']\n",
    "========================================\n",
    "2\n",
    "['tour', 'place', 'worth', 'time', 'museum', 'interesting', 'guide', 'building', 'walk', 'history', 'city', 'lovely', 'did', 'experience', 'inside', 'excellent', 'fun', 'little', 'way', 'trip']\n",
    "========================================\n",
    "3\n",
    "['falls', 'trail', 'hike', 'valley', 'yellowstone', 'memorial', 'water', 'road', 'area', 'views', 'right', 'walk', 'hiking', 'beach', 'grove', 'view', 'easy', 'worth', 'ride', 'nature']\n",
    "========================================\n",
    "4\n",
    "['diego', 'universal', 'san', 'parking', 'park', 'cars', 'time', 'rides', 'store', 'california', 'movie', 'center', 'tour', 'street', 'place', 'disney', 'river', 'shopping', 'spend', 'best']"
   ]
  },
  {
   "cell_type": "markdown",
   "metadata": {},
   "source": [
    "# 2929292, max feature 400:\n",
    "\n",
    "\n",
    "0\n",
    "['museum', 'history', 'interesting', 'guide', 'building', 'hours', 'walk', 'worth', 'city', 'people', 'way', 'church', 'lovely', 'took', 'art', 'went', 'tickets', 'main', 'floor', 'little']\n",
    "========================================\n",
    "1\n",
    "['worth', 'experience', 'fun', 'food', 'free', 'people', 'bar', 'trip', 'view', 'way', 'park', 'minutes', 'boat', 'went', 'bay', 'drinks', 'hotel', 'san', 'city', 'need']\n",
    "========================================\n",
    "2\n",
    "['trail', 'falls', 'hike', 'road', 'memorial', 'water', 'area', 'views', 'bear', 'beach', 'walk', 'easy', 'morning', 'make', 'minutes', 'way', 'ride', 'view', 'parking', 'boat']\n",
    "========================================\n",
    "3\n",
    "['town', 'worth', 'train', 'old', 'gardens', 'central', 'free', 'busy', 'walk', 'river', 'building', 'store', 'cars', 'area', 'best', 'friendly', 'lovely', 'views', 'bridge', 'walking']\n",
    "========================================\n",
    "4\n",
    "['park', 'disney', 'parking', 'rides', 'love', 'food', 'kids', 'ride', 'movie', 'cars', 'pass', 'house', 'early', 'best', 'lots', 'fun', 'shows', 'husband', 'hour', 'area']"
   ]
  },
  {
   "cell_type": "code",
   "execution_count": 652,
   "metadata": {},
   "outputs": [],
   "source": [
    "cluster0_mask = (cluster_df['cluster_k'] ==0)\n",
    "cluster1_mask = (cluster_df['cluster_k'] ==1)\n",
    "cluster2_mask = (cluster_df['cluster_k'] ==2)\n",
    "cluster3_mask = (cluster_df['cluster_k'] ==3)\n",
    "cluster4_mask = (cluster_df['cluster_k'] ==4)\n",
    "\n",
    "# random state - 347837898\n"
   ]
  },
  {
   "cell_type": "code",
   "execution_count": 653,
   "metadata": {},
   "outputs": [
    {
     "data": {
      "text/html": [
       "<div>\n",
       "<style scoped>\n",
       "    .dataframe tbody tr th:only-of-type {\n",
       "        vertical-align: middle;\n",
       "    }\n",
       "\n",
       "    .dataframe tbody tr th {\n",
       "        vertical-align: top;\n",
       "    }\n",
       "\n",
       "    .dataframe thead th {\n",
       "        text-align: right;\n",
       "    }\n",
       "</style>\n",
       "<table border=\"1\" class=\"dataframe\">\n",
       "  <thead>\n",
       "    <tr style=\"text-align: right;\">\n",
       "      <th></th>\n",
       "      <th>cluster_k</th>\n",
       "      <th>city_index</th>\n",
       "    </tr>\n",
       "  </thead>\n",
       "  <tbody>\n",
       "    <tr>\n",
       "      <th>0</th>\n",
       "      <td>0</td>\n",
       "      <td>Amsterdam</td>\n",
       "    </tr>\n",
       "    <tr>\n",
       "      <th>3</th>\n",
       "      <td>0</td>\n",
       "      <td>Barcelona</td>\n",
       "    </tr>\n",
       "    <tr>\n",
       "      <th>5</th>\n",
       "      <td>0</td>\n",
       "      <td>Berlin</td>\n",
       "    </tr>\n",
       "    <tr>\n",
       "      <th>8</th>\n",
       "      <td>0</td>\n",
       "      <td>Budapest</td>\n",
       "    </tr>\n",
       "    <tr>\n",
       "      <th>12</th>\n",
       "      <td>0</td>\n",
       "      <td>Edinburgh</td>\n",
       "    </tr>\n",
       "    <tr>\n",
       "      <th>16</th>\n",
       "      <td>0</td>\n",
       "      <td>Istanbul</td>\n",
       "    </tr>\n",
       "    <tr>\n",
       "      <th>19</th>\n",
       "      <td>0</td>\n",
       "      <td>Kyoto</td>\n",
       "    </tr>\n",
       "    <tr>\n",
       "      <th>25</th>\n",
       "      <td>0</td>\n",
       "      <td>Madrid</td>\n",
       "    </tr>\n",
       "    <tr>\n",
       "      <th>28</th>\n",
       "      <td>0</td>\n",
       "      <td>Moscow</td>\n",
       "    </tr>\n",
       "    <tr>\n",
       "      <th>30</th>\n",
       "      <td>0</td>\n",
       "      <td>Nashville</td>\n",
       "    </tr>\n",
       "    <tr>\n",
       "      <th>32</th>\n",
       "      <td>0</td>\n",
       "      <td>New York City</td>\n",
       "    </tr>\n",
       "    <tr>\n",
       "      <th>36</th>\n",
       "      <td>0</td>\n",
       "      <td>Oslo</td>\n",
       "    </tr>\n",
       "    <tr>\n",
       "      <th>37</th>\n",
       "      <td>0</td>\n",
       "      <td>Paris</td>\n",
       "    </tr>\n",
       "    <tr>\n",
       "      <th>38</th>\n",
       "      <td>0</td>\n",
       "      <td>Reykjavik</td>\n",
       "    </tr>\n",
       "    <tr>\n",
       "      <th>39</th>\n",
       "      <td>0</td>\n",
       "      <td>Rome</td>\n",
       "    </tr>\n",
       "    <tr>\n",
       "      <th>45</th>\n",
       "      <td>0</td>\n",
       "      <td>St. Petersburg</td>\n",
       "    </tr>\n",
       "    <tr>\n",
       "      <th>46</th>\n",
       "      <td>0</td>\n",
       "      <td>Stockholm</td>\n",
       "    </tr>\n",
       "    <tr>\n",
       "      <th>47</th>\n",
       "      <td>0</td>\n",
       "      <td>Stratford-upon-Avon</td>\n",
       "    </tr>\n",
       "    <tr>\n",
       "      <th>53</th>\n",
       "      <td>0</td>\n",
       "      <td>Washington DC</td>\n",
       "    </tr>\n",
       "  </tbody>\n",
       "</table>\n",
       "</div>"
      ],
      "text/plain": [
       "    cluster_k           city_index\n",
       "0           0            Amsterdam\n",
       "3           0            Barcelona\n",
       "5           0               Berlin\n",
       "8           0             Budapest\n",
       "12          0            Edinburgh\n",
       "16          0             Istanbul\n",
       "19          0                Kyoto\n",
       "25          0               Madrid\n",
       "28          0               Moscow\n",
       "30          0            Nashville\n",
       "32          0        New York City\n",
       "36          0                 Oslo\n",
       "37          0                Paris\n",
       "38          0            Reykjavik\n",
       "39          0                 Rome\n",
       "45          0       St. Petersburg\n",
       "46          0            Stockholm\n",
       "47          0  Stratford-upon-Avon\n",
       "53          0        Washington DC"
      ]
     },
     "execution_count": 653,
     "metadata": {},
     "output_type": "execute_result"
    }
   ],
   "source": [
    "cluster_df[cluster0_mask]"
   ]
  },
  {
   "cell_type": "code",
   "execution_count": 647,
   "metadata": {},
   "outputs": [
    {
     "data": {
      "text/html": [
       "<div>\n",
       "<style scoped>\n",
       "    .dataframe tbody tr th:only-of-type {\n",
       "        vertical-align: middle;\n",
       "    }\n",
       "\n",
       "    .dataframe tbody tr th {\n",
       "        vertical-align: top;\n",
       "    }\n",
       "\n",
       "    .dataframe thead th {\n",
       "        text-align: right;\n",
       "    }\n",
       "</style>\n",
       "<table border=\"1\" class=\"dataframe\">\n",
       "  <thead>\n",
       "    <tr style=\"text-align: right;\">\n",
       "      <th></th>\n",
       "      <th>cluster_k</th>\n",
       "      <th>city_index</th>\n",
       "    </tr>\n",
       "  </thead>\n",
       "  <tbody>\n",
       "    <tr>\n",
       "      <th>2</th>\n",
       "      <td>1</td>\n",
       "      <td>Bangkok</td>\n",
       "    </tr>\n",
       "    <tr>\n",
       "      <th>6</th>\n",
       "      <td>1</td>\n",
       "      <td>Boston</td>\n",
       "    </tr>\n",
       "    <tr>\n",
       "      <th>7</th>\n",
       "      <td>1</td>\n",
       "      <td>Bridgetown</td>\n",
       "    </tr>\n",
       "    <tr>\n",
       "      <th>10</th>\n",
       "      <td>1</td>\n",
       "      <td>Chicago</td>\n",
       "    </tr>\n",
       "    <tr>\n",
       "      <th>11</th>\n",
       "      <td>1</td>\n",
       "      <td>Dubai</td>\n",
       "    </tr>\n",
       "    <tr>\n",
       "      <th>13</th>\n",
       "      <td>1</td>\n",
       "      <td>Helsinki</td>\n",
       "    </tr>\n",
       "    <tr>\n",
       "      <th>14</th>\n",
       "      <td>1</td>\n",
       "      <td>Hong Kong</td>\n",
       "    </tr>\n",
       "    <tr>\n",
       "      <th>18</th>\n",
       "      <td>1</td>\n",
       "      <td>Kuala Lumpur</td>\n",
       "    </tr>\n",
       "    <tr>\n",
       "      <th>21</th>\n",
       "      <td>1</td>\n",
       "      <td>Las Vegas</td>\n",
       "    </tr>\n",
       "    <tr>\n",
       "      <th>22</th>\n",
       "      <td>1</td>\n",
       "      <td>London</td>\n",
       "    </tr>\n",
       "    <tr>\n",
       "      <th>26</th>\n",
       "      <td>1</td>\n",
       "      <td>Melbourne</td>\n",
       "    </tr>\n",
       "    <tr>\n",
       "      <th>27</th>\n",
       "      <td>1</td>\n",
       "      <td>Monterey</td>\n",
       "    </tr>\n",
       "    <tr>\n",
       "      <th>31</th>\n",
       "      <td>1</td>\n",
       "      <td>New Orleans</td>\n",
       "    </tr>\n",
       "    <tr>\n",
       "      <th>41</th>\n",
       "      <td>1</td>\n",
       "      <td>San Diego</td>\n",
       "    </tr>\n",
       "    <tr>\n",
       "      <th>42</th>\n",
       "      <td>1</td>\n",
       "      <td>San Francisco</td>\n",
       "    </tr>\n",
       "    <tr>\n",
       "      <th>43</th>\n",
       "      <td>1</td>\n",
       "      <td>Seattle</td>\n",
       "    </tr>\n",
       "    <tr>\n",
       "      <th>44</th>\n",
       "      <td>1</td>\n",
       "      <td>Singapore</td>\n",
       "    </tr>\n",
       "    <tr>\n",
       "      <th>48</th>\n",
       "      <td>1</td>\n",
       "      <td>Sydney</td>\n",
       "    </tr>\n",
       "    <tr>\n",
       "      <th>49</th>\n",
       "      <td>1</td>\n",
       "      <td>Toronto</td>\n",
       "    </tr>\n",
       "    <tr>\n",
       "      <th>50</th>\n",
       "      <td>1</td>\n",
       "      <td>Vancouver</td>\n",
       "    </tr>\n",
       "    <tr>\n",
       "      <th>51</th>\n",
       "      <td>1</td>\n",
       "      <td>Venice</td>\n",
       "    </tr>\n",
       "  </tbody>\n",
       "</table>\n",
       "</div>"
      ],
      "text/plain": [
       "    cluster_k     city_index\n",
       "2           1        Bangkok\n",
       "6           1         Boston\n",
       "7           1     Bridgetown\n",
       "10          1        Chicago\n",
       "11          1          Dubai\n",
       "13          1       Helsinki\n",
       "14          1      Hong Kong\n",
       "18          1   Kuala Lumpur\n",
       "21          1      Las Vegas\n",
       "22          1         London\n",
       "26          1      Melbourne\n",
       "27          1       Monterey\n",
       "31          1    New Orleans\n",
       "41          1      San Diego\n",
       "42          1  San Francisco\n",
       "43          1        Seattle\n",
       "44          1      Singapore\n",
       "48          1         Sydney\n",
       "49          1        Toronto\n",
       "50          1      Vancouver\n",
       "51          1         Venice"
      ]
     },
     "execution_count": 647,
     "metadata": {},
     "output_type": "execute_result"
    }
   ],
   "source": [
    "cluster_df[cluster1_mask]"
   ]
  },
  {
   "cell_type": "code",
   "execution_count": 648,
   "metadata": {
    "scrolled": true
   },
   "outputs": [
    {
     "data": {
      "text/html": [
       "<div>\n",
       "<style scoped>\n",
       "    .dataframe tbody tr th:only-of-type {\n",
       "        vertical-align: middle;\n",
       "    }\n",
       "\n",
       "    .dataframe tbody tr th {\n",
       "        vertical-align: top;\n",
       "    }\n",
       "\n",
       "    .dataframe thead th {\n",
       "        text-align: right;\n",
       "    }\n",
       "</style>\n",
       "<table border=\"1\" class=\"dataframe\">\n",
       "  <thead>\n",
       "    <tr style=\"text-align: right;\">\n",
       "      <th></th>\n",
       "      <th>cluster_k</th>\n",
       "      <th>city_index</th>\n",
       "    </tr>\n",
       "  </thead>\n",
       "  <tbody>\n",
       "    <tr>\n",
       "      <th>4</th>\n",
       "      <td>2</td>\n",
       "      <td>Bergen</td>\n",
       "    </tr>\n",
       "    <tr>\n",
       "      <th>15</th>\n",
       "      <td>2</td>\n",
       "      <td>Honolulu</td>\n",
       "    </tr>\n",
       "    <tr>\n",
       "      <th>33</th>\n",
       "      <td>2</td>\n",
       "      <td>Niagara Falls</td>\n",
       "    </tr>\n",
       "    <tr>\n",
       "      <th>54</th>\n",
       "      <td>2</td>\n",
       "      <td>Yellowstone National Park</td>\n",
       "    </tr>\n",
       "    <tr>\n",
       "      <th>55</th>\n",
       "      <td>2</td>\n",
       "      <td>Yosemite National Park</td>\n",
       "    </tr>\n",
       "  </tbody>\n",
       "</table>\n",
       "</div>"
      ],
      "text/plain": [
       "    cluster_k                 city_index\n",
       "4           2                     Bergen\n",
       "15          2                   Honolulu\n",
       "33          2              Niagara Falls\n",
       "54          2  Yellowstone National Park\n",
       "55          2     Yosemite National Park"
      ]
     },
     "execution_count": 648,
     "metadata": {},
     "output_type": "execute_result"
    }
   ],
   "source": [
    "cluster_df[cluster2_mask]"
   ]
  },
  {
   "cell_type": "code",
   "execution_count": 649,
   "metadata": {},
   "outputs": [
    {
     "data": {
      "text/html": [
       "<div>\n",
       "<style scoped>\n",
       "    .dataframe tbody tr th:only-of-type {\n",
       "        vertical-align: middle;\n",
       "    }\n",
       "\n",
       "    .dataframe tbody tr th {\n",
       "        vertical-align: top;\n",
       "    }\n",
       "\n",
       "    .dataframe thead th {\n",
       "        text-align: right;\n",
       "    }\n",
       "</style>\n",
       "<table border=\"1\" class=\"dataframe\">\n",
       "  <thead>\n",
       "    <tr style=\"text-align: right;\">\n",
       "      <th></th>\n",
       "      <th>cluster_k</th>\n",
       "      <th>city_index</th>\n",
       "    </tr>\n",
       "  </thead>\n",
       "  <tbody>\n",
       "    <tr>\n",
       "      <th>9</th>\n",
       "      <td>3</td>\n",
       "      <td>Chattanooga</td>\n",
       "    </tr>\n",
       "    <tr>\n",
       "      <th>17</th>\n",
       "      <td>3</td>\n",
       "      <td>Key West</td>\n",
       "    </tr>\n",
       "    <tr>\n",
       "      <th>24</th>\n",
       "      <td>3</td>\n",
       "      <td>Lucerne</td>\n",
       "    </tr>\n",
       "    <tr>\n",
       "      <th>29</th>\n",
       "      <td>3</td>\n",
       "      <td>Munich</td>\n",
       "    </tr>\n",
       "    <tr>\n",
       "      <th>34</th>\n",
       "      <td>3</td>\n",
       "      <td>Nice</td>\n",
       "    </tr>\n",
       "    <tr>\n",
       "      <th>40</th>\n",
       "      <td>3</td>\n",
       "      <td>Salzburg</td>\n",
       "    </tr>\n",
       "    <tr>\n",
       "      <th>52</th>\n",
       "      <td>3</td>\n",
       "      <td>Vienna</td>\n",
       "    </tr>\n",
       "  </tbody>\n",
       "</table>\n",
       "</div>"
      ],
      "text/plain": [
       "    cluster_k   city_index\n",
       "9           3  Chattanooga\n",
       "17          3     Key West\n",
       "24          3      Lucerne\n",
       "29          3       Munich\n",
       "34          3         Nice\n",
       "40          3     Salzburg\n",
       "52          3       Vienna"
      ]
     },
     "execution_count": 649,
     "metadata": {},
     "output_type": "execute_result"
    }
   ],
   "source": [
    "cluster_df[cluster3_mask]"
   ]
  },
  {
   "cell_type": "code",
   "execution_count": 650,
   "metadata": {},
   "outputs": [
    {
     "data": {
      "text/html": [
       "<div>\n",
       "<style scoped>\n",
       "    .dataframe tbody tr th:only-of-type {\n",
       "        vertical-align: middle;\n",
       "    }\n",
       "\n",
       "    .dataframe tbody tr th {\n",
       "        vertical-align: top;\n",
       "    }\n",
       "\n",
       "    .dataframe thead th {\n",
       "        text-align: right;\n",
       "    }\n",
       "</style>\n",
       "<table border=\"1\" class=\"dataframe\">\n",
       "  <thead>\n",
       "    <tr style=\"text-align: right;\">\n",
       "      <th></th>\n",
       "      <th>cluster_k</th>\n",
       "      <th>city_index</th>\n",
       "    </tr>\n",
       "  </thead>\n",
       "  <tbody>\n",
       "    <tr>\n",
       "      <th>1</th>\n",
       "      <td>4</td>\n",
       "      <td>Anaheim</td>\n",
       "    </tr>\n",
       "    <tr>\n",
       "      <th>20</th>\n",
       "      <td>4</td>\n",
       "      <td>Lancaster</td>\n",
       "    </tr>\n",
       "    <tr>\n",
       "      <th>23</th>\n",
       "      <td>4</td>\n",
       "      <td>Los Angeles</td>\n",
       "    </tr>\n",
       "    <tr>\n",
       "      <th>35</th>\n",
       "      <td>4</td>\n",
       "      <td>Orlando</td>\n",
       "    </tr>\n",
       "  </tbody>\n",
       "</table>\n",
       "</div>"
      ],
      "text/plain": [
       "    cluster_k   city_index\n",
       "1           4      Anaheim\n",
       "20          4    Lancaster\n",
       "23          4  Los Angeles\n",
       "35          4      Orlando"
      ]
     },
     "execution_count": 650,
     "metadata": {},
     "output_type": "execute_result"
    }
   ],
   "source": [
    "cluster_df[cluster4_mask]"
   ]
  },
  {
   "cell_type": "code",
   "execution_count": 651,
   "metadata": {},
   "outputs": [],
   "source": [
    "up_cluster_df = cluster_df[cluster2_mask]"
   ]
  },
  {
   "cell_type": "code",
   "execution_count": 399,
   "metadata": {},
   "outputs": [],
   "source": [
    "up_cluster_df.columns = ['cluster_k', 'taObjectCity']"
   ]
  },
  {
   "cell_type": "code",
   "execution_count": 39,
   "metadata": {},
   "outputs": [
    {
     "data": {
      "text/html": [
       "<div>\n",
       "<style scoped>\n",
       "    .dataframe tbody tr th:only-of-type {\n",
       "        vertical-align: middle;\n",
       "    }\n",
       "\n",
       "    .dataframe tbody tr th {\n",
       "        vertical-align: top;\n",
       "    }\n",
       "\n",
       "    .dataframe thead th {\n",
       "        text-align: right;\n",
       "    }\n",
       "</style>\n",
       "<table border=\"1\" class=\"dataframe\">\n",
       "  <thead>\n",
       "    <tr style=\"text-align: right;\">\n",
       "      <th></th>\n",
       "      <th>cluster_k</th>\n",
       "      <th>taObjectCity</th>\n",
       "    </tr>\n",
       "  </thead>\n",
       "  <tbody>\n",
       "    <tr>\n",
       "      <th>7</th>\n",
       "      <td>1</td>\n",
       "      <td>Bridgetown</td>\n",
       "    </tr>\n",
       "    <tr>\n",
       "      <th>13</th>\n",
       "      <td>1</td>\n",
       "      <td>Helsinki</td>\n",
       "    </tr>\n",
       "    <tr>\n",
       "      <th>34</th>\n",
       "      <td>1</td>\n",
       "      <td>Nice</td>\n",
       "    </tr>\n",
       "    <tr>\n",
       "      <th>43</th>\n",
       "      <td>1</td>\n",
       "      <td>Seattle</td>\n",
       "    </tr>\n",
       "    <tr>\n",
       "      <th>46</th>\n",
       "      <td>1</td>\n",
       "      <td>Stockholm</td>\n",
       "    </tr>\n",
       "  </tbody>\n",
       "</table>\n",
       "</div>"
      ],
      "text/plain": [
       "    cluster_k taObjectCity\n",
       "7           1   Bridgetown\n",
       "13          1     Helsinki\n",
       "34          1         Nice\n",
       "43          1      Seattle\n",
       "46          1    Stockholm"
      ]
     },
     "execution_count": 39,
     "metadata": {},
     "output_type": "execute_result"
    }
   ],
   "source": [
    "up_cluster_df.head()"
   ]
  },
  {
   "cell_type": "code",
   "execution_count": 40,
   "metadata": {},
   "outputs": [],
   "source": [
    "cluster2_lst = list(cluster_df[cluster2_mask].city_index.values)"
   ]
  },
  {
   "cell_type": "code",
   "execution_count": null,
   "metadata": {},
   "outputs": [],
   "source": [
    "\n",
    "for city in cluster2_lst:\n",
    "    print(city)"
   ]
  },
  {
   "cell_type": "code",
   "execution_count": null,
   "metadata": {},
   "outputs": [],
   "source": [
    "city_dict_df = pd.DataFrame(final_df.taObjectCity.unique(), columns = ['taObjectCity'])"
   ]
  },
  {
   "cell_type": "code",
   "execution_count": null,
   "metadata": {},
   "outputs": [],
   "source": [
    "city_temp = city_dict_df.reset_index()"
   ]
  },
  {
   "cell_type": "code",
   "execution_count": null,
   "metadata": {},
   "outputs": [],
   "source": [
    "city_df = city_temp.rename(columns = {'index':'city_id'})"
   ]
  },
  {
   "cell_type": "code",
   "execution_count": null,
   "metadata": {},
   "outputs": [],
   "source": [
    "city_df.head(10)"
   ]
  },
  {
   "cell_type": "code",
   "execution_count": null,
   "metadata": {},
   "outputs": [],
   "source": [
    "samp = [2,5,8]"
   ]
  },
  {
   "cell_type": "code",
   "execution_count": null,
   "metadata": {},
   "outputs": [],
   "source": [
    "# for i in samp:\n",
    "#     if i == city_df.city_id.values[i]:\n",
    "#         print(i)\n",
    "#         print(city_df.taObjectCity.values[i])"
   ]
  },
  {
   "cell_type": "code",
   "execution_count": null,
   "metadata": {},
   "outputs": [],
   "source": [
    "for i in samp:\n",
    "    row = city_df.loc[city_df['city_id'] == i]\n",
    "    #mask = i == city_df.city_id.values[i]:\n",
    "    #print(row.index)\n",
    "    city = row.taObjectCity.values\n",
    "    print (city[0])\n",
    "    #print(type(row.taObjectCity.values))"
   ]
  },
  {
   "cell_type": "code",
   "execution_count": null,
   "metadata": {},
   "outputs": [],
   "source": [
    "sampa = [(4.1000000000000005, 18), (4.153061224489796, 27), (4.399999999999999, 16), (4.198453608247422, 15), (4.315476190476191, 38), (4.006666666666667, 2), (5.0, 46), (3.740131578947369, 24), (4.346938775510204, 50), (4.491150442477878, 23), (4.818965517241379, 33), (4.31979695431472, 17), (4.353448275862069, 52), (34, 4.652061)]\n"
   ]
  },
  {
   "cell_type": "code",
   "execution_count": null,
   "metadata": {},
   "outputs": [],
   "source": [
    "len(sampa)"
   ]
  },
  {
   "cell_type": "code",
   "execution_count": null,
   "metadata": {},
   "outputs": [],
   "source": [
    "for i in city_df.city_id:\n",
    "    if city_df.city_id == i:\n",
    "        print(city_df.taObjectCity)"
   ]
  },
  {
   "cell_type": "code",
   "execution_count": null,
   "metadata": {},
   "outputs": [],
   "source": []
  },
  {
   "cell_type": "code",
   "execution_count": null,
   "metadata": {},
   "outputs": [],
   "source": [
    "`"
   ]
  },
  {
   "cell_type": "code",
   "execution_count": null,
   "metadata": {},
   "outputs": [],
   "source": [
    "for city_id in pd.merge(up_cluster_df, city_df, how = 'left', on = 'taObjectCity').city_id:\n",
    "    print (city_id)"
   ]
  },
  {
   "cell_type": "code",
   "execution_count": null,
   "metadata": {},
   "outputs": [],
   "source": []
  },
  {
   "cell_type": "code",
   "execution_count": null,
   "metadata": {},
   "outputs": [],
   "source": []
  },
  {
   "cell_type": "code",
   "execution_count": null,
   "metadata": {},
   "outputs": [],
   "source": []
  },
  {
   "cell_type": "code",
   "execution_count": null,
   "metadata": {},
   "outputs": [],
   "source": [
    "def matching_cities(cluster_df, cluster_num, city_dict):\n",
    "    \n",
    "    cluster2_mask = (cluster_df['cluster_k'] == cluster_num)\n",
    "    cluster2_lst = list(cluster_df[cluster2_mask].city_index.values)\n",
    "    \n",
    "    selected_cities_idx = []\n",
    "    for city in cluster2_lst:\n",
    "        city_idx = city_dict[city]\n",
    "        selected_cities_idx.append(city_idx)\n",
    "        \n",
    "        \n",
    "    return selected_cities_idx\n",
    "    \n",
    "    \n",
    "    \n",
    "def cities_pred_rating_dict(selected_cities_idx):\n",
    "    \n",
    "    rating_dict = {}\n",
    "    for city in selected_cities_idx:\n",
    "        \n",
    "        # call model\n",
    "        # return overall_rating for each city\n",
    "        \n",
    "        rating_dict[city] = overall_rating\n",
    "        \n",
    "        \n",
    "    return rating_dict\n",
    "\n",
    "\n",
    "\n",
    "def top_three_city(rating_dict):\n",
    "    \n",
    "    tuple_lst = [(k, d[k]) for k in sorted(rating_dict, key=rating_dict.get, reverse=True)]\n",
    "    \n",
    "    top_three = tuple_lst[:3]\n",
    "    \n",
    "    return top_three\n",
    "    \n",
    "    \n",
    "def print_rec_city(top_three, city_dict):\n",
    "    \n",
    "    top_three_city_with_rating = []\n",
    "    \n",
    "    for idx_1, rating in top_three.items():\n",
    "        for city_name, idx_2 in city_dict.items():\n",
    "            if idx_1 = idx_2\n",
    "                top_three_city_with_rating.append((city_name, rating))\n",
    "    \n",
    "    for name, rating in top_three_city_with_rating:\n",
    "        print(name, rating)\n",
    "                \n",
    "    "
   ]
  },
  {
   "cell_type": "markdown",
   "metadata": {},
   "source": [
    "   cluster_k taObjectCity  city_id\n",
    "0          1   Bridgetown       55\n",
    "1          1     Helsinki       28\n",
    "2          1         Nice       34\n",
    "3          1      Seattle       41\n",
    "4          1    Stockholm       49\n",
    "5          1       Vienna        5\n",
    "\n",
    "['visit', 'beautiful', 'worth', 'place', 'town', 'old', 'lovely', 'market', 'time', 'walk']"
   ]
  },
  {
   "cell_type": "markdown",
   "metadata": {},
   "source": [
    "   cluster_k               taObjectCity  city_id\n",
    "0          2                     Bergen       36\n",
    "1          2                  Hong Kong       29\n",
    "2          2                   Honolulu       21\n",
    "3          2                    Lucerne       19\n",
    "4          2  Yellowstone National Park       26\n",
    "5          2     Yosemite National Park       53\n",
    "\n",
    "['trail', 'hike', 'hk', 'train', 'valley', 'yellowstone', 'memorial', 'views', 'road', 'lake']"
   ]
  }
 ],
 "metadata": {
  "kernelspec": {
   "display_name": "Python 3",
   "language": "python",
   "name": "python3"
  },
  "language_info": {
   "codemirror_mode": {
    "name": "ipython",
    "version": 3
   },
   "file_extension": ".py",
   "mimetype": "text/x-python",
   "name": "python",
   "nbconvert_exporter": "python",
   "pygments_lexer": "ipython3",
   "version": "3.6.4"
  }
 },
 "nbformat": 4,
 "nbformat_minor": 2
}
