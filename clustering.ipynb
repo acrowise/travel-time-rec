{
 "cells": [
  {
   "cell_type": "code",
   "execution_count": 387,
   "metadata": {},
   "outputs": [],
   "source": [
    "# general\n",
    "import pandas as pd\n",
    "from pandas.plotting import scatter_matrix\n",
    "import numpy as np\n",
    "from collections import Counter\n",
    "import collections\n",
    "from pandas import DataFrame\n",
    "from scipy.cluster.hierarchy import linkage, dendrogram\n",
    "\n",
    "# sk learn\n",
    "from sklearn.cluster import KMeans\n",
    "from sklearn.feature_extraction.text import CountVectorizer, TfidfVectorizer\n",
    "from sklearn.feature_extraction import text \n",
    "from sklearn.metrics.pairwise import linear_kernel\n",
    "import matplotlib.pyplot as plt "
   ]
  },
  {
   "cell_type": "code",
   "execution_count": 19,
   "metadata": {},
   "outputs": [],
   "source": [
    "# traveler profile\n",
    "data3 = pd.read_excel('data/users_full_7034.xlsx')\n",
    "# traveler and reviews\n",
    "data4 = pd.read_excel('data/reviews_32618_for_1098_users_with_location.xlsx')"
   ]
  },
  {
   "cell_type": "code",
   "execution_count": 20,
   "metadata": {},
   "outputs": [],
   "source": [
    "null_age = data3.ageRange.isnull()\n",
    "null_gender = data3.gender.isnull()\n",
    "null_style = data3.travelStyle.isnull()"
   ]
  },
  {
   "cell_type": "code",
   "execution_count": 21,
   "metadata": {},
   "outputs": [
    {
     "name": "stderr",
     "output_type": "stream",
     "text": [
      "/anaconda3/lib/python3.6/site-packages/ipykernel_launcher.py:1: UserWarning: Boolean Series key will be reindexed to match DataFrame index.\n",
      "  \"\"\"Entry point for launching an IPython kernel.\n"
     ]
    }
   ],
   "source": [
    "filtered_data3 = data3[data3.totalPoints > 1000][~null_age][~null_gender][~null_style]"
   ]
  },
  {
   "cell_type": "code",
   "execution_count": 35,
   "metadata": {},
   "outputs": [],
   "source": [
    "filtered_data3 = filtered_data3[['username']]"
   ]
  },
  {
   "cell_type": "code",
   "execution_count": 36,
   "metadata": {},
   "outputs": [],
   "source": [
    "filtered_data4 = data4[['id', 'username', 'type', 'title', 'text', 'rating', 'taObjectCity']]\n"
   ]
  },
  {
   "cell_type": "code",
   "execution_count": 37,
   "metadata": {},
   "outputs": [],
   "source": [
    "attraction_only = filtered_data4.type == 'Attractions'\n",
    "filtered_data4 = filtered_data4[attraction_only]"
   ]
  },
  {
   "cell_type": "code",
   "execution_count": 38,
   "metadata": {},
   "outputs": [],
   "source": [
    "data3_merge_4 = pd.merge(filtered_data4, filtered_data3, on=['username'])\n"
   ]
  },
  {
   "cell_type": "code",
   "execution_count": 1023,
   "metadata": {},
   "outputs": [
    {
     "name": "stdout",
     "output_type": "stream",
     "text": [
      "59\n"
     ]
    }
   ],
   "source": [
    "# cities with more than 4 reviews\n",
    "popular_city = []\n",
    "for item, value in Counter(data3_merge_4.taObjectCity).items():\n",
    "    if value > 7:\n",
    "        popular_city.append(item)\n",
    "print(len(popular_city))"
   ]
  },
  {
   "cell_type": "code",
   "execution_count": 1024,
   "metadata": {},
   "outputs": [],
   "source": [
    "final_df = data3_merge_4[data3_merge_4.taObjectCity.isin(popular_city)]\n"
   ]
  },
  {
   "cell_type": "code",
   "execution_count": 1025,
   "metadata": {},
   "outputs": [
    {
     "data": {
      "text/html": [
       "<div>\n",
       "<style scoped>\n",
       "    .dataframe tbody tr th:only-of-type {\n",
       "        vertical-align: middle;\n",
       "    }\n",
       "\n",
       "    .dataframe tbody tr th {\n",
       "        vertical-align: top;\n",
       "    }\n",
       "\n",
       "    .dataframe thead th {\n",
       "        text-align: right;\n",
       "    }\n",
       "</style>\n",
       "<table border=\"1\" class=\"dataframe\">\n",
       "  <thead>\n",
       "    <tr style=\"text-align: right;\">\n",
       "      <th></th>\n",
       "      <th>id</th>\n",
       "      <th>username</th>\n",
       "      <th>type</th>\n",
       "      <th>title</th>\n",
       "      <th>text</th>\n",
       "      <th>rating</th>\n",
       "      <th>taObjectCity</th>\n",
       "    </tr>\n",
       "  </thead>\n",
       "  <tbody>\n",
       "    <tr>\n",
       "      <th>2</th>\n",
       "      <td>362</td>\n",
       "      <td>19Cam</td>\n",
       "      <td>Attractions</td>\n",
       "      <td>See it before its gone</td>\n",
       "      <td>The box is only a temporary exhibit while cons...</td>\n",
       "      <td>4</td>\n",
       "      <td>Berlin</td>\n",
       "    </tr>\n",
       "    <tr>\n",
       "      <th>3</th>\n",
       "      <td>363</td>\n",
       "      <td>19Cam</td>\n",
       "      <td>Attractions</td>\n",
       "      <td>Worth a look for the architecture alone</td>\n",
       "      <td>A large collection, presented in a stunning bu...</td>\n",
       "      <td>3</td>\n",
       "      <td>Berlin</td>\n",
       "    </tr>\n",
       "    <tr>\n",
       "      <th>4</th>\n",
       "      <td>378</td>\n",
       "      <td>19Cam</td>\n",
       "      <td>Attractions</td>\n",
       "      <td>Fantastic</td>\n",
       "      <td>After reading all the hype about this show, I ...</td>\n",
       "      <td>5</td>\n",
       "      <td>London</td>\n",
       "    </tr>\n",
       "    <tr>\n",
       "      <th>5</th>\n",
       "      <td>414</td>\n",
       "      <td>19Cam</td>\n",
       "      <td>Attractions</td>\n",
       "      <td>Tranquility in a busy city</td>\n",
       "      <td>Sited within the main botanical gardens area o...</td>\n",
       "      <td>4</td>\n",
       "      <td>Kuala Lumpur</td>\n",
       "    </tr>\n",
       "    <tr>\n",
       "      <th>18</th>\n",
       "      <td>778</td>\n",
       "      <td>1oldseagull</td>\n",
       "      <td>Attractions</td>\n",
       "      <td>THIS SHOULD BE A FIRST STOP</td>\n",
       "      <td>First thing, this visiter center was not easy ...</td>\n",
       "      <td>5</td>\n",
       "      <td>Chattanooga</td>\n",
       "    </tr>\n",
       "  </tbody>\n",
       "</table>\n",
       "</div>"
      ],
      "text/plain": [
       "     id     username         type                                    title  \\\n",
       "2   362        19Cam  Attractions                   See it before its gone   \n",
       "3   363        19Cam  Attractions  Worth a look for the architecture alone   \n",
       "4   378        19Cam  Attractions                                Fantastic   \n",
       "5   414        19Cam  Attractions               Tranquility in a busy city   \n",
       "18  778  1oldseagull  Attractions              THIS SHOULD BE A FIRST STOP   \n",
       "\n",
       "                                                 text  rating  taObjectCity  \n",
       "2   The box is only a temporary exhibit while cons...       4        Berlin  \n",
       "3   A large collection, presented in a stunning bu...       3        Berlin  \n",
       "4   After reading all the hype about this show, I ...       5        London  \n",
       "5   Sited within the main botanical gardens area o...       4  Kuala Lumpur  \n",
       "18  First thing, this visiter center was not easy ...       5   Chattanooga  "
      ]
     },
     "execution_count": 1025,
     "metadata": {},
     "output_type": "execute_result"
    }
   ],
   "source": [
    "final_df.head()"
   ]
  },
  {
   "cell_type": "code",
   "execution_count": 1026,
   "metadata": {},
   "outputs": [
    {
     "data": {
      "text/html": [
       "<div>\n",
       "<style scoped>\n",
       "    .dataframe tbody tr th:only-of-type {\n",
       "        vertical-align: middle;\n",
       "    }\n",
       "\n",
       "    .dataframe tbody tr th {\n",
       "        vertical-align: top;\n",
       "    }\n",
       "\n",
       "    .dataframe thead th {\n",
       "        text-align: right;\n",
       "    }\n",
       "</style>\n",
       "<table border=\"1\" class=\"dataframe\">\n",
       "  <thead>\n",
       "    <tr style=\"text-align: right;\">\n",
       "      <th></th>\n",
       "      <th>id</th>\n",
       "      <th>username</th>\n",
       "      <th>type</th>\n",
       "      <th>title</th>\n",
       "      <th>text</th>\n",
       "      <th>rating</th>\n",
       "      <th>taObjectCity</th>\n",
       "    </tr>\n",
       "  </thead>\n",
       "  <tbody>\n",
       "    <tr>\n",
       "      <th>2617</th>\n",
       "      <td>32510</td>\n",
       "      <td>FamilyTravelJunkkie</td>\n",
       "      <td>Attractions</td>\n",
       "      <td>If you travel at the right time there are no c...</td>\n",
       "      <td>Disneyland is great and so is California Adven...</td>\n",
       "      <td>4</td>\n",
       "      <td>Anaheim</td>\n",
       "    </tr>\n",
       "    <tr>\n",
       "      <th>2622</th>\n",
       "      <td>32516</td>\n",
       "      <td>FamilyTravelJunkkie</td>\n",
       "      <td>Attractions</td>\n",
       "      <td>If you are a cricket fan</td>\n",
       "      <td>If you are a cricket fan Kensington Oval is de...</td>\n",
       "      <td>4</td>\n",
       "      <td>Bridgetown</td>\n",
       "    </tr>\n",
       "    <tr>\n",
       "      <th>2632</th>\n",
       "      <td>32580</td>\n",
       "      <td>Farnborough</td>\n",
       "      <td>Attractions</td>\n",
       "      <td>A bit of a joke really</td>\n",
       "      <td>This is not actually the original or genuine C...</td>\n",
       "      <td>1</td>\n",
       "      <td>Berlin</td>\n",
       "    </tr>\n",
       "    <tr>\n",
       "      <th>2635</th>\n",
       "      <td>32612</td>\n",
       "      <td>Farnborough</td>\n",
       "      <td>Attractions</td>\n",
       "      <td>Not worth visiting</td>\n",
       "      <td>As cat lovers, when we saw this mentioned in o...</td>\n",
       "      <td>1</td>\n",
       "      <td>Amsterdam</td>\n",
       "    </tr>\n",
       "    <tr>\n",
       "      <th>2636</th>\n",
       "      <td>32614</td>\n",
       "      <td>Farnborough</td>\n",
       "      <td>Attractions</td>\n",
       "      <td>Didn&amp;acute;t live up to expectations</td>\n",
       "      <td>This didnвЂ™t really live up to expectations f...</td>\n",
       "      <td>2</td>\n",
       "      <td>Amsterdam</td>\n",
       "    </tr>\n",
       "  </tbody>\n",
       "</table>\n",
       "</div>"
      ],
      "text/plain": [
       "         id             username         type  \\\n",
       "2617  32510  FamilyTravelJunkkie  Attractions   \n",
       "2622  32516  FamilyTravelJunkkie  Attractions   \n",
       "2632  32580          Farnborough  Attractions   \n",
       "2635  32612          Farnborough  Attractions   \n",
       "2636  32614          Farnborough  Attractions   \n",
       "\n",
       "                                                  title  \\\n",
       "2617  If you travel at the right time there are no c...   \n",
       "2622                           If you are a cricket fan   \n",
       "2632                             A bit of a joke really   \n",
       "2635                                 Not worth visiting   \n",
       "2636               Didn&acute;t live up to expectations   \n",
       "\n",
       "                                                   text  rating taObjectCity  \n",
       "2617  Disneyland is great and so is California Adven...       4      Anaheim  \n",
       "2622  If you are a cricket fan Kensington Oval is de...       4   Bridgetown  \n",
       "2632  This is not actually the original or genuine C...       1       Berlin  \n",
       "2635  As cat lovers, when we saw this mentioned in o...       1    Amsterdam  \n",
       "2636  This didnвЂ™t really live up to expectations f...       2    Amsterdam  "
      ]
     },
     "execution_count": 1026,
     "metadata": {},
     "output_type": "execute_result"
    }
   ],
   "source": [
    "final_df.tail(5)"
   ]
  },
  {
   "cell_type": "code",
   "execution_count": 1027,
   "metadata": {},
   "outputs": [
    {
     "data": {
      "text/plain": [
       "(991, 7)"
      ]
     },
     "execution_count": 1027,
     "metadata": {},
     "output_type": "execute_result"
    }
   ],
   "source": [
    "final_df.shape"
   ]
  },
  {
   "cell_type": "markdown",
   "metadata": {},
   "source": [
    "# clustering functions"
   ]
  },
  {
   "cell_type": "code",
   "execution_count": 1028,
   "metadata": {},
   "outputs": [],
   "source": [
    "cluster_input_df = final_df.copy()\n",
    "cluster_input_df = cluster_input_df[['title', 'text', 'taObjectCity']]"
   ]
  },
  {
   "cell_type": "code",
   "execution_count": 1029,
   "metadata": {},
   "outputs": [
    {
     "ename": "SyntaxError",
     "evalue": "invalid syntax (<ipython-input-1029-4ae4a2a19120>, line 2)",
     "output_type": "error",
     "traceback": [
      "\u001b[0;36m  File \u001b[0;32m\"<ipython-input-1029-4ae4a2a19120>\"\u001b[0;36m, line \u001b[0;32m2\u001b[0m\n\u001b[0;31m    return lst.\u001b[0m\n\u001b[0m               ^\u001b[0m\n\u001b[0;31mSyntaxError\u001b[0m\u001b[0;31m:\u001b[0m invalid syntax\n"
     ]
    }
   ],
   "source": [
    "def combine(lst):\n",
    "    return lst."
   ]
  },
  {
   "cell_type": "code",
   "execution_count": 1030,
   "metadata": {},
   "outputs": [
    {
     "data": {
      "text/html": [
       "<div>\n",
       "<style scoped>\n",
       "    .dataframe tbody tr th:only-of-type {\n",
       "        vertical-align: middle;\n",
       "    }\n",
       "\n",
       "    .dataframe tbody tr th {\n",
       "        vertical-align: top;\n",
       "    }\n",
       "\n",
       "    .dataframe thead th {\n",
       "        text-align: right;\n",
       "    }\n",
       "</style>\n",
       "<table border=\"1\" class=\"dataframe\">\n",
       "  <thead>\n",
       "    <tr style=\"text-align: right;\">\n",
       "      <th></th>\n",
       "      <th>title</th>\n",
       "      <th>text</th>\n",
       "      <th>taObjectCity</th>\n",
       "    </tr>\n",
       "  </thead>\n",
       "  <tbody>\n",
       "    <tr>\n",
       "      <th>2</th>\n",
       "      <td>See it before its gone</td>\n",
       "      <td>The box is only a temporary exhibit while cons...</td>\n",
       "      <td>Berlin</td>\n",
       "    </tr>\n",
       "    <tr>\n",
       "      <th>3</th>\n",
       "      <td>Worth a look for the architecture alone</td>\n",
       "      <td>A large collection, presented in a stunning bu...</td>\n",
       "      <td>Berlin</td>\n",
       "    </tr>\n",
       "    <tr>\n",
       "      <th>4</th>\n",
       "      <td>Fantastic</td>\n",
       "      <td>After reading all the hype about this show, I ...</td>\n",
       "      <td>London</td>\n",
       "    </tr>\n",
       "    <tr>\n",
       "      <th>5</th>\n",
       "      <td>Tranquility in a busy city</td>\n",
       "      <td>Sited within the main botanical gardens area o...</td>\n",
       "      <td>Kuala Lumpur</td>\n",
       "    </tr>\n",
       "    <tr>\n",
       "      <th>18</th>\n",
       "      <td>THIS SHOULD BE A FIRST STOP</td>\n",
       "      <td>First thing, this visiter center was not easy ...</td>\n",
       "      <td>Chattanooga</td>\n",
       "    </tr>\n",
       "  </tbody>\n",
       "</table>\n",
       "</div>"
      ],
      "text/plain": [
       "                                      title  \\\n",
       "2                    See it before its gone   \n",
       "3   Worth a look for the architecture alone   \n",
       "4                                 Fantastic   \n",
       "5                Tranquility in a busy city   \n",
       "18              THIS SHOULD BE A FIRST STOP   \n",
       "\n",
       "                                                 text  taObjectCity  \n",
       "2   The box is only a temporary exhibit while cons...        Berlin  \n",
       "3   A large collection, presented in a stunning bu...        Berlin  \n",
       "4   After reading all the hype about this show, I ...        London  \n",
       "5   Sited within the main botanical gardens area o...  Kuala Lumpur  \n",
       "18  First thing, this visiter center was not easy ...   Chattanooga  "
      ]
     },
     "execution_count": 1030,
     "metadata": {},
     "output_type": "execute_result"
    }
   ],
   "source": [
    "cluster_input_df.head()"
   ]
  },
  {
   "cell_type": "code",
   "execution_count": 1031,
   "metadata": {},
   "outputs": [
    {
     "data": {
      "text/html": [
       "<div>\n",
       "<style scoped>\n",
       "    .dataframe tbody tr th:only-of-type {\n",
       "        vertical-align: middle;\n",
       "    }\n",
       "\n",
       "    .dataframe tbody tr th {\n",
       "        vertical-align: top;\n",
       "    }\n",
       "\n",
       "    .dataframe thead th {\n",
       "        text-align: right;\n",
       "    }\n",
       "</style>\n",
       "<table border=\"1\" class=\"dataframe\">\n",
       "  <thead>\n",
       "    <tr style=\"text-align: right;\">\n",
       "      <th></th>\n",
       "      <th>id</th>\n",
       "      <th>username</th>\n",
       "      <th>type</th>\n",
       "      <th>title</th>\n",
       "      <th>text</th>\n",
       "      <th>rating</th>\n",
       "      <th>taObjectCity</th>\n",
       "    </tr>\n",
       "  </thead>\n",
       "  <tbody>\n",
       "    <tr>\n",
       "      <th>2</th>\n",
       "      <td>362</td>\n",
       "      <td>19Cam</td>\n",
       "      <td>Attractions</td>\n",
       "      <td>See it before its gone</td>\n",
       "      <td>The box is only a temporary exhibit while cons...</td>\n",
       "      <td>4</td>\n",
       "      <td>Berlin</td>\n",
       "    </tr>\n",
       "    <tr>\n",
       "      <th>3</th>\n",
       "      <td>363</td>\n",
       "      <td>19Cam</td>\n",
       "      <td>Attractions</td>\n",
       "      <td>Worth a look for the architecture alone</td>\n",
       "      <td>A large collection, presented in a stunning bu...</td>\n",
       "      <td>3</td>\n",
       "      <td>Berlin</td>\n",
       "    </tr>\n",
       "    <tr>\n",
       "      <th>4</th>\n",
       "      <td>378</td>\n",
       "      <td>19Cam</td>\n",
       "      <td>Attractions</td>\n",
       "      <td>Fantastic</td>\n",
       "      <td>After reading all the hype about this show, I ...</td>\n",
       "      <td>5</td>\n",
       "      <td>London</td>\n",
       "    </tr>\n",
       "    <tr>\n",
       "      <th>5</th>\n",
       "      <td>414</td>\n",
       "      <td>19Cam</td>\n",
       "      <td>Attractions</td>\n",
       "      <td>Tranquility in a busy city</td>\n",
       "      <td>Sited within the main botanical gardens area o...</td>\n",
       "      <td>4</td>\n",
       "      <td>Kuala Lumpur</td>\n",
       "    </tr>\n",
       "    <tr>\n",
       "      <th>18</th>\n",
       "      <td>778</td>\n",
       "      <td>1oldseagull</td>\n",
       "      <td>Attractions</td>\n",
       "      <td>THIS SHOULD BE A FIRST STOP</td>\n",
       "      <td>First thing, this visiter center was not easy ...</td>\n",
       "      <td>5</td>\n",
       "      <td>Chattanooga</td>\n",
       "    </tr>\n",
       "  </tbody>\n",
       "</table>\n",
       "</div>"
      ],
      "text/plain": [
       "     id     username         type                                    title  \\\n",
       "2   362        19Cam  Attractions                   See it before its gone   \n",
       "3   363        19Cam  Attractions  Worth a look for the architecture alone   \n",
       "4   378        19Cam  Attractions                                Fantastic   \n",
       "5   414        19Cam  Attractions               Tranquility in a busy city   \n",
       "18  778  1oldseagull  Attractions              THIS SHOULD BE A FIRST STOP   \n",
       "\n",
       "                                                 text  rating  taObjectCity  \n",
       "2   The box is only a temporary exhibit while cons...       4        Berlin  \n",
       "3   A large collection, presented in a stunning bu...       3        Berlin  \n",
       "4   After reading all the hype about this show, I ...       5        London  \n",
       "5   Sited within the main botanical gardens area o...       4  Kuala Lumpur  \n",
       "18  First thing, this visiter center was not easy ...       5   Chattanooga  "
      ]
     },
     "execution_count": 1031,
     "metadata": {},
     "output_type": "execute_result"
    }
   ],
   "source": [
    "final_df.head()"
   ]
  },
  {
   "cell_type": "code",
   "execution_count": 1032,
   "metadata": {},
   "outputs": [],
   "source": [
    "span_mask1 = (final_df.username == 'AnaS1')\n",
    "span_mask2 = (final_df.username == 'DaniLK')\n",
    "span_mask3 = (final_df.username == 'Aprile_24')\n",
    "non_city_mask = (final_df.taObjectCity == 'California')\n"
   ]
  },
  {
   "cell_type": "code",
   "execution_count": 1033,
   "metadata": {},
   "outputs": [
    {
     "name": "stderr",
     "output_type": "stream",
     "text": [
      "/anaconda3/lib/python3.6/site-packages/ipykernel_launcher.py:1: UserWarning: Boolean Series key will be reindexed to match DataFrame index.\n",
      "  \"\"\"Entry point for launching an IPython kernel.\n"
     ]
    }
   ],
   "source": [
    "final_df = final_df[~span_mask1][~span_mask2][~non_city_mask][~span_mask3]"
   ]
  },
  {
   "cell_type": "code",
   "execution_count": 1034,
   "metadata": {},
   "outputs": [
    {
     "data": {
      "text/plain": [
       "(980, 7)"
      ]
     },
     "execution_count": 1034,
     "metadata": {},
     "output_type": "execute_result"
    }
   ],
   "source": [
    "final_df.shape"
   ]
  },
  {
   "cell_type": "code",
   "execution_count": null,
   "metadata": {},
   "outputs": [],
   "source": []
  },
  {
   "cell_type": "code",
   "execution_count": null,
   "metadata": {},
   "outputs": [],
   "source": []
  },
  {
   "cell_type": "code",
   "execution_count": null,
   "metadata": {},
   "outputs": [],
   "source": []
  },
  {
   "cell_type": "code",
   "execution_count": 1035,
   "metadata": {},
   "outputs": [],
   "source": [
    "# print(final_df.text.values[0])\n",
    "# print(final_df.text.values[1])"
   ]
  },
  {
   "cell_type": "code",
   "execution_count": 1036,
   "metadata": {},
   "outputs": [],
   "source": [
    "df_title_comb = final_df.groupby(['taObjectCity']).apply(lambda x: ' '.join(x.title)).reset_index()\n",
    "df_text_comb = final_df.groupby(['taObjectCity']).apply(lambda x: ' '.join(x.text)).reset_index()"
   ]
  },
  {
   "cell_type": "code",
   "execution_count": 1037,
   "metadata": {
    "scrolled": true
   },
   "outputs": [],
   "source": [
    "cluster_input_df = df_title_comb.merge(df_text_comb, on= 'taObjectCity')"
   ]
  },
  {
   "cell_type": "code",
   "execution_count": 1038,
   "metadata": {},
   "outputs": [
    {
     "data": {
      "text/html": [
       "<div>\n",
       "<style scoped>\n",
       "    .dataframe tbody tr th:only-of-type {\n",
       "        vertical-align: middle;\n",
       "    }\n",
       "\n",
       "    .dataframe tbody tr th {\n",
       "        vertical-align: top;\n",
       "    }\n",
       "\n",
       "    .dataframe thead th {\n",
       "        text-align: right;\n",
       "    }\n",
       "</style>\n",
       "<table border=\"1\" class=\"dataframe\">\n",
       "  <thead>\n",
       "    <tr style=\"text-align: right;\">\n",
       "      <th></th>\n",
       "      <th>taObjectCity</th>\n",
       "      <th>0_x</th>\n",
       "      <th>0_y</th>\n",
       "    </tr>\n",
       "  </thead>\n",
       "  <tbody>\n",
       "    <tr>\n",
       "      <th>0</th>\n",
       "      <td>Amsterdam</td>\n",
       "      <td>An interesting Story from start to finish A Mu...</td>\n",
       "      <td>We found Van Gogh&amp;acute;s story so interesting...</td>\n",
       "    </tr>\n",
       "    <tr>\n",
       "      <th>1</th>\n",
       "      <td>Anaheim</td>\n",
       "      <td>Cars land a great addition Easy shopping an ol...</td>\n",
       "      <td>Disney has taken time to build the new cars la...</td>\n",
       "    </tr>\n",
       "    <tr>\n",
       "      <th>2</th>\n",
       "      <td>Bangkok</td>\n",
       "      <td>Impressive indeed! Must do also :) Nice one - ...</td>\n",
       "      <td>Every Bangkok visit should include the Grand p...</td>\n",
       "    </tr>\n",
       "    <tr>\n",
       "      <th>3</th>\n",
       "      <td>Barcelona</td>\n",
       "      <td>OK More than a club Just wow! Cosmo Scooter - ...</td>\n",
       "      <td>The gardens are very pleasant, but nothing out...</td>\n",
       "    </tr>\n",
       "    <tr>\n",
       "      <th>4</th>\n",
       "      <td>Bergen</td>\n",
       "      <td>A Great Hike! Touristy and Pricey A Must-Do......</td>\n",
       "      <td>A hike that will leave you tired but smiling. ...</td>\n",
       "    </tr>\n",
       "  </tbody>\n",
       "</table>\n",
       "</div>"
      ],
      "text/plain": [
       "  taObjectCity                                                0_x  \\\n",
       "0    Amsterdam  An interesting Story from start to finish A Mu...   \n",
       "1      Anaheim  Cars land a great addition Easy shopping an ol...   \n",
       "2      Bangkok  Impressive indeed! Must do also :) Nice one - ...   \n",
       "3    Barcelona  OK More than a club Just wow! Cosmo Scooter - ...   \n",
       "4       Bergen  A Great Hike! Touristy and Pricey A Must-Do......   \n",
       "\n",
       "                                                 0_y  \n",
       "0  We found Van Gogh&acute;s story so interesting...  \n",
       "1  Disney has taken time to build the new cars la...  \n",
       "2  Every Bangkok visit should include the Grand p...  \n",
       "3  The gardens are very pleasant, but nothing out...  \n",
       "4  A hike that will leave you tired but smiling. ...  "
      ]
     },
     "execution_count": 1038,
     "metadata": {},
     "output_type": "execute_result"
    }
   ],
   "source": [
    "cluster_input_df.head()"
   ]
  },
  {
   "cell_type": "code",
   "execution_count": 1039,
   "metadata": {},
   "outputs": [
    {
     "data": {
      "text/html": [
       "<div>\n",
       "<style scoped>\n",
       "    .dataframe tbody tr th:only-of-type {\n",
       "        vertical-align: middle;\n",
       "    }\n",
       "\n",
       "    .dataframe tbody tr th {\n",
       "        vertical-align: top;\n",
       "    }\n",
       "\n",
       "    .dataframe thead th {\n",
       "        text-align: right;\n",
       "    }\n",
       "</style>\n",
       "<table border=\"1\" class=\"dataframe\">\n",
       "  <thead>\n",
       "    <tr style=\"text-align: right;\">\n",
       "      <th></th>\n",
       "      <th>taObjectCity</th>\n",
       "      <th>title</th>\n",
       "      <th>text</th>\n",
       "    </tr>\n",
       "  </thead>\n",
       "  <tbody>\n",
       "    <tr>\n",
       "      <th>0</th>\n",
       "      <td>Amsterdam</td>\n",
       "      <td>An interesting Story from start to finish A Mu...</td>\n",
       "      <td>We found Van Gogh&amp;acute;s story so interesting...</td>\n",
       "    </tr>\n",
       "    <tr>\n",
       "      <th>1</th>\n",
       "      <td>Anaheim</td>\n",
       "      <td>Cars land a great addition Easy shopping an ol...</td>\n",
       "      <td>Disney has taken time to build the new cars la...</td>\n",
       "    </tr>\n",
       "    <tr>\n",
       "      <th>2</th>\n",
       "      <td>Bangkok</td>\n",
       "      <td>Impressive indeed! Must do also :) Nice one - ...</td>\n",
       "      <td>Every Bangkok visit should include the Grand p...</td>\n",
       "    </tr>\n",
       "    <tr>\n",
       "      <th>3</th>\n",
       "      <td>Barcelona</td>\n",
       "      <td>OK More than a club Just wow! Cosmo Scooter - ...</td>\n",
       "      <td>The gardens are very pleasant, but nothing out...</td>\n",
       "    </tr>\n",
       "    <tr>\n",
       "      <th>4</th>\n",
       "      <td>Bergen</td>\n",
       "      <td>A Great Hike! Touristy and Pricey A Must-Do......</td>\n",
       "      <td>A hike that will leave you tired but smiling. ...</td>\n",
       "    </tr>\n",
       "  </tbody>\n",
       "</table>\n",
       "</div>"
      ],
      "text/plain": [
       "  taObjectCity                                              title  \\\n",
       "0    Amsterdam  An interesting Story from start to finish A Mu...   \n",
       "1      Anaheim  Cars land a great addition Easy shopping an ol...   \n",
       "2      Bangkok  Impressive indeed! Must do also :) Nice one - ...   \n",
       "3    Barcelona  OK More than a club Just wow! Cosmo Scooter - ...   \n",
       "4       Bergen  A Great Hike! Touristy and Pricey A Must-Do......   \n",
       "\n",
       "                                                text  \n",
       "0  We found Van Gogh&acute;s story so interesting...  \n",
       "1  Disney has taken time to build the new cars la...  \n",
       "2  Every Bangkok visit should include the Grand p...  \n",
       "3  The gardens are very pleasant, but nothing out...  \n",
       "4  A hike that will leave you tired but smiling. ...  "
      ]
     },
     "execution_count": 1039,
     "metadata": {},
     "output_type": "execute_result"
    }
   ],
   "source": [
    "cluster_input_df.columns = ['taObjectCity','title','text']\n",
    "cluster_input_df.head()"
   ]
  },
  {
   "cell_type": "code",
   "execution_count": 1040,
   "metadata": {},
   "outputs": [],
   "source": [
    "cluster_input_df.set_index(['taObjectCity'], drop=True, inplace=True)"
   ]
  },
  {
   "cell_type": "code",
   "execution_count": 1041,
   "metadata": {},
   "outputs": [
    {
     "data": {
      "text/html": [
       "<div>\n",
       "<style scoped>\n",
       "    .dataframe tbody tr th:only-of-type {\n",
       "        vertical-align: middle;\n",
       "    }\n",
       "\n",
       "    .dataframe tbody tr th {\n",
       "        vertical-align: top;\n",
       "    }\n",
       "\n",
       "    .dataframe thead th {\n",
       "        text-align: right;\n",
       "    }\n",
       "</style>\n",
       "<table border=\"1\" class=\"dataframe\">\n",
       "  <thead>\n",
       "    <tr style=\"text-align: right;\">\n",
       "      <th></th>\n",
       "      <th>title</th>\n",
       "      <th>text</th>\n",
       "    </tr>\n",
       "    <tr>\n",
       "      <th>taObjectCity</th>\n",
       "      <th></th>\n",
       "      <th></th>\n",
       "    </tr>\n",
       "  </thead>\n",
       "  <tbody>\n",
       "    <tr>\n",
       "      <th>Amsterdam</th>\n",
       "      <td>An interesting Story from start to finish A Mu...</td>\n",
       "      <td>We found Van Gogh&amp;acute;s story so interesting...</td>\n",
       "    </tr>\n",
       "    <tr>\n",
       "      <th>Anaheim</th>\n",
       "      <td>Cars land a great addition Easy shopping an ol...</td>\n",
       "      <td>Disney has taken time to build the new cars la...</td>\n",
       "    </tr>\n",
       "    <tr>\n",
       "      <th>Bangkok</th>\n",
       "      <td>Impressive indeed! Must do also :) Nice one - ...</td>\n",
       "      <td>Every Bangkok visit should include the Grand p...</td>\n",
       "    </tr>\n",
       "    <tr>\n",
       "      <th>Barcelona</th>\n",
       "      <td>OK More than a club Just wow! Cosmo Scooter - ...</td>\n",
       "      <td>The gardens are very pleasant, but nothing out...</td>\n",
       "    </tr>\n",
       "    <tr>\n",
       "      <th>Bergen</th>\n",
       "      <td>A Great Hike! Touristy and Pricey A Must-Do......</td>\n",
       "      <td>A hike that will leave you tired but smiling. ...</td>\n",
       "    </tr>\n",
       "  </tbody>\n",
       "</table>\n",
       "</div>"
      ],
      "text/plain": [
       "                                                          title  \\\n",
       "taObjectCity                                                      \n",
       "Amsterdam     An interesting Story from start to finish A Mu...   \n",
       "Anaheim       Cars land a great addition Easy shopping an ol...   \n",
       "Bangkok       Impressive indeed! Must do also :) Nice one - ...   \n",
       "Barcelona     OK More than a club Just wow! Cosmo Scooter - ...   \n",
       "Bergen        A Great Hike! Touristy and Pricey A Must-Do......   \n",
       "\n",
       "                                                           text  \n",
       "taObjectCity                                                     \n",
       "Amsterdam     We found Van Gogh&acute;s story so interesting...  \n",
       "Anaheim       Disney has taken time to build the new cars la...  \n",
       "Bangkok       Every Bangkok visit should include the Grand p...  \n",
       "Barcelona     The gardens are very pleasant, but nothing out...  \n",
       "Bergen        A hike that will leave you tired but smiling. ...  "
      ]
     },
     "execution_count": 1041,
     "metadata": {},
     "output_type": "execute_result"
    }
   ],
   "source": [
    "cluster_input_df.head()"
   ]
  },
  {
   "cell_type": "code",
   "execution_count": 1142,
   "metadata": {},
   "outputs": [],
   "source": [
    "\n",
    "\n",
    "def cluster_texts(texts, clusters=3):\n",
    "    \"\"\" \n",
    "    Transform texts to Tf-Idf coordinates and cluster texts using K-Means \n",
    "    \"\"\"\n",
    "    my_additional_stop_words = ['acute', 'good', 'great', 'really', 'just', 'nice', 'like', 'day']\n",
    "    stop_words = text.ENGLISH_STOP_WORDS.union(my_additional_stop_words)\n",
    "    \n",
    "    \n",
    "    vectorizer = TfidfVectorizer(stop_words= stop_words,\n",
    "                                 max_features = 800,\n",
    "                                 lowercase=True)\n",
    " \n",
    "    tfidf_model = vectorizer.fit_transform(texts)\n",
    "    vectors = tfidf_model.toarray()\n",
    "    cols = vectorizer.get_feature_names()\n",
    "\n",
    "    return (vectors, cols)\n",
    "\n",
    "\n",
    "def cluster(vectors, cols, texts):\n",
    "    \"\"\"\n",
    "    Cluster vecotirzed reviews and create k books a data frame relating the\n",
    "    k label to the book id\n",
    "    \"\"\"\n",
    "    kmeans = KMeans(n_clusters=5, random_state=347837898).fit(vectors)\n",
    "    k_books = pd.DataFrame(list(zip(list(kmeans.labels_),\n",
    "                                list(texts.index))),\n",
    "                                columns=['cluster_k', 'city_index'])\n",
    "    \n",
    "    ''' added code to print centriod vocab - Print the top n words from all centroids vocab\n",
    "    '''\n",
    "    n = 20\n",
    "    centroids = kmeans.cluster_centers_\n",
    "    for ind, c in enumerate(centroids):\n",
    "        print(ind)\n",
    "        indices = c.argsort()[-1:-n-1:-1]\n",
    "        print([cols[i] for i in indices])\n",
    "        print(\"==\"*20)\n",
    "    \n",
    "    return k_books"
   ]
  },
  {
   "cell_type": "code",
   "execution_count": 1143,
   "metadata": {},
   "outputs": [],
   "source": [
    "reviews = cluster_input_df.title + ' ' + cluster_input_df.text\n",
    "#reviews = final_df.title + ' ' + final_df.text\n",
    "content = [i for i in reviews]\n"
   ]
  },
  {
   "cell_type": "code",
   "execution_count": 1144,
   "metadata": {},
   "outputs": [
    {
     "name": "stdout",
     "output_type": "stream",
     "text": [
      "0\n",
      "['sydney', 'beach', 'tour', 'worth', 'trip', 'aquarium', 'displays', 'west', 'time', 'value', 'harbour', 'gallery', 'fantastic', 'love', 'walk', 'opportunities', 'boat', 'air', 'visit', 'crew']\n",
      "========================================\n",
      "1\n",
      "['train', 'hk', 'dubai', 'fun', 'free', 'view', 'main', 'centre', 'gate', 'place', 'experience', 'busy', 'need', 'minutes', 'central', 'station', 'amazing', 'food', 'city', 'stadium']\n",
      "========================================\n",
      "2\n",
      "['falls', 'trail', 'hike', 'memorial', 'valley', 'yellowstone', 'water', 'road', 'area', 'views', 'right', 'walk', 'hiking', 'beach', 'easy', 'view', 'grove', 'ride', 'worth', 'visit']\n",
      "========================================\n",
      "3\n",
      "['tour', 'time', 'museum', 'visit', 'place', 'worth', 'fun', 'park', 'history', 'lot', 'experience', 'guide', 'interesting', 'little', 'did', 'way', 'people', 'building', 'small', 'took']\n",
      "========================================\n",
      "4\n",
      "['tour', 'visit', 'place', 'beautiful', 'inside', 'worth', 'building', 'city', 'lovely', 'walk', 'museum', 'impressive', 'outside', 'interesting', 'time', 'excellent', 'old', 'art', 'view', 'barcelona']\n",
      "========================================\n"
     ]
    }
   ],
   "source": [
    "vector, cols = cluster_texts(content, 5)\n",
    "cluster_df = cluster(vector, cols, reviews)"
   ]
  },
  {
   "cell_type": "code",
   "execution_count": 1149,
   "metadata": {},
   "outputs": [],
   "source": [
    "cluster2_mask = (cluster_df['cluster_k'] ==2)\n",
    "# random state - 347837898\n"
   ]
  },
  {
   "cell_type": "code",
   "execution_count": 1150,
   "metadata": {
    "scrolled": true
   },
   "outputs": [
    {
     "data": {
      "text/html": [
       "<div>\n",
       "<style scoped>\n",
       "    .dataframe tbody tr th:only-of-type {\n",
       "        vertical-align: middle;\n",
       "    }\n",
       "\n",
       "    .dataframe tbody tr th {\n",
       "        vertical-align: top;\n",
       "    }\n",
       "\n",
       "    .dataframe thead th {\n",
       "        text-align: right;\n",
       "    }\n",
       "</style>\n",
       "<table border=\"1\" class=\"dataframe\">\n",
       "  <thead>\n",
       "    <tr style=\"text-align: right;\">\n",
       "      <th></th>\n",
       "      <th>cluster_k</th>\n",
       "      <th>city_index</th>\n",
       "    </tr>\n",
       "  </thead>\n",
       "  <tbody>\n",
       "    <tr>\n",
       "      <th>4</th>\n",
       "      <td>2</td>\n",
       "      <td>Bergen</td>\n",
       "    </tr>\n",
       "    <tr>\n",
       "      <th>15</th>\n",
       "      <td>2</td>\n",
       "      <td>Honolulu</td>\n",
       "    </tr>\n",
       "    <tr>\n",
       "      <th>34</th>\n",
       "      <td>2</td>\n",
       "      <td>Niagara Falls</td>\n",
       "    </tr>\n",
       "    <tr>\n",
       "      <th>57</th>\n",
       "      <td>2</td>\n",
       "      <td>Yellowstone National Park</td>\n",
       "    </tr>\n",
       "    <tr>\n",
       "      <th>58</th>\n",
       "      <td>2</td>\n",
       "      <td>Yosemite National Park</td>\n",
       "    </tr>\n",
       "  </tbody>\n",
       "</table>\n",
       "</div>"
      ],
      "text/plain": [
       "    cluster_k                 city_index\n",
       "4           2                     Bergen\n",
       "15          2                   Honolulu\n",
       "34          2              Niagara Falls\n",
       "57          2  Yellowstone National Park\n",
       "58          2     Yosemite National Park"
      ]
     },
     "execution_count": 1150,
     "metadata": {},
     "output_type": "execute_result"
    }
   ],
   "source": [
    "cluster_df[cluster2_mask]"
   ]
  },
  {
   "cell_type": "code",
   "execution_count": null,
   "metadata": {},
   "outputs": [],
   "source": []
  },
  {
   "cell_type": "code",
   "execution_count": null,
   "metadata": {},
   "outputs": [],
   "source": []
  },
  {
   "cell_type": "code",
   "execution_count": null,
   "metadata": {},
   "outputs": [],
   "source": []
  }
 ],
 "metadata": {
  "kernelspec": {
   "display_name": "Python 3",
   "language": "python",
   "name": "python3"
  },
  "language_info": {
   "codemirror_mode": {
    "name": "ipython",
    "version": 3
   },
   "file_extension": ".py",
   "mimetype": "text/x-python",
   "name": "python",
   "nbconvert_exporter": "python",
   "pygments_lexer": "ipython3",
   "version": "3.6.4"
  }
 },
 "nbformat": 4,
 "nbformat_minor": 2
}
