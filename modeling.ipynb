{
 "cells": [
  {
   "cell_type": "code",
   "execution_count": 1,
   "metadata": {},
   "outputs": [],
   "source": [
    "# general\n",
    "import pandas as pd\n",
    "from pandas.plotting import scatter_matrix\n",
    "import numpy as np\n",
    "from collections import Counter\n",
    "import collections\n",
    "from pandas import DataFrame\n",
    "from scipy.cluster.hierarchy import linkage, dendrogram\n",
    "# spark\n",
    "from pyspark.ml.recommendation import ALS\n",
    "from pyspark.sql.types import *\n",
    "import pyspark\n",
    "from pyspark.sql import SQLContext, Row\n",
    "# sk learn\n",
    "from sklearn.cluster import KMeans\n",
    "from sklearn.feature_extraction.text import CountVectorizer, TfidfVectorizer\n",
    "from sklearn.metrics.pairwise import linear_kernel\n",
    "import matplotlib.pyplot as plt \n",
    "# similarity\n",
    "from sklearn.metrics import jaccard_similarity_score"
   ]
  },
  {
   "cell_type": "code",
   "execution_count": 2,
   "metadata": {},
   "outputs": [],
   "source": [
    "# personality scores\n",
    "#data1 = pd.read_excel('data/pers_scores_1098.xlsx')\n",
    "# articles by some traveler\n",
    "#data2 = pd.read_excel('data/articles_159.xlsx')\n",
    "# traveler profile\n",
    "data3 = pd.read_excel('data/users_full_7034.xlsx')\n",
    "# traveler and reviews\n",
    "data4 = pd.read_excel('data/reviews_32618_for_1098_users_with_location.xlsx')"
   ]
  },
  {
   "cell_type": "code",
   "execution_count": 3,
   "metadata": {},
   "outputs": [],
   "source": [
    "null_age = data3.ageRange.isnull()\n",
    "null_gender = data3.gender.isnull()\n",
    "null_style = data3.travelStyle.isnull()"
   ]
  },
  {
   "cell_type": "code",
   "execution_count": 4,
   "metadata": {
    "scrolled": true
   },
   "outputs": [
    {
     "name": "stderr",
     "output_type": "stream",
     "text": [
      "/anaconda3/lib/python3.6/site-packages/ipykernel_launcher.py:1: UserWarning: Boolean Series key will be reindexed to match DataFrame index.\n",
      "  \"\"\"Entry point for launching an IPython kernel.\n"
     ]
    }
   ],
   "source": [
    "filtered_data3 = data3[data3.totalPoints > 1000][~null_age][~null_gender][~null_style]\n"
   ]
  },
  {
   "cell_type": "code",
   "execution_count": 5,
   "metadata": {},
   "outputs": [
    {
     "data": {
      "text/html": [
       "<div>\n",
       "<style scoped>\n",
       "    .dataframe tbody tr th:only-of-type {\n",
       "        vertical-align: middle;\n",
       "    }\n",
       "\n",
       "    .dataframe tbody tr th {\n",
       "        vertical-align: top;\n",
       "    }\n",
       "\n",
       "    .dataframe thead th {\n",
       "        text-align: right;\n",
       "    }\n",
       "</style>\n",
       "<table border=\"1\" class=\"dataframe\">\n",
       "  <thead>\n",
       "    <tr style=\"text-align: right;\">\n",
       "      <th></th>\n",
       "      <th>username</th>\n",
       "      <th>ageRange</th>\n",
       "      <th>gender</th>\n",
       "      <th>travelStyle</th>\n",
       "    </tr>\n",
       "  </thead>\n",
       "  <tbody>\n",
       "    <tr>\n",
       "      <th>1</th>\n",
       "      <td>0BKI0</td>\n",
       "      <td>25-34</td>\n",
       "      <td>female</td>\n",
       "      <td>Foodie, Nature Lover, Urban Explorer</td>\n",
       "    </tr>\n",
       "    <tr>\n",
       "      <th>7</th>\n",
       "      <td>14beacon</td>\n",
       "      <td>35-49</td>\n",
       "      <td>male</td>\n",
       "      <td>Foodie, Trendsetter, Like a Local, Luxury Trav...</td>\n",
       "    </tr>\n",
       "    <tr>\n",
       "      <th>12</th>\n",
       "      <td>1975mark</td>\n",
       "      <td>25-34</td>\n",
       "      <td>male</td>\n",
       "      <td>Foodie, Beach Goer, Thrifty Traveller, Nightli...</td>\n",
       "    </tr>\n",
       "    <tr>\n",
       "      <th>15</th>\n",
       "      <td>19Cam</td>\n",
       "      <td>25-34</td>\n",
       "      <td>male</td>\n",
       "      <td>Vegetarian, Urban Explorer, Art and Architectu...</td>\n",
       "    </tr>\n",
       "    <tr>\n",
       "      <th>17</th>\n",
       "      <td>1Angie</td>\n",
       "      <td>18-24</td>\n",
       "      <td>female</td>\n",
       "      <td>Beach Goer, Vegetarian, Urban Explorer</td>\n",
       "    </tr>\n",
       "  </tbody>\n",
       "</table>\n",
       "</div>"
      ],
      "text/plain": [
       "    username ageRange  gender  \\\n",
       "1      0BKI0    25-34  female   \n",
       "7   14beacon    35-49    male   \n",
       "12  1975mark    25-34    male   \n",
       "15     19Cam    25-34    male   \n",
       "17    1Angie    18-24  female   \n",
       "\n",
       "                                          travelStyle  \n",
       "1                Foodie, Nature Lover, Urban Explorer  \n",
       "7   Foodie, Trendsetter, Like a Local, Luxury Trav...  \n",
       "12  Foodie, Beach Goer, Thrifty Traveller, Nightli...  \n",
       "15  Vegetarian, Urban Explorer, Art and Architectu...  \n",
       "17             Beach Goer, Vegetarian, Urban Explorer  "
      ]
     },
     "execution_count": 5,
     "metadata": {},
     "output_type": "execute_result"
    }
   ],
   "source": [
    "filtered_data3 = filtered_data3[['username', 'ageRange', 'gender', 'travelStyle']]\n",
    "filtered_data3.head()"
   ]
  },
  {
   "cell_type": "code",
   "execution_count": 6,
   "metadata": {
    "scrolled": true
   },
   "outputs": [],
   "source": [
    "filtered_data4 = data4[['id', 'username', 'type', 'text', 'rating', 'taObjectCity']]\n",
    "filtered_data4;\n"
   ]
  },
  {
   "cell_type": "code",
   "execution_count": 7,
   "metadata": {
    "scrolled": true
   },
   "outputs": [],
   "source": [
    "attraction_only = filtered_data4.type == 'Attractions'\n",
    "filtered_data4 = filtered_data4[attraction_only]"
   ]
  },
  {
   "cell_type": "code",
   "execution_count": 8,
   "metadata": {},
   "outputs": [
    {
     "data": {
      "text/html": [
       "<div>\n",
       "<style scoped>\n",
       "    .dataframe tbody tr th:only-of-type {\n",
       "        vertical-align: middle;\n",
       "    }\n",
       "\n",
       "    .dataframe tbody tr th {\n",
       "        vertical-align: top;\n",
       "    }\n",
       "\n",
       "    .dataframe thead th {\n",
       "        text-align: right;\n",
       "    }\n",
       "</style>\n",
       "<table border=\"1\" class=\"dataframe\">\n",
       "  <thead>\n",
       "    <tr style=\"text-align: right;\">\n",
       "      <th></th>\n",
       "      <th>id</th>\n",
       "      <th>username</th>\n",
       "      <th>type</th>\n",
       "      <th>text</th>\n",
       "      <th>rating</th>\n",
       "      <th>taObjectCity</th>\n",
       "    </tr>\n",
       "  </thead>\n",
       "  <tbody>\n",
       "    <tr>\n",
       "      <th>2</th>\n",
       "      <td>3</td>\n",
       "      <td>007solotraveler</td>\n",
       "      <td>Attractions</td>\n",
       "      <td>Great Museum - abslutely worth making the time...</td>\n",
       "      <td>5</td>\n",
       "      <td>Stockholm</td>\n",
       "    </tr>\n",
       "    <tr>\n",
       "      <th>87</th>\n",
       "      <td>88</td>\n",
       "      <td>124_10</td>\n",
       "      <td>Attractions</td>\n",
       "      <td>Noting to dislike about this village. It has e...</td>\n",
       "      <td>5</td>\n",
       "      <td>Corsham</td>\n",
       "    </tr>\n",
       "    <tr>\n",
       "      <th>95</th>\n",
       "      <td>96</td>\n",
       "      <td>12ReasonsWhy</td>\n",
       "      <td>Attractions</td>\n",
       "      <td>We were lucky enough to be the only two people...</td>\n",
       "      <td>5</td>\n",
       "      <td>Takayama</td>\n",
       "    </tr>\n",
       "    <tr>\n",
       "      <th>102</th>\n",
       "      <td>103</td>\n",
       "      <td>14beacon</td>\n",
       "      <td>Attractions</td>\n",
       "      <td>Went with my wife, parents, two kids (7) &amp; (12...</td>\n",
       "      <td>5</td>\n",
       "      <td>Charleston</td>\n",
       "    </tr>\n",
       "    <tr>\n",
       "      <th>103</th>\n",
       "      <td>104</td>\n",
       "      <td>14beacon</td>\n",
       "      <td>Attractions</td>\n",
       "      <td>My family and I just came back from spending a...</td>\n",
       "      <td>4</td>\n",
       "      <td>Farmingdale</td>\n",
       "    </tr>\n",
       "  </tbody>\n",
       "</table>\n",
       "</div>"
      ],
      "text/plain": [
       "      id         username         type  \\\n",
       "2      3  007solotraveler  Attractions   \n",
       "87    88           124_10  Attractions   \n",
       "95    96     12ReasonsWhy  Attractions   \n",
       "102  103         14beacon  Attractions   \n",
       "103  104         14beacon  Attractions   \n",
       "\n",
       "                                                  text  rating taObjectCity  \n",
       "2    Great Museum - abslutely worth making the time...       5    Stockholm  \n",
       "87   Noting to dislike about this village. It has e...       5      Corsham  \n",
       "95   We were lucky enough to be the only two people...       5     Takayama  \n",
       "102  Went with my wife, parents, two kids (7) & (12...       5   Charleston  \n",
       "103  My family and I just came back from spending a...       4  Farmingdale  "
      ]
     },
     "execution_count": 8,
     "metadata": {},
     "output_type": "execute_result"
    }
   ],
   "source": [
    "filtered_data4.head()"
   ]
  },
  {
   "cell_type": "code",
   "execution_count": 9,
   "metadata": {},
   "outputs": [
    {
     "data": {
      "text/html": [
       "<div>\n",
       "<style scoped>\n",
       "    .dataframe tbody tr th:only-of-type {\n",
       "        vertical-align: middle;\n",
       "    }\n",
       "\n",
       "    .dataframe tbody tr th {\n",
       "        vertical-align: top;\n",
       "    }\n",
       "\n",
       "    .dataframe thead th {\n",
       "        text-align: right;\n",
       "    }\n",
       "</style>\n",
       "<table border=\"1\" class=\"dataframe\">\n",
       "  <thead>\n",
       "    <tr style=\"text-align: right;\">\n",
       "      <th></th>\n",
       "      <th>id</th>\n",
       "      <th>username</th>\n",
       "      <th>type</th>\n",
       "      <th>text</th>\n",
       "      <th>rating</th>\n",
       "      <th>taObjectCity</th>\n",
       "      <th>ageRange</th>\n",
       "      <th>gender</th>\n",
       "      <th>travelStyle</th>\n",
       "    </tr>\n",
       "  </thead>\n",
       "  <tbody>\n",
       "    <tr>\n",
       "      <th>0</th>\n",
       "      <td>103</td>\n",
       "      <td>14beacon</td>\n",
       "      <td>Attractions</td>\n",
       "      <td>Went with my wife, parents, two kids (7) &amp; (12...</td>\n",
       "      <td>5</td>\n",
       "      <td>Charleston</td>\n",
       "      <td>35-49</td>\n",
       "      <td>male</td>\n",
       "      <td>Foodie, Trendsetter, Like a Local, Luxury Trav...</td>\n",
       "    </tr>\n",
       "    <tr>\n",
       "      <th>1</th>\n",
       "      <td>104</td>\n",
       "      <td>14beacon</td>\n",
       "      <td>Attractions</td>\n",
       "      <td>My family and I just came back from spending a...</td>\n",
       "      <td>4</td>\n",
       "      <td>Farmingdale</td>\n",
       "      <td>35-49</td>\n",
       "      <td>male</td>\n",
       "      <td>Foodie, Trendsetter, Like a Local, Luxury Trav...</td>\n",
       "    </tr>\n",
       "    <tr>\n",
       "      <th>2</th>\n",
       "      <td>362</td>\n",
       "      <td>19Cam</td>\n",
       "      <td>Attractions</td>\n",
       "      <td>The box is only a temporary exhibit while cons...</td>\n",
       "      <td>4</td>\n",
       "      <td>Berlin</td>\n",
       "      <td>25-34</td>\n",
       "      <td>male</td>\n",
       "      <td>Vegetarian, Urban Explorer, Art and Architectu...</td>\n",
       "    </tr>\n",
       "    <tr>\n",
       "      <th>3</th>\n",
       "      <td>363</td>\n",
       "      <td>19Cam</td>\n",
       "      <td>Attractions</td>\n",
       "      <td>A large collection, presented in a stunning bu...</td>\n",
       "      <td>3</td>\n",
       "      <td>Berlin</td>\n",
       "      <td>25-34</td>\n",
       "      <td>male</td>\n",
       "      <td>Vegetarian, Urban Explorer, Art and Architectu...</td>\n",
       "    </tr>\n",
       "    <tr>\n",
       "      <th>4</th>\n",
       "      <td>378</td>\n",
       "      <td>19Cam</td>\n",
       "      <td>Attractions</td>\n",
       "      <td>After reading all the hype about this show, I ...</td>\n",
       "      <td>5</td>\n",
       "      <td>London</td>\n",
       "      <td>25-34</td>\n",
       "      <td>male</td>\n",
       "      <td>Vegetarian, Urban Explorer, Art and Architectu...</td>\n",
       "    </tr>\n",
       "  </tbody>\n",
       "</table>\n",
       "</div>"
      ],
      "text/plain": [
       "    id  username         type  \\\n",
       "0  103  14beacon  Attractions   \n",
       "1  104  14beacon  Attractions   \n",
       "2  362     19Cam  Attractions   \n",
       "3  363     19Cam  Attractions   \n",
       "4  378     19Cam  Attractions   \n",
       "\n",
       "                                                text  rating taObjectCity  \\\n",
       "0  Went with my wife, parents, two kids (7) & (12...       5   Charleston   \n",
       "1  My family and I just came back from spending a...       4  Farmingdale   \n",
       "2  The box is only a temporary exhibit while cons...       4       Berlin   \n",
       "3  A large collection, presented in a stunning bu...       3       Berlin   \n",
       "4  After reading all the hype about this show, I ...       5       London   \n",
       "\n",
       "  ageRange gender                                        travelStyle  \n",
       "0    35-49   male  Foodie, Trendsetter, Like a Local, Luxury Trav...  \n",
       "1    35-49   male  Foodie, Trendsetter, Like a Local, Luxury Trav...  \n",
       "2    25-34   male  Vegetarian, Urban Explorer, Art and Architectu...  \n",
       "3    25-34   male  Vegetarian, Urban Explorer, Art and Architectu...  \n",
       "4    25-34   male  Vegetarian, Urban Explorer, Art and Architectu...  "
      ]
     },
     "execution_count": 9,
     "metadata": {},
     "output_type": "execute_result"
    }
   ],
   "source": [
    "data3_merge_4 = pd.merge(filtered_data4, filtered_data3, on=['username'])\n",
    "data3_merge_4.head()"
   ]
  },
  {
   "cell_type": "code",
   "execution_count": 10,
   "metadata": {},
   "outputs": [],
   "source": [
    "span_mask1 = (data3_merge_4.username == 'AnaS1')\n",
    "span_mask2 = (data3_merge_4.username == 'DaniLK')\n",
    "span_mask3 = (data3_merge_4.username == 'Aprile_24')\n",
    "non_city_mask = (data3_merge_4.taObjectCity == 'California')"
   ]
  },
  {
   "cell_type": "code",
   "execution_count": 11,
   "metadata": {},
   "outputs": [
    {
     "name": "stderr",
     "output_type": "stream",
     "text": [
      "/anaconda3/lib/python3.6/site-packages/ipykernel_launcher.py:1: UserWarning: Boolean Series key will be reindexed to match DataFrame index.\n",
      "  \"\"\"Entry point for launching an IPython kernel.\n"
     ]
    }
   ],
   "source": [
    "data3_merge_4 = data3_merge_4[~span_mask1][~span_mask2][~span_mask3][~non_city_mask]"
   ]
  },
  {
   "cell_type": "code",
   "execution_count": null,
   "metadata": {},
   "outputs": [],
   "source": []
  },
  {
   "cell_type": "code",
   "execution_count": 12,
   "metadata": {},
   "outputs": [
    {
     "name": "stdout",
     "output_type": "stream",
     "text": [
      "56\n"
     ]
    }
   ],
   "source": [
    "# cities with more than 4 reviews\n",
    "popular_city = []\n",
    "for item, value in Counter(data3_merge_4.taObjectCity).items():\n",
    "    if value > 7:\n",
    "        popular_city.append(item)\n",
    "print(len(popular_city))"
   ]
  },
  {
   "cell_type": "code",
   "execution_count": 13,
   "metadata": {
    "scrolled": true
   },
   "outputs": [
    {
     "data": {
      "text/html": [
       "<div>\n",
       "<style scoped>\n",
       "    .dataframe tbody tr th:only-of-type {\n",
       "        vertical-align: middle;\n",
       "    }\n",
       "\n",
       "    .dataframe tbody tr th {\n",
       "        vertical-align: top;\n",
       "    }\n",
       "\n",
       "    .dataframe thead th {\n",
       "        text-align: right;\n",
       "    }\n",
       "</style>\n",
       "<table border=\"1\" class=\"dataframe\">\n",
       "  <thead>\n",
       "    <tr style=\"text-align: right;\">\n",
       "      <th></th>\n",
       "      <th>id</th>\n",
       "      <th>username</th>\n",
       "      <th>type</th>\n",
       "      <th>text</th>\n",
       "      <th>rating</th>\n",
       "      <th>taObjectCity</th>\n",
       "      <th>ageRange</th>\n",
       "      <th>gender</th>\n",
       "      <th>travelStyle</th>\n",
       "    </tr>\n",
       "  </thead>\n",
       "  <tbody>\n",
       "    <tr>\n",
       "      <th>2</th>\n",
       "      <td>362</td>\n",
       "      <td>19Cam</td>\n",
       "      <td>Attractions</td>\n",
       "      <td>The box is only a temporary exhibit while cons...</td>\n",
       "      <td>4</td>\n",
       "      <td>Berlin</td>\n",
       "      <td>25-34</td>\n",
       "      <td>male</td>\n",
       "      <td>Vegetarian, Urban Explorer, Art and Architectu...</td>\n",
       "    </tr>\n",
       "    <tr>\n",
       "      <th>3</th>\n",
       "      <td>363</td>\n",
       "      <td>19Cam</td>\n",
       "      <td>Attractions</td>\n",
       "      <td>A large collection, presented in a stunning bu...</td>\n",
       "      <td>3</td>\n",
       "      <td>Berlin</td>\n",
       "      <td>25-34</td>\n",
       "      <td>male</td>\n",
       "      <td>Vegetarian, Urban Explorer, Art and Architectu...</td>\n",
       "    </tr>\n",
       "    <tr>\n",
       "      <th>4</th>\n",
       "      <td>378</td>\n",
       "      <td>19Cam</td>\n",
       "      <td>Attractions</td>\n",
       "      <td>After reading all the hype about this show, I ...</td>\n",
       "      <td>5</td>\n",
       "      <td>London</td>\n",
       "      <td>25-34</td>\n",
       "      <td>male</td>\n",
       "      <td>Vegetarian, Urban Explorer, Art and Architectu...</td>\n",
       "    </tr>\n",
       "    <tr>\n",
       "      <th>5</th>\n",
       "      <td>414</td>\n",
       "      <td>19Cam</td>\n",
       "      <td>Attractions</td>\n",
       "      <td>Sited within the main botanical gardens area o...</td>\n",
       "      <td>4</td>\n",
       "      <td>Kuala Lumpur</td>\n",
       "      <td>25-34</td>\n",
       "      <td>male</td>\n",
       "      <td>Vegetarian, Urban Explorer, Art and Architectu...</td>\n",
       "    </tr>\n",
       "    <tr>\n",
       "      <th>18</th>\n",
       "      <td>778</td>\n",
       "      <td>1oldseagull</td>\n",
       "      <td>Attractions</td>\n",
       "      <td>First thing, this visiter center was not easy ...</td>\n",
       "      <td>5</td>\n",
       "      <td>Chattanooga</td>\n",
       "      <td>65+</td>\n",
       "      <td>male</td>\n",
       "      <td>Foodie, Beach Goer, History Buff, 60+ Traveler...</td>\n",
       "    </tr>\n",
       "  </tbody>\n",
       "</table>\n",
       "</div>"
      ],
      "text/plain": [
       "     id     username         type  \\\n",
       "2   362        19Cam  Attractions   \n",
       "3   363        19Cam  Attractions   \n",
       "4   378        19Cam  Attractions   \n",
       "5   414        19Cam  Attractions   \n",
       "18  778  1oldseagull  Attractions   \n",
       "\n",
       "                                                 text  rating  taObjectCity  \\\n",
       "2   The box is only a temporary exhibit while cons...       4        Berlin   \n",
       "3   A large collection, presented in a stunning bu...       3        Berlin   \n",
       "4   After reading all the hype about this show, I ...       5        London   \n",
       "5   Sited within the main botanical gardens area o...       4  Kuala Lumpur   \n",
       "18  First thing, this visiter center was not easy ...       5   Chattanooga   \n",
       "\n",
       "   ageRange gender                                        travelStyle  \n",
       "2     25-34   male  Vegetarian, Urban Explorer, Art and Architectu...  \n",
       "3     25-34   male  Vegetarian, Urban Explorer, Art and Architectu...  \n",
       "4     25-34   male  Vegetarian, Urban Explorer, Art and Architectu...  \n",
       "5     25-34   male  Vegetarian, Urban Explorer, Art and Architectu...  \n",
       "18      65+   male  Foodie, Beach Goer, History Buff, 60+ Traveler...  "
      ]
     },
     "execution_count": 13,
     "metadata": {},
     "output_type": "execute_result"
    }
   ],
   "source": [
    "final_df = data3_merge_4[data3_merge_4.taObjectCity.isin(popular_city)]\n",
    "final_df.head()"
   ]
  },
  {
   "cell_type": "code",
   "execution_count": 14,
   "metadata": {},
   "outputs": [
    {
     "data": {
      "text/plain": [
       "(963, 9)"
      ]
     },
     "execution_count": 14,
     "metadata": {},
     "output_type": "execute_result"
    }
   ],
   "source": [
    "final_df.shape"
   ]
  },
  {
   "cell_type": "code",
   "execution_count": null,
   "metadata": {},
   "outputs": [],
   "source": []
  },
  {
   "cell_type": "code",
   "execution_count": null,
   "metadata": {},
   "outputs": [],
   "source": []
  },
  {
   "cell_type": "code",
   "execution_count": null,
   "metadata": {},
   "outputs": [],
   "source": []
  },
  {
   "cell_type": "code",
   "execution_count": null,
   "metadata": {},
   "outputs": [],
   "source": []
  },
  {
   "cell_type": "markdown",
   "metadata": {},
   "source": [
    "# ALS model\n",
    "## create spark dataframe"
   ]
  },
  {
   "cell_type": "code",
   "execution_count": 15,
   "metadata": {},
   "outputs": [],
   "source": [
    "# Build our Spark Session and Context\n",
    "\n",
    "spark = pyspark.sql.SparkSession.builder.getOrCreate()\n",
    "sc = spark.sparkContext\n",
    "spark, sc\n",
    "sqlContext = SQLContext(sc)"
   ]
  },
  {
   "cell_type": "code",
   "execution_count": 63,
   "metadata": {},
   "outputs": [],
   "source": [
    "temp_rdd = final_df[['username', 'taObjectCity', 'rating']]\n"
   ]
  },
  {
   "cell_type": "code",
   "execution_count": 64,
   "metadata": {},
   "outputs": [
    {
     "name": "stdout",
     "output_type": "stream",
     "text": [
      "[0, 0, 0, 0, 1, 1, 1, 1, 1, 2, 2, 2, 2, 2, 2, 2, 2, 2, 2, 2, 2, 2, 3, 3, 3, 3, 4, 4, 4, 4, 4, 4, 4, 4, 5, 5, 5, 5, 5, 6, 7, 7, 7, 7, 7, 7, 7, 8, 8, 8, 8, 8, 8, 8, 8, 8, 8, 8, 8, 9, 9, 10, 11, 11, 11, 11, 11, 11, 11, 11, 11, 11, 11, 11, 11, 12, 12, 12, 13, 13, 13, 13, 13, 13, 13, 13, 13, 13, 13, 13, 13, 13, 13, 13, 13, 13, 13, 13, 13, 13, 13, 13, 13, 13, 13, 13, 13, 13, 13, 13, 13, 13, 13, 13, 13, 14, 14, 14, 14, 14, 14, 14, 14, 14, 14, 14, 14, 14, 14, 14, 14, 14, 14, 14, 14, 15, 15, 16, 16, 16, 17, 18, 19, 19, 19, 19, 19, 19, 19, 19, 19, 19, 19, 19, 19, 19, 19, 19, 19, 20, 20, 20, 20, 20, 20, 20, 20, 20, 21, 22, 22, 22, 23, 23, 23, 23, 24, 25, 25, 25, 25, 25, 25, 25, 25, 25, 25, 26, 26, 26, 26, 26, 26, 26, 27, 27, 27, 27, 27, 27, 27, 28, 29, 29, 29, 29, 29, 29, 29, 30, 30, 31, 31, 31, 32, 32, 33, 33, 33, 33, 33, 33, 33, 33, 33, 33, 33, 33, 33, 34, 34, 34, 35, 35, 35, 35, 36, 36, 36, 36, 36, 36, 36, 36, 37, 38, 38, 38, 39, 40, 41, 42, 42, 42, 42, 42, 42, 42, 43, 43, 43, 43, 43, 43, 43, 43, 43, 44, 45, 45, 46, 46, 47, 47, 48, 48, 48, 48, 48, 48, 48, 48, 48, 48, 48, 48, 48, 48, 48, 48, 48, 48, 48, 48, 48, 49, 49, 49, 49, 49, 49, 49, 49, 50, 50, 50, 51, 51, 51, 51, 51, 51, 51, 51, 51, 52, 53, 54, 54, 54, 54, 54, 54, 54, 54, 54, 54, 54, 54, 54, 54, 54, 54, 54, 54, 54, 55, 55, 55, 55, 55, 56, 56, 56, 56, 56, 56, 56, 57, 58, 58, 58, 58, 58, 58, 59, 60, 60, 60, 60, 60, 61, 61, 61, 61, 61, 61, 61, 61, 61, 61, 61, 61, 61, 61, 61, 61, 62, 63, 63, 63, 63, 64, 64, 65, 65, 65, 66, 66, 66, 67, 67, 67, 67, 67, 67, 67, 67, 67, 67, 67, 68, 68, 68, 68, 68, 68, 68, 68, 68, 68, 68, 68, 69, 69, 70, 70, 70, 70, 70, 70, 70, 70, 70, 70, 70, 71, 72, 73, 73, 73, 73, 74, 74, 74, 75, 75, 76, 76, 77, 78, 78, 78, 79, 79, 79, 80, 80, 80, 80, 80, 80, 80, 81, 81, 82, 82, 82, 83, 83, 83, 83, 83, 84, 85, 85, 85, 85, 86, 86, 86, 86, 87, 87, 87, 87, 87, 87, 87, 87, 87, 87, 87, 87, 87, 88, 88, 88, 88, 88, 88, 88, 88, 88, 89, 89, 89, 90, 90, 91, 91, 91, 91, 92, 92, 92, 92, 93, 94, 94, 94, 94, 94, 94, 94, 95, 95, 95, 96, 97, 98, 99, 99, 99, 99, 99, 99, 99, 99, 99, 99, 100, 101, 101, 101, 101, 101, 101, 102, 102, 103, 103, 103, 103, 104, 105, 106, 106, 106, 107, 107, 107, 107, 107, 107, 107, 107, 108, 108, 108, 109, 110, 110, 110, 110, 110, 110, 110, 110, 110, 110, 110, 110, 110, 110, 110, 110, 111, 111, 111, 111, 111, 111, 112, 112, 112, 112, 112, 112, 112, 112, 112, 112, 112, 112, 112, 112, 112, 113, 113, 113, 113, 113, 113, 113, 113, 114, 114, 114, 115, 115, 115, 115, 115, 115, 116, 116, 116, 116, 117, 117, 117, 117, 117, 118, 118, 119, 120, 120, 121, 121, 121, 121, 121, 121, 121, 121, 122, 122, 123, 123, 123, 123, 123, 123, 123, 123, 123, 123, 123, 123, 123, 124, 124, 124, 124, 124, 124, 124, 125, 125, 126, 126, 126, 127, 128, 129, 129, 129, 129, 129, 129, 130, 130, 130, 131, 132, 132, 132, 132, 132, 132, 132, 133, 133, 133, 134, 134, 135, 135, 135, 135, 135, 135, 135, 135, 135, 136, 137, 138, 138, 138, 138, 138, 139, 139, 140, 140, 141, 141, 141, 141, 141, 142, 142, 143, 143, 143, 143, 143, 144, 144, 144, 144, 144, 145, 145, 145, 145, 145, 145, 145, 146, 147, 148, 149, 149, 150, 150, 150, 151, 151, 152, 152, 152, 152, 152, 152, 152, 152, 152, 153, 153, 154, 155, 155, 155, 155, 155, 155, 155, 156, 157, 157, 157, 158, 159, 159, 160, 160, 160, 160, 161, 162, 162, 162, 162, 162, 162, 162, 162, 162, 162, 162, 162, 162, 162, 162, 162, 162, 163, 164, 164, 164, 164, 164, 164, 164, 165, 166, 167, 167, 167, 167, 167, 167, 167, 167, 168, 168, 169, 170, 170, 170, 170, 170, 170, 170, 171, 172, 172, 173, 174, 174, 175, 176, 177, 177, 177, 177, 178, 179, 179, 179, 179, 179, 179, 180, 180, 180, 180, 180, 180, 180, 180, 180, 180, 180, 180, 180, 180, 180, 180, 181, 182, 183, 183, 184, 184, 184, 184, 184, 184, 184, 184, 184, 184, 184, 184, 184, 185, 185, 186, 186, 186, 186, 187, 187, 187, 187, 187, 187, 187, 187, 187, 187, 187, 187, 187, 187, 187, 187, 187, 187, 188, 189, 189, 190, 191, 191, 192, 192, 192, 192, 192, 193, 193, 193, 193, 194, 194, 194, 194, 195, 195, 195, 195, 195, 195, 196, 196, 196, 196, 196, 196, 197, 197, 197, 197, 197, 198, 198, 199, 199, 199, 199, 200, 200, 200, 200, 201, 201, 201, 202, 202, 203, 203, 203, 203, 204, 204, 205, 205, 205, 205, 205, 206, 206, 206, 206, 207, 207, 207]\n",
      "       username  taObjectCity  rating\n",
      "2         19Cam        Berlin       4\n",
      "3         19Cam        Berlin       3\n",
      "4         19Cam        London       5\n",
      "5         19Cam  Kuala Lumpur       4\n",
      "18  1oldseagull   Chattanooga       5\n",
      "       username  taObjectCity  rating  user_id\n",
      "2         19Cam        Berlin       4      0.0\n",
      "3         19Cam        Berlin       3      0.0\n",
      "4         19Cam        London       5      1.0\n",
      "5         19Cam  Kuala Lumpur       4      1.0\n",
      "18  1oldseagull   Chattanooga       5      2.0\n"
     ]
    },
    {
     "name": "stderr",
     "output_type": "stream",
     "text": [
      "/anaconda3/lib/python3.6/site-packages/pandas/core/indexing.py:357: SettingWithCopyWarning: \n",
      "A value is trying to be set on a copy of a slice from a DataFrame.\n",
      "Try using .loc[row_indexer,col_indexer] = value instead\n",
      "\n",
      "See the caveats in the documentation: http://pandas.pydata.org/pandas-docs/stable/indexing.html#indexing-view-versus-copy\n",
      "  self.obj[key] = _infer_fill_value(value)\n",
      "/anaconda3/lib/python3.6/site-packages/pandas/core/indexing.py:537: SettingWithCopyWarning: \n",
      "A value is trying to be set on a copy of a slice from a DataFrame.\n",
      "Try using .loc[row_indexer,col_indexer] = value instead\n",
      "\n",
      "See the caveats in the documentation: http://pandas.pydata.org/pandas-docs/stable/indexing.html#indexing-view-versus-copy\n",
      "  self.obj[item] = s\n"
     ]
    }
   ],
   "source": [
    "# dictionary contains unique value for each user\n",
    "user_dict = {}\n",
    "for idx, user in enumerate(temp_rdd.username.unique()):\n",
    "    user_dict[user] = idx\n",
    "    \n",
    "\n",
    "    \n",
    "user_id_list = [user_dict[item] \n",
    "                  for user in temp_rdd.username for item, key in user_dict.items() \n",
    "                  if item == user]\n",
    "print(user_id_list)\n",
    "print(temp_rdd.head())\n",
    "temp_rdd.loc[:, 'user_id'] = pd.Series(user_id_list)\n",
    "print(temp_rdd.head()) \n",
    "#print('total unique users:', len(user_dict))"
   ]
  },
  {
   "cell_type": "code",
   "execution_count": 42,
   "metadata": {},
   "outputs": [
    {
     "data": {
      "text/html": [
       "<div>\n",
       "<style scoped>\n",
       "    .dataframe tbody tr th:only-of-type {\n",
       "        vertical-align: middle;\n",
       "    }\n",
       "\n",
       "    .dataframe tbody tr th {\n",
       "        vertical-align: top;\n",
       "    }\n",
       "\n",
       "    .dataframe thead th {\n",
       "        text-align: right;\n",
       "    }\n",
       "</style>\n",
       "<table border=\"1\" class=\"dataframe\">\n",
       "  <thead>\n",
       "    <tr style=\"text-align: right;\">\n",
       "      <th></th>\n",
       "      <th>username</th>\n",
       "      <th>taObjectCity</th>\n",
       "      <th>rating</th>\n",
       "      <th>user_id</th>\n",
       "    </tr>\n",
       "  </thead>\n",
       "  <tbody>\n",
       "    <tr>\n",
       "      <th>2</th>\n",
       "      <td>19Cam</td>\n",
       "      <td>Berlin</td>\n",
       "      <td>4</td>\n",
       "      <td>0</td>\n",
       "    </tr>\n",
       "    <tr>\n",
       "      <th>3</th>\n",
       "      <td>19Cam</td>\n",
       "      <td>Berlin</td>\n",
       "      <td>3</td>\n",
       "      <td>0</td>\n",
       "    </tr>\n",
       "    <tr>\n",
       "      <th>4</th>\n",
       "      <td>19Cam</td>\n",
       "      <td>London</td>\n",
       "      <td>5</td>\n",
       "      <td>0</td>\n",
       "    </tr>\n",
       "    <tr>\n",
       "      <th>5</th>\n",
       "      <td>19Cam</td>\n",
       "      <td>Kuala Lumpur</td>\n",
       "      <td>4</td>\n",
       "      <td>0</td>\n",
       "    </tr>\n",
       "    <tr>\n",
       "      <th>18</th>\n",
       "      <td>1oldseagull</td>\n",
       "      <td>Chattanooga</td>\n",
       "      <td>5</td>\n",
       "      <td>1</td>\n",
       "    </tr>\n",
       "  </tbody>\n",
       "</table>\n",
       "</div>"
      ],
      "text/plain": [
       "       username  taObjectCity  rating  user_id\n",
       "2         19Cam        Berlin       4        0\n",
       "3         19Cam        Berlin       3        0\n",
       "4         19Cam        London       5        0\n",
       "5         19Cam  Kuala Lumpur       4        0\n",
       "18  1oldseagull   Chattanooga       5        1"
      ]
     },
     "execution_count": 42,
     "metadata": {},
     "output_type": "execute_result"
    }
   ],
   "source": [
    "temp_rdd.head()"
   ]
  },
  {
   "cell_type": "code",
   "execution_count": 33,
   "metadata": {},
   "outputs": [
    {
     "data": {
      "text/plain": [
       "{'19Cam': 0,\n",
       " '1oldseagull': 1,\n",
       " 2093: 2,\n",
       " '23stationroad': 3,\n",
       " '29grapes': 4,\n",
       " '2toots': 5,\n",
       " 422: 6,\n",
       " '4bigdogsCalgary': 7,\n",
       " '6079max': 8,\n",
       " 678855: 9,\n",
       " 'AFamilyYorkshire': 10,\n",
       " 'AHM': 11,\n",
       " 'AJBoston5996': 12,\n",
       " 'ALiEN2108': 13,\n",
       " 'ASN1972': 14,\n",
       " 'ASWh': 15,\n",
       " 'ATP1': 16,\n",
       " 'AV_Surrey': 17,\n",
       " 'AdrianandLoretta': 18,\n",
       " 'Aelwyn': 19,\n",
       " 'AffairsinMiami': 20,\n",
       " 'AfricanHeather': 21,\n",
       " 'AhmetD': 22,\n",
       " 'Akramdash': 23,\n",
       " 'AlabamaTraveler0': 24,\n",
       " 'Alanis628': 25,\n",
       " 'Alfanumeric': 26,\n",
       " 'AliDUk': 27,\n",
       " 'Alkeshmehta': 28,\n",
       " 'AlvinTSingapore': 29,\n",
       " 'Amber9': 30,\n",
       " 'Andrea63': 31,\n",
       " 'Anecdotal': 32,\n",
       " 'Angela075': 33,\n",
       " 'AngelaBax': 34,\n",
       " 'AngelenePenguin': 35,\n",
       " 'AngusAsh': 36,\n",
       " 'Anrmd': 37,\n",
       " 'Antoinette78': 38,\n",
       " 'Antsy280': 39,\n",
       " 'AradhanaVerma': 40,\n",
       " 'Armymed': 41,\n",
       " 'ArtRussianMom': 42,\n",
       " 'Arthur010': 43,\n",
       " 'AspiringFoodie': 44,\n",
       " 'Auli51': 45,\n",
       " 'Aussie_Andrew': 46,\n",
       " 'Aussienando': 47,\n",
       " 'Averbuch': 48,\n",
       " 'Awful_Kgp': 49,\n",
       " 'BMWM5Driver': 50,\n",
       " 'BabsLimerick_Ireland': 51,\n",
       " 'Backfixer': 52,\n",
       " 'Badgerjim': 53,\n",
       " 'Baidoo': 54,\n",
       " 'Bangkokexpat': 55,\n",
       " 'Barbie892': 56,\n",
       " 'Barmag': 57,\n",
       " 'BaronVonNick': 58,\n",
       " 'BarryC2010': 59,\n",
       " 'Basics100': 60,\n",
       " 'Battota_AA': 61,\n",
       " 'Bazzer73': 62,\n",
       " 'BeATraveler': 63,\n",
       " 'BennyDoran': 64,\n",
       " 'BergenRoy': 65,\n",
       " 'Bergern': 66,\n",
       " 'Betsyat240': 67,\n",
       " 'Beverley29': 68,\n",
       " 'BigBlueOcean7': 69,\n",
       " 'BigRuss1213': 70,\n",
       " 'Bignbeefy': 71,\n",
       " 'Bill_Fareham': 72,\n",
       " 'Bingley1': 73,\n",
       " 'BirminghamJollyBoy': 74,\n",
       " 'Bjod': 75,\n",
       " 'Blairz': 76,\n",
       " 'Blaze14': 77,\n",
       " 'Blerke': 78,\n",
       " 'Blue_Norseman': 79,\n",
       " 'Bob1949': 80,\n",
       " 'Bob_the_Aussie': 81,\n",
       " 'BobbyGAus': 82,\n",
       " 'Boccato': 83,\n",
       " 'Bollinge': 84,\n",
       " 'Bongo_Craigy': 85,\n",
       " 'Bonnotgirl': 86,\n",
       " 'BradandJanet': 87,\n",
       " 'BrisbaneMegan': 88,\n",
       " 'Britsabroad2010': 89,\n",
       " 'BrlDsguise': 90,\n",
       " 'Bronz01': 91,\n",
       " 'Brunlea': 92,\n",
       " 'BuddyPUSA': 93,\n",
       " 'Bumbi17': 94,\n",
       " 'Buquing': 95,\n",
       " 'BusyTrveller': 96,\n",
       " 'CAHeadHunter': 97,\n",
       " 'CAMoraga_Family': 98,\n",
       " 'CJIMI': 99,\n",
       " 'COCOFromOttawa': 100,\n",
       " 'CTBCalifornia': 101,\n",
       " 'CZGreenlee': 102,\n",
       " 'CaAz-JT': 103,\n",
       " 'CaffTwo': 104,\n",
       " 'Caiybpf': 105,\n",
       " 'Campanellis': 106,\n",
       " 'CanadianinMadrid': 107,\n",
       " 'CanberraJenny': 108,\n",
       " 'Canoe4770': 109,\n",
       " 'CaptainD4': 110,\n",
       " 'Carl_Pressman': 111,\n",
       " 'CarolinainDallas': 112,\n",
       " 'CarolynLeanne': 113,\n",
       " 'Cary101': 114,\n",
       " 'CasaRoscoe': 115,\n",
       " 'Cashmra': 116,\n",
       " 'CathyOhio': 117,\n",
       " 'Catty140': 118,\n",
       " 'Causette1': 119,\n",
       " 'Charcar': 120,\n",
       " 'Charliegirl211': 121,\n",
       " 'Chellis74': 122,\n",
       " 'CherrySlurpees': 123,\n",
       " 'ChezmossAustralia': 124,\n",
       " 'Chillipeppa': 125,\n",
       " 'ChrisG1956': 126,\n",
       " 'ChrisNCL': 127,\n",
       " 'Chris_Battersea': 128,\n",
       " 'Chunkymicky': 129,\n",
       " 'Clareinsguy': 130,\n",
       " 'Cleopatra03': 131,\n",
       " 'ClintonJ1': 132,\n",
       " 'ClovaTheWestie': 133,\n",
       " 'ColinRAtlanta': 134,\n",
       " 'CorkeyWilson': 135,\n",
       " 'Cortecera': 136,\n",
       " 'CowTails': 137,\n",
       " 'CraigH3': 138,\n",
       " 'Cramz': 139,\n",
       " 'Crumpet2009': 140,\n",
       " 'Cuttingblade': 141,\n",
       " 'CymroDyserth': 142,\n",
       " 'DBSA42': 143,\n",
       " 'DC20something': 144,\n",
       " 'DCTerry': 145,\n",
       " 'DLagent': 146,\n",
       " 'DRuben1330': 147,\n",
       " 'DW00d': 148,\n",
       " 'DWJK': 149,\n",
       " 'D_and_LWales_UK': 150,\n",
       " 'DadRob': 151,\n",
       " 'Dam-Slo': 152,\n",
       " 'Darlox': 153,\n",
       " 'DaveW62': 154,\n",
       " 'David186336': 155,\n",
       " 'DawgmanOH': 156,\n",
       " 'DawnD57': 157,\n",
       " 'Deanna12': 158,\n",
       " 'Deborah0008': 159,\n",
       " 'Dencroft': 160,\n",
       " 'Derman23': 161,\n",
       " 'Devsarkar': 162,\n",
       " 'DianeChayer': 163,\n",
       " 'Disney2007': 164,\n",
       " 'DitaV2': 165,\n",
       " 'Djibuddha': 166,\n",
       " 'DmitryP4': 167,\n",
       " 'Dogger70': 168,\n",
       " 'Doloads': 169,\n",
       " 'Domenicd2000': 170,\n",
       " 'DrRingDing': 171,\n",
       " 'Dr_QBatonRouge': 172,\n",
       " 'Drysdale': 173,\n",
       " 'DublinHank': 174,\n",
       " 'Duece1623': 175,\n",
       " 'DundeeDaytripper': 176,\n",
       " 'Dunn45': 177,\n",
       " 'EGANSMIND': 178,\n",
       " 'EMTBStation53': 179,\n",
       " 'Eagle7345': 180,\n",
       " 'ElGuapo49': 181,\n",
       " 'ElTiante23': 182,\n",
       " 'ElizabethDawn': 183,\n",
       " 'ElleSheri': 184,\n",
       " 'Ellen22': 185,\n",
       " 'Elman1952': 186,\n",
       " 'Emiwillseetheworld11': 187,\n",
       " 'EmmaBelgium': 188,\n",
       " 'Engangskamerat': 189,\n",
       " 'Ennea': 190,\n",
       " 'EquineDoc': 191,\n",
       " 'Equity': 192,\n",
       " 'Escapefromthedesert': 193,\n",
       " 'EssexBarnes': 194,\n",
       " 'Essexfamilyontour': 195,\n",
       " 'EuropeaninAsia': 196,\n",
       " 'Eve18': 197,\n",
       " 'Everlong08': 198,\n",
       " 'ExPatinNica': 199,\n",
       " 'FBIAgent': 200,\n",
       " 'FSHK': 201,\n",
       " 'FY1': 202,\n",
       " 'FabulousTravels': 203,\n",
       " 'FairTaxBill': 204,\n",
       " 'Family1192': 205,\n",
       " 'FamilyTravelJunkkie': 206,\n",
       " 'Farnborough': 207}"
      ]
     },
     "execution_count": 33,
     "metadata": {},
     "output_type": "execute_result"
    }
   ],
   "source": [
    "user_dict"
   ]
  },
  {
   "cell_type": "code",
   "execution_count": 18,
   "metadata": {},
   "outputs": [
    {
     "data": {
      "text/html": [
       "<div>\n",
       "<style scoped>\n",
       "    .dataframe tbody tr th:only-of-type {\n",
       "        vertical-align: middle;\n",
       "    }\n",
       "\n",
       "    .dataframe tbody tr th {\n",
       "        vertical-align: top;\n",
       "    }\n",
       "\n",
       "    .dataframe thead th {\n",
       "        text-align: right;\n",
       "    }\n",
       "</style>\n",
       "<table border=\"1\" class=\"dataframe\">\n",
       "  <thead>\n",
       "    <tr style=\"text-align: right;\">\n",
       "      <th></th>\n",
       "      <th>username</th>\n",
       "      <th>taObjectCity</th>\n",
       "      <th>rating</th>\n",
       "      <th>user_id</th>\n",
       "    </tr>\n",
       "  </thead>\n",
       "  <tbody>\n",
       "    <tr>\n",
       "      <th>2</th>\n",
       "      <td>19Cam</td>\n",
       "      <td>Berlin</td>\n",
       "      <td>4</td>\n",
       "      <td>0</td>\n",
       "    </tr>\n",
       "    <tr>\n",
       "      <th>3</th>\n",
       "      <td>19Cam</td>\n",
       "      <td>Berlin</td>\n",
       "      <td>3</td>\n",
       "      <td>0</td>\n",
       "    </tr>\n",
       "    <tr>\n",
       "      <th>4</th>\n",
       "      <td>19Cam</td>\n",
       "      <td>London</td>\n",
       "      <td>5</td>\n",
       "      <td>0</td>\n",
       "    </tr>\n",
       "    <tr>\n",
       "      <th>5</th>\n",
       "      <td>19Cam</td>\n",
       "      <td>Kuala Lumpur</td>\n",
       "      <td>4</td>\n",
       "      <td>0</td>\n",
       "    </tr>\n",
       "    <tr>\n",
       "      <th>18</th>\n",
       "      <td>1oldseagull</td>\n",
       "      <td>Chattanooga</td>\n",
       "      <td>5</td>\n",
       "      <td>1</td>\n",
       "    </tr>\n",
       "  </tbody>\n",
       "</table>\n",
       "</div>"
      ],
      "text/plain": [
       "       username  taObjectCity  rating  user_id\n",
       "2         19Cam        Berlin       4        0\n",
       "3         19Cam        Berlin       3        0\n",
       "4         19Cam        London       5        0\n",
       "5         19Cam  Kuala Lumpur       4        0\n",
       "18  1oldseagull   Chattanooga       5        1"
      ]
     },
     "execution_count": 18,
     "metadata": {},
     "output_type": "execute_result"
    }
   ],
   "source": [
    "temp_rdd.head()"
   ]
  },
  {
   "cell_type": "code",
   "execution_count": 19,
   "metadata": {},
   "outputs": [],
   "source": [
    "# user_id_list = [user_dict[item] \n",
    "#                   for user in temp_rdd.username for item, key in user_dict.items() \n",
    "#                   if item == user]\n",
    "\n",
    "\n",
    "# temp_rdd['user_id'] = user_id_list"
   ]
  },
  {
   "cell_type": "code",
   "execution_count": 20,
   "metadata": {},
   "outputs": [
    {
     "name": "stdout",
     "output_type": "stream",
     "text": [
      "total unique cities: 56\n"
     ]
    }
   ],
   "source": [
    "# dictionary contains unique value for each city\n",
    "city_dict = {}\n",
    "for idx, city in enumerate(temp_rdd.taObjectCity.unique()):\n",
    "    city_dict[city] = idx\n",
    "print('total unique cities:', len(city_dict))    "
   ]
  },
  {
   "cell_type": "code",
   "execution_count": 21,
   "metadata": {},
   "outputs": [],
   "source": [
    "city_id_list_2 = [city_dict[item] for city in temp_rdd.taObjectCity \n",
    "                  for item, key in city_dict.items() if item == city]"
   ]
  },
  {
   "cell_type": "code",
   "execution_count": 22,
   "metadata": {
    "scrolled": true
   },
   "outputs": [
    {
     "name": "stderr",
     "output_type": "stream",
     "text": [
      "/anaconda3/lib/python3.6/site-packages/ipykernel_launcher.py:2: SettingWithCopyWarning: \n",
      "A value is trying to be set on a copy of a slice from a DataFrame.\n",
      "Try using .loc[row_indexer,col_indexer] = value instead\n",
      "\n",
      "See the caveats in the documentation: http://pandas.pydata.org/pandas-docs/stable/indexing.html#indexing-view-versus-copy\n",
      "  \n",
      "/anaconda3/lib/python3.6/site-packages/ipykernel_launcher.py:3: SettingWithCopyWarning: \n",
      "A value is trying to be set on a copy of a slice from a DataFrame.\n",
      "Try using .loc[row_indexer,col_indexer] = value instead\n",
      "\n",
      "See the caveats in the documentation: http://pandas.pydata.org/pandas-docs/stable/indexing.html#indexing-view-versus-copy\n",
      "  This is separate from the ipykernel package so we can avoid doing imports until\n"
     ]
    }
   ],
   "source": [
    "#temp_rdd['user_id'] = user_id_list\n",
    "temp_rdd['city_id'] = city_id_list_2\n",
    "temp_rdd['rating_float'] = pd.to_numeric(temp_rdd.rating, downcast='float')"
   ]
  },
  {
   "cell_type": "code",
   "execution_count": 23,
   "metadata": {},
   "outputs": [],
   "source": [
    "final_rdd = temp_rdd[['user_id', 'city_id', 'rating_float']]"
   ]
  },
  {
   "cell_type": "code",
   "execution_count": 24,
   "metadata": {},
   "outputs": [
    {
     "ename": "NameError",
     "evalue": "name 'util_matrix' is not defined",
     "output_type": "error",
     "traceback": [
      "\u001b[0;31m---------------------------------------------------------------------------\u001b[0m",
      "\u001b[0;31mNameError\u001b[0m                                 Traceback (most recent call last)",
      "\u001b[0;32m<ipython-input-24-b6789915c62f>\u001b[0m in \u001b[0;36m<module>\u001b[0;34m()\u001b[0m\n\u001b[0;32m----> 1\u001b[0;31m \u001b[0mutil_matrix\u001b[0m\u001b[0;34m.\u001b[0m\u001b[0mhead\u001b[0m\u001b[0;34m(\u001b[0m\u001b[0;34m)\u001b[0m\u001b[0;34m\u001b[0m\u001b[0m\n\u001b[0m",
      "\u001b[0;31mNameError\u001b[0m: name 'util_matrix' is not defined"
     ]
    }
   ],
   "source": [
    "util_matrix.head()"
   ]
  },
  {
   "cell_type": "code",
   "execution_count": null,
   "metadata": {},
   "outputs": [],
   "source": [
    "schema = StructType( [ \n",
    "    StructField('user', IntegerType(), True),\n",
    "    StructField('city', IntegerType(), True),\n",
    "    StructField('rating', FloatType(), True)]\n",
    ")"
   ]
  },
  {
   "cell_type": "code",
   "execution_count": null,
   "metadata": {},
   "outputs": [],
   "source": [
    "# creating spark dataframe\n",
    "#spark_df = sqlContext.createDataFrame(final_rdd, schema)\n",
    "\n",
    "spark_df = sqlContext.createDataFrame(util_matrix, schema)\n"
   ]
  },
  {
   "cell_type": "code",
   "execution_count": null,
   "metadata": {},
   "outputs": [],
   "source": [
    "train, test = spark_df.randomSplit([0.85, 0.15], seed=427471138)"
   ]
  },
  {
   "cell_type": "code",
   "execution_count": null,
   "metadata": {},
   "outputs": [],
   "source": [
    "test.show()"
   ]
  },
  {
   "cell_type": "code",
   "execution_count": null,
   "metadata": {},
   "outputs": [],
   "source": [
    "als_model = ALS(userCol='user',\n",
    "                itemCol='city',\n",
    "                ratingCol='rating',\n",
    "                nonnegative=True,\n",
    "                regParam=0.1,\n",
    "                rank=15\n",
    "               )"
   ]
  },
  {
   "cell_type": "code",
   "execution_count": null,
   "metadata": {},
   "outputs": [],
   "source": [
    "als_recommender = als_model.fit(train)\n",
    "als_recommender"
   ]
  },
  {
   "cell_type": "code",
   "execution_count": null,
   "metadata": {},
   "outputs": [],
   "source": [
    "predictions = als_recommender.transform(test)\n"
   ]
  },
  {
   "cell_type": "code",
   "execution_count": null,
   "metadata": {},
   "outputs": [],
   "source": [
    "predictions.show(20)"
   ]
  },
  {
   "cell_type": "code",
   "execution_count": null,
   "metadata": {},
   "outputs": [],
   "source": [
    "predictions[(predictions.user == '18')].show()"
   ]
  },
  {
   "cell_type": "code",
   "execution_count": null,
   "metadata": {},
   "outputs": [],
   "source": [
    "pred = predictions[(predictions.user == '18') & (predictions.city == '20')].select(\"prediction\").collect()"
   ]
  },
  {
   "cell_type": "code",
   "execution_count": null,
   "metadata": {},
   "outputs": [],
   "source": [
    "pred[0][0]"
   ]
  },
  {
   "cell_type": "code",
   "execution_count": null,
   "metadata": {},
   "outputs": [],
   "source": []
  },
  {
   "cell_type": "code",
   "execution_count": null,
   "metadata": {},
   "outputs": [],
   "source": []
  },
  {
   "cell_type": "code",
   "execution_count": null,
   "metadata": {},
   "outputs": [],
   "source": [
    "from sklearn.metrics import mean_squared_error\n",
    "df_pred = predictions.toPandas()\n",
    "pred = df_pred.prediction\n",
    "\n",
    "actual = df_pred.rating\n",
    "mse = mean_squared_error(actual, pred.fillna(pred.median()))\n",
    "print(\"ALS model''s MSE: \", np.sqrt(mse))"
   ]
  },
  {
   "cell_type": "code",
   "execution_count": null,
   "metadata": {},
   "outputs": [],
   "source": [
    "#df_pred.head()"
   ]
  },
  {
   "cell_type": "code",
   "execution_count": null,
   "metadata": {},
   "outputs": [],
   "source": []
  },
  {
   "cell_type": "markdown",
   "metadata": {},
   "source": [
    "# Hybrid model\n",
    "## user-only matrix"
   ]
  },
  {
   "cell_type": "code",
   "execution_count": null,
   "metadata": {},
   "outputs": [],
   "source": [
    "feature_temp = final_df[['username', 'ageRange', 'gender', 'travelStyle']]\n",
    "feature_temp.head()"
   ]
  },
  {
   "cell_type": "code",
   "execution_count": null,
   "metadata": {},
   "outputs": [],
   "source": [
    "style_lst = [item.split(', ') for item in feature_temp.travelStyle]\n",
    "feature_temp['new_travel'] = style_lst\n"
   ]
  },
  {
   "cell_type": "code",
   "execution_count": null,
   "metadata": {},
   "outputs": [],
   "source": [
    "style_matrix = feature_temp['new_travel'].apply(pd.Series) # 19 styles\n",
    "style_df = pd.get_dummies(style_matrix.apply(pd.Series).stack()).sum(level=0).rename(columns = lambda x : x)"
   ]
  },
  {
   "cell_type": "code",
   "execution_count": null,
   "metadata": {},
   "outputs": [],
   "source": [
    "right = style_df"
   ]
  },
  {
   "cell_type": "code",
   "execution_count": null,
   "metadata": {},
   "outputs": [],
   "source": [
    "left = feature_temp"
   ]
  },
  {
   "cell_type": "code",
   "execution_count": null,
   "metadata": {},
   "outputs": [],
   "source": [
    "feature_temp = left.join(right)"
   ]
  },
  {
   "cell_type": "code",
   "execution_count": null,
   "metadata": {},
   "outputs": [],
   "source": [
    "feature_temp = pd.get_dummies(feature_temp, columns = ['ageRange', 'gender'])"
   ]
  },
  {
   "cell_type": "code",
   "execution_count": null,
   "metadata": {
    "scrolled": false
   },
   "outputs": [],
   "source": [
    "feature_temp = feature_temp.drop(['travelStyle', 'new_travel', 'gender_male','60+ Traveler'], axis =1)"
   ]
  },
  {
   "cell_type": "code",
   "execution_count": null,
   "metadata": {},
   "outputs": [],
   "source": [
    "feature_temp.head()"
   ]
  },
  {
   "cell_type": "code",
   "execution_count": null,
   "metadata": {},
   "outputs": [],
   "source": [
    "feature_final = feature_temp.drop_duplicates()\n"
   ]
  },
  {
   "cell_type": "code",
   "execution_count": null,
   "metadata": {
    "scrolled": false
   },
   "outputs": [],
   "source": [
    "feature_final = feature_final.drop(['username'], axis =1) \n"
   ]
  },
  {
   "cell_type": "code",
   "execution_count": null,
   "metadata": {},
   "outputs": [],
   "source": [
    "feature_final.reset_index(drop=True, inplace=True)"
   ]
  },
  {
   "cell_type": "code",
   "execution_count": null,
   "metadata": {},
   "outputs": [],
   "source": [
    "feature_final.head()"
   ]
  },
  {
   "cell_type": "code",
   "execution_count": null,
   "metadata": {},
   "outputs": [],
   "source": [
    "invert_feature = feature_final.T"
   ]
  },
  {
   "cell_type": "code",
   "execution_count": null,
   "metadata": {},
   "outputs": [],
   "source": [
    "invert_feature.head()"
   ]
  },
  {
   "cell_type": "code",
   "execution_count": null,
   "metadata": {
    "scrolled": true
   },
   "outputs": [],
   "source": [
    "jaccard_similarity_score(invert_feature[0], invert_feature[1])"
   ]
  },
  {
   "cell_type": "code",
   "execution_count": null,
   "metadata": {},
   "outputs": [],
   "source": [
    "#final_rdd.groupby(['city_id', 'user_id'])\n",
    "final_rdd.head()"
   ]
  },
  {
   "cell_type": "code",
   "execution_count": null,
   "metadata": {
    "scrolled": true
   },
   "outputs": [],
   "source": [
    "# df = final_rdd.copy()\n",
    "# final_rdd.groupby(['city_id', 'user_id']).rating_float.mean()"
   ]
  },
  {
   "cell_type": "code",
   "execution_count": null,
   "metadata": {},
   "outputs": [],
   "source": [
    "agg_dict = {'rating_float':'median'}\n",
    "util_matrix = final_rdd.groupby(['user_id','city_id']).agg(agg_dict).reset_index()\n",
    "util_matrix.head(10)"
   ]
  },
  {
   "cell_type": "code",
   "execution_count": null,
   "metadata": {},
   "outputs": [],
   "source": [
    "def get_rating(df,uid,cid):\n",
    "    try:\n",
    "        return df[(df.user_id == uid) & (df.city_id == cid)].rating_float.values[0]\n",
    "    except:\n",
    "        return None"
   ]
  },
  {
   "cell_type": "code",
   "execution_count": null,
   "metadata": {},
   "outputs": [],
   "source": [
    "x = get_rating(util_matrix,0,34)\n",
    "print(x)"
   ]
  },
  {
   "cell_type": "code",
   "execution_count": null,
   "metadata": {
    "scrolled": true
   },
   "outputs": [],
   "source": [
    "abc = util_matrix[util_matrix.city_id == 5]\n",
    "abc"
   ]
  },
  {
   "cell_type": "code",
   "execution_count": null,
   "metadata": {},
   "outputs": [],
   "source": [
    "for i in abc.user_id.values:\n",
    "    print (i)\n",
    "    "
   ]
  },
  {
   "cell_type": "code",
   "execution_count": null,
   "metadata": {},
   "outputs": [],
   "source": [
    "def jaccard_sim_score(udi, cid, user_matrix, util_matrix):\n",
    "    ''' \n",
    "    takes in user(index) and item\n",
    "    returns jaccard similarity score\n",
    "    '''\n",
    "    overall_rating = 0\n",
    "    overall_sim = 0\n",
    "    final_score = 0\n",
    "    \n",
    "    filtered_user = util_matrix[util_matrix.city_id == cid]\n",
    "    print(filtered_user)\n",
    "    for user in filtered_user.user_id.values: \n",
    "        sim_score = jaccard_similarity_score(invert_feature[udi], invert_feature[user])\n",
    "        rating = filtered_user[(filtered_user.user_id == user)].rating_float.values[0]\n",
    "        overall_rating += sim_score * rating\n",
    "        overall_sim +=sim_score\n",
    "\n",
    "\n",
    "    final_score = overall_rating / overall_sim\n",
    "        \n",
    "    return final_score"
   ]
  },
  {
   "cell_type": "code",
   "execution_count": null,
   "metadata": {},
   "outputs": [],
   "source": [
    "user_i = 18\n",
    "item = 20 \n",
    "user_matrix = invert_feature\n",
    "utility_matrix = util_matrix\n",
    "jaccard_sim_score(user_i, item, invert_feature, util_matrix)"
   ]
  },
  {
   "cell_type": "code",
   "execution_count": null,
   "metadata": {},
   "outputs": [],
   "source": [
    "final = (3.626964569091797 + 4.084) / 2"
   ]
  },
  {
   "cell_type": "code",
   "execution_count": null,
   "metadata": {},
   "outputs": [],
   "source": [
    "final"
   ]
  },
  {
   "cell_type": "code",
   "execution_count": null,
   "metadata": {},
   "outputs": [],
   "source": []
  },
  {
   "cell_type": "code",
   "execution_count": null,
   "metadata": {},
   "outputs": [],
   "source": [
    "# class similarity():\n",
    "    \n",
    "#     def __init__():\n",
    "        \n",
    "#         self.\n",
    "        \n",
    "        \n",
    "#     def _similarity():\n",
    "        \n",
    "        \n",
    "        \n",
    "        \n",
    "        "
   ]
  },
  {
   "cell_type": "code",
   "execution_count": null,
   "metadata": {},
   "outputs": [],
   "source": []
  },
  {
   "cell_type": "code",
   "execution_count": null,
   "metadata": {},
   "outputs": [],
   "source": []
  },
  {
   "cell_type": "code",
   "execution_count": null,
   "metadata": {},
   "outputs": [],
   "source": []
  },
  {
   "cell_type": "code",
   "execution_count": null,
   "metadata": {},
   "outputs": [],
   "source": []
  },
  {
   "cell_type": "code",
   "execution_count": null,
   "metadata": {},
   "outputs": [],
   "source": [
    "#df_grouped.describe().T"
   ]
  },
  {
   "cell_type": "code",
   "execution_count": null,
   "metadata": {
    "scrolled": true
   },
   "outputs": [],
   "source": [
    "#df_combined = pd.DataFrame(data = df_grouped.rating_float, index = df_grouped.user_id, columns = df_grouped.city_id )"
   ]
  },
  {
   "cell_type": "code",
   "execution_count": null,
   "metadata": {},
   "outputs": [],
   "source": [
    "#df_combined.head()"
   ]
  },
  {
   "cell_type": "code",
   "execution_count": null,
   "metadata": {},
   "outputs": [],
   "source": [
    "df_combined = df_combined.groupby(['user_id']).sum()"
   ]
  },
  {
   "cell_type": "code",
   "execution_count": null,
   "metadata": {},
   "outputs": [],
   "source": [
    "df_combined.index[1]"
   ]
  },
  {
   "cell_type": "code",
   "execution_count": null,
   "metadata": {},
   "outputs": [],
   "source": []
  }
 ],
 "metadata": {
  "kernelspec": {
   "display_name": "Python 3",
   "language": "python",
   "name": "python3"
  },
  "language_info": {
   "codemirror_mode": {
    "name": "ipython",
    "version": 3
   },
   "file_extension": ".py",
   "mimetype": "text/x-python",
   "name": "python",
   "nbconvert_exporter": "python",
   "pygments_lexer": "ipython3",
   "version": "3.6.4"
  }
 },
 "nbformat": 4,
 "nbformat_minor": 2
}
