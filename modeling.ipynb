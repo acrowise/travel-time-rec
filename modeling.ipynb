{
 "cells": [
  {
   "cell_type": "code",
   "execution_count": 147,
   "metadata": {},
   "outputs": [],
   "source": [
    "# general\n",
    "import pandas as pd\n",
    "from pandas.plotting import scatter_matrix\n",
    "import numpy as np\n",
    "from collections import Counter\n",
    "\n",
    "import pickle\n",
    "\n",
    "\n",
    "import collections\n",
    "from pandas import DataFrame\n",
    "from scipy.cluster.hierarchy import linkage, dendrogram\n",
    "\n",
    "\n",
    "# spark\n",
    "from pyspark.ml.recommendation import ALS\n",
    "from pyspark.sql.types import *\n",
    "import pyspark\n",
    "from pyspark.sql import SQLContext, Row\n",
    "# sk learn\n",
    "from sklearn.cluster import KMeans\n",
    "from sklearn.feature_extraction.text import CountVectorizer, TfidfVectorizer\n",
    "from sklearn.decomposition import NMF\n",
    "from sklearn.metrics.pairwise import linear_kernel\n",
    "import matplotlib.pyplot as plt \n",
    "\n",
    "\n",
    "\n",
    "\n",
    "# similarity\n",
    "from sklearn.metrics import jaccard_similarity_score"
   ]
  },
  {
   "cell_type": "code",
   "execution_count": 2,
   "metadata": {},
   "outputs": [],
   "source": [
    "# personality scores\n",
    "#data1 = pd.read_excel('data/pers_scores_1098.xlsx')\n",
    "# articles by some traveler\n",
    "#data2 = pd.read_excel('data/articles_159.xlsx')\n",
    "# traveler profile\n",
    "data3 = pd.read_excel('data/users_full_7034.xlsx')\n",
    "# traveler and reviews\n",
    "data4 = pd.read_excel('data/reviews_32618_for_1098_users_with_location.xlsx')"
   ]
  },
  {
   "cell_type": "code",
   "execution_count": 3,
   "metadata": {},
   "outputs": [],
   "source": [
    "null_age = data3.ageRange.isnull()\n",
    "null_gender = data3.gender.isnull()\n",
    "null_style = data3.travelStyle.isnull()"
   ]
  },
  {
   "cell_type": "code",
   "execution_count": 4,
   "metadata": {
    "scrolled": true
   },
   "outputs": [
    {
     "name": "stderr",
     "output_type": "stream",
     "text": [
      "/anaconda3/lib/python3.6/site-packages/ipykernel_launcher.py:1: UserWarning: Boolean Series key will be reindexed to match DataFrame index.\n",
      "  \"\"\"Entry point for launching an IPython kernel.\n"
     ]
    }
   ],
   "source": [
    "filtered_data3 = data3[data3.totalPoints > 1000][~null_age][~null_gender][~null_style]\n"
   ]
  },
  {
   "cell_type": "code",
   "execution_count": 5,
   "metadata": {},
   "outputs": [
    {
     "data": {
      "text/html": [
       "<div>\n",
       "<style scoped>\n",
       "    .dataframe tbody tr th:only-of-type {\n",
       "        vertical-align: middle;\n",
       "    }\n",
       "\n",
       "    .dataframe tbody tr th {\n",
       "        vertical-align: top;\n",
       "    }\n",
       "\n",
       "    .dataframe thead th {\n",
       "        text-align: right;\n",
       "    }\n",
       "</style>\n",
       "<table border=\"1\" class=\"dataframe\">\n",
       "  <thead>\n",
       "    <tr style=\"text-align: right;\">\n",
       "      <th></th>\n",
       "      <th>username</th>\n",
       "      <th>ageRange</th>\n",
       "      <th>gender</th>\n",
       "      <th>travelStyle</th>\n",
       "    </tr>\n",
       "  </thead>\n",
       "  <tbody>\n",
       "    <tr>\n",
       "      <th>1</th>\n",
       "      <td>0BKI0</td>\n",
       "      <td>25-34</td>\n",
       "      <td>female</td>\n",
       "      <td>Foodie, Nature Lover, Urban Explorer</td>\n",
       "    </tr>\n",
       "    <tr>\n",
       "      <th>7</th>\n",
       "      <td>14beacon</td>\n",
       "      <td>35-49</td>\n",
       "      <td>male</td>\n",
       "      <td>Foodie, Trendsetter, Like a Local, Luxury Trav...</td>\n",
       "    </tr>\n",
       "    <tr>\n",
       "      <th>12</th>\n",
       "      <td>1975mark</td>\n",
       "      <td>25-34</td>\n",
       "      <td>male</td>\n",
       "      <td>Foodie, Beach Goer, Thrifty Traveller, Nightli...</td>\n",
       "    </tr>\n",
       "    <tr>\n",
       "      <th>15</th>\n",
       "      <td>19Cam</td>\n",
       "      <td>25-34</td>\n",
       "      <td>male</td>\n",
       "      <td>Vegetarian, Urban Explorer, Art and Architectu...</td>\n",
       "    </tr>\n",
       "    <tr>\n",
       "      <th>17</th>\n",
       "      <td>1Angie</td>\n",
       "      <td>18-24</td>\n",
       "      <td>female</td>\n",
       "      <td>Beach Goer, Vegetarian, Urban Explorer</td>\n",
       "    </tr>\n",
       "  </tbody>\n",
       "</table>\n",
       "</div>"
      ],
      "text/plain": [
       "    username ageRange  gender  \\\n",
       "1      0BKI0    25-34  female   \n",
       "7   14beacon    35-49    male   \n",
       "12  1975mark    25-34    male   \n",
       "15     19Cam    25-34    male   \n",
       "17    1Angie    18-24  female   \n",
       "\n",
       "                                          travelStyle  \n",
       "1                Foodie, Nature Lover, Urban Explorer  \n",
       "7   Foodie, Trendsetter, Like a Local, Luxury Trav...  \n",
       "12  Foodie, Beach Goer, Thrifty Traveller, Nightli...  \n",
       "15  Vegetarian, Urban Explorer, Art and Architectu...  \n",
       "17             Beach Goer, Vegetarian, Urban Explorer  "
      ]
     },
     "execution_count": 5,
     "metadata": {},
     "output_type": "execute_result"
    }
   ],
   "source": [
    "filtered_data3 = filtered_data3[['username', 'ageRange', 'gender', 'travelStyle']]\n",
    "filtered_data3.head()"
   ]
  },
  {
   "cell_type": "code",
   "execution_count": 6,
   "metadata": {
    "scrolled": true
   },
   "outputs": [],
   "source": [
    "filtered_data4 = data4[['id', 'username', 'type', 'title', 'text', 'rating', 'taObjectCity']]\n",
    "filtered_data4;\n"
   ]
  },
  {
   "cell_type": "code",
   "execution_count": 7,
   "metadata": {
    "scrolled": true
   },
   "outputs": [],
   "source": [
    "attraction_only = filtered_data4.type == 'Attractions'\n",
    "filtered_data4 = filtered_data4[attraction_only]"
   ]
  },
  {
   "cell_type": "code",
   "execution_count": 8,
   "metadata": {},
   "outputs": [
    {
     "data": {
      "text/html": [
       "<div>\n",
       "<style scoped>\n",
       "    .dataframe tbody tr th:only-of-type {\n",
       "        vertical-align: middle;\n",
       "    }\n",
       "\n",
       "    .dataframe tbody tr th {\n",
       "        vertical-align: top;\n",
       "    }\n",
       "\n",
       "    .dataframe thead th {\n",
       "        text-align: right;\n",
       "    }\n",
       "</style>\n",
       "<table border=\"1\" class=\"dataframe\">\n",
       "  <thead>\n",
       "    <tr style=\"text-align: right;\">\n",
       "      <th></th>\n",
       "      <th>id</th>\n",
       "      <th>username</th>\n",
       "      <th>type</th>\n",
       "      <th>title</th>\n",
       "      <th>text</th>\n",
       "      <th>rating</th>\n",
       "      <th>taObjectCity</th>\n",
       "    </tr>\n",
       "  </thead>\n",
       "  <tbody>\n",
       "    <tr>\n",
       "      <th>2</th>\n",
       "      <td>3</td>\n",
       "      <td>007solotraveler</td>\n",
       "      <td>Attractions</td>\n",
       "      <td>Brilliant - Well worth a visit(s)</td>\n",
       "      <td>Great Museum - abslutely worth making the time...</td>\n",
       "      <td>5</td>\n",
       "      <td>Stockholm</td>\n",
       "    </tr>\n",
       "    <tr>\n",
       "      <th>87</th>\n",
       "      <td>88</td>\n",
       "      <td>124_10</td>\n",
       "      <td>Attractions</td>\n",
       "      <td>Had everything</td>\n",
       "      <td>Noting to dislike about this village. It has e...</td>\n",
       "      <td>5</td>\n",
       "      <td>Corsham</td>\n",
       "    </tr>\n",
       "    <tr>\n",
       "      <th>95</th>\n",
       "      <td>96</td>\n",
       "      <td>12ReasonsWhy</td>\n",
       "      <td>Attractions</td>\n",
       "      <td>Definite must do, wonderful experience!</td>\n",
       "      <td>We were lucky enough to be the only two people...</td>\n",
       "      <td>5</td>\n",
       "      <td>Takayama</td>\n",
       "    </tr>\n",
       "    <tr>\n",
       "      <th>102</th>\n",
       "      <td>103</td>\n",
       "      <td>14beacon</td>\n",
       "      <td>Attractions</td>\n",
       "      <td>Better than expected</td>\n",
       "      <td>Went with my wife, parents, two kids (7) &amp; (12...</td>\n",
       "      <td>5</td>\n",
       "      <td>Charleston</td>\n",
       "    </tr>\n",
       "    <tr>\n",
       "      <th>103</th>\n",
       "      <td>104</td>\n",
       "      <td>14beacon</td>\n",
       "      <td>Attractions</td>\n",
       "      <td>Solid Park - Good Bang for the Buck</td>\n",
       "      <td>My family and I just came back from spending a...</td>\n",
       "      <td>4</td>\n",
       "      <td>Farmingdale</td>\n",
       "    </tr>\n",
       "  </tbody>\n",
       "</table>\n",
       "</div>"
      ],
      "text/plain": [
       "      id         username         type  \\\n",
       "2      3  007solotraveler  Attractions   \n",
       "87    88           124_10  Attractions   \n",
       "95    96     12ReasonsWhy  Attractions   \n",
       "102  103         14beacon  Attractions   \n",
       "103  104         14beacon  Attractions   \n",
       "\n",
       "                                       title  \\\n",
       "2          Brilliant - Well worth a visit(s)   \n",
       "87                            Had everything   \n",
       "95   Definite must do, wonderful experience!   \n",
       "102                     Better than expected   \n",
       "103      Solid Park - Good Bang for the Buck   \n",
       "\n",
       "                                                  text  rating taObjectCity  \n",
       "2    Great Museum - abslutely worth making the time...       5    Stockholm  \n",
       "87   Noting to dislike about this village. It has e...       5      Corsham  \n",
       "95   We were lucky enough to be the only two people...       5     Takayama  \n",
       "102  Went with my wife, parents, two kids (7) & (12...       5   Charleston  \n",
       "103  My family and I just came back from spending a...       4  Farmingdale  "
      ]
     },
     "execution_count": 8,
     "metadata": {},
     "output_type": "execute_result"
    }
   ],
   "source": [
    "filtered_data4.head()"
   ]
  },
  {
   "cell_type": "code",
   "execution_count": 9,
   "metadata": {},
   "outputs": [
    {
     "data": {
      "text/html": [
       "<div>\n",
       "<style scoped>\n",
       "    .dataframe tbody tr th:only-of-type {\n",
       "        vertical-align: middle;\n",
       "    }\n",
       "\n",
       "    .dataframe tbody tr th {\n",
       "        vertical-align: top;\n",
       "    }\n",
       "\n",
       "    .dataframe thead th {\n",
       "        text-align: right;\n",
       "    }\n",
       "</style>\n",
       "<table border=\"1\" class=\"dataframe\">\n",
       "  <thead>\n",
       "    <tr style=\"text-align: right;\">\n",
       "      <th></th>\n",
       "      <th>id</th>\n",
       "      <th>username</th>\n",
       "      <th>type</th>\n",
       "      <th>title</th>\n",
       "      <th>text</th>\n",
       "      <th>rating</th>\n",
       "      <th>taObjectCity</th>\n",
       "      <th>ageRange</th>\n",
       "      <th>gender</th>\n",
       "      <th>travelStyle</th>\n",
       "    </tr>\n",
       "  </thead>\n",
       "  <tbody>\n",
       "    <tr>\n",
       "      <th>0</th>\n",
       "      <td>103</td>\n",
       "      <td>14beacon</td>\n",
       "      <td>Attractions</td>\n",
       "      <td>Better than expected</td>\n",
       "      <td>Went with my wife, parents, two kids (7) &amp; (12...</td>\n",
       "      <td>5</td>\n",
       "      <td>Charleston</td>\n",
       "      <td>35-49</td>\n",
       "      <td>male</td>\n",
       "      <td>Foodie, Trendsetter, Like a Local, Luxury Trav...</td>\n",
       "    </tr>\n",
       "    <tr>\n",
       "      <th>1</th>\n",
       "      <td>104</td>\n",
       "      <td>14beacon</td>\n",
       "      <td>Attractions</td>\n",
       "      <td>Solid Park - Good Bang for the Buck</td>\n",
       "      <td>My family and I just came back from spending a...</td>\n",
       "      <td>4</td>\n",
       "      <td>Farmingdale</td>\n",
       "      <td>35-49</td>\n",
       "      <td>male</td>\n",
       "      <td>Foodie, Trendsetter, Like a Local, Luxury Trav...</td>\n",
       "    </tr>\n",
       "    <tr>\n",
       "      <th>2</th>\n",
       "      <td>362</td>\n",
       "      <td>19Cam</td>\n",
       "      <td>Attractions</td>\n",
       "      <td>See it before its gone</td>\n",
       "      <td>The box is only a temporary exhibit while cons...</td>\n",
       "      <td>4</td>\n",
       "      <td>Berlin</td>\n",
       "      <td>25-34</td>\n",
       "      <td>male</td>\n",
       "      <td>Vegetarian, Urban Explorer, Art and Architectu...</td>\n",
       "    </tr>\n",
       "    <tr>\n",
       "      <th>3</th>\n",
       "      <td>363</td>\n",
       "      <td>19Cam</td>\n",
       "      <td>Attractions</td>\n",
       "      <td>Worth a look for the architecture alone</td>\n",
       "      <td>A large collection, presented in a stunning bu...</td>\n",
       "      <td>3</td>\n",
       "      <td>Berlin</td>\n",
       "      <td>25-34</td>\n",
       "      <td>male</td>\n",
       "      <td>Vegetarian, Urban Explorer, Art and Architectu...</td>\n",
       "    </tr>\n",
       "    <tr>\n",
       "      <th>4</th>\n",
       "      <td>378</td>\n",
       "      <td>19Cam</td>\n",
       "      <td>Attractions</td>\n",
       "      <td>Fantastic</td>\n",
       "      <td>After reading all the hype about this show, I ...</td>\n",
       "      <td>5</td>\n",
       "      <td>London</td>\n",
       "      <td>25-34</td>\n",
       "      <td>male</td>\n",
       "      <td>Vegetarian, Urban Explorer, Art and Architectu...</td>\n",
       "    </tr>\n",
       "  </tbody>\n",
       "</table>\n",
       "</div>"
      ],
      "text/plain": [
       "    id  username         type                                    title  \\\n",
       "0  103  14beacon  Attractions                     Better than expected   \n",
       "1  104  14beacon  Attractions      Solid Park - Good Bang for the Buck   \n",
       "2  362     19Cam  Attractions                   See it before its gone   \n",
       "3  363     19Cam  Attractions  Worth a look for the architecture alone   \n",
       "4  378     19Cam  Attractions                                Fantastic   \n",
       "\n",
       "                                                text  rating taObjectCity  \\\n",
       "0  Went with my wife, parents, two kids (7) & (12...       5   Charleston   \n",
       "1  My family and I just came back from spending a...       4  Farmingdale   \n",
       "2  The box is only a temporary exhibit while cons...       4       Berlin   \n",
       "3  A large collection, presented in a stunning bu...       3       Berlin   \n",
       "4  After reading all the hype about this show, I ...       5       London   \n",
       "\n",
       "  ageRange gender                                        travelStyle  \n",
       "0    35-49   male  Foodie, Trendsetter, Like a Local, Luxury Trav...  \n",
       "1    35-49   male  Foodie, Trendsetter, Like a Local, Luxury Trav...  \n",
       "2    25-34   male  Vegetarian, Urban Explorer, Art and Architectu...  \n",
       "3    25-34   male  Vegetarian, Urban Explorer, Art and Architectu...  \n",
       "4    25-34   male  Vegetarian, Urban Explorer, Art and Architectu...  "
      ]
     },
     "execution_count": 9,
     "metadata": {},
     "output_type": "execute_result"
    }
   ],
   "source": [
    "data3_merge_4 = pd.merge(filtered_data4, filtered_data3, on=['username'])\n",
    "data3_merge_4.head()"
   ]
  },
  {
   "cell_type": "code",
   "execution_count": 10,
   "metadata": {},
   "outputs": [],
   "source": [
    "span_mask1 = (data3_merge_4.username == 'AnaS1')\n",
    "span_mask2 = (data3_merge_4.username == 'DaniLK')\n",
    "span_mask3 = (data3_merge_4.username == 'Aprile_24')\n",
    "non_city_mask = (data3_merge_4.taObjectCity == 'California')"
   ]
  },
  {
   "cell_type": "code",
   "execution_count": 11,
   "metadata": {},
   "outputs": [
    {
     "name": "stderr",
     "output_type": "stream",
     "text": [
      "/anaconda3/lib/python3.6/site-packages/ipykernel_launcher.py:1: UserWarning: Boolean Series key will be reindexed to match DataFrame index.\n",
      "  \"\"\"Entry point for launching an IPython kernel.\n"
     ]
    }
   ],
   "source": [
    "data3_merge_4 = data3_merge_4[~span_mask1][~span_mask2][~span_mask3][~non_city_mask]"
   ]
  },
  {
   "cell_type": "code",
   "execution_count": null,
   "metadata": {},
   "outputs": [],
   "source": []
  },
  {
   "cell_type": "code",
   "execution_count": 12,
   "metadata": {},
   "outputs": [
    {
     "name": "stdout",
     "output_type": "stream",
     "text": [
      "56\n"
     ]
    }
   ],
   "source": [
    "# cities with more than 4 reviews\n",
    "popular_city = []\n",
    "for item, value in Counter(data3_merge_4.taObjectCity).items():\n",
    "    if value > 7:\n",
    "        popular_city.append(item)\n",
    "print(len(popular_city))"
   ]
  },
  {
   "cell_type": "code",
   "execution_count": 13,
   "metadata": {
    "scrolled": true
   },
   "outputs": [
    {
     "data": {
      "text/html": [
       "<div>\n",
       "<style scoped>\n",
       "    .dataframe tbody tr th:only-of-type {\n",
       "        vertical-align: middle;\n",
       "    }\n",
       "\n",
       "    .dataframe tbody tr th {\n",
       "        vertical-align: top;\n",
       "    }\n",
       "\n",
       "    .dataframe thead th {\n",
       "        text-align: right;\n",
       "    }\n",
       "</style>\n",
       "<table border=\"1\" class=\"dataframe\">\n",
       "  <thead>\n",
       "    <tr style=\"text-align: right;\">\n",
       "      <th></th>\n",
       "      <th>id</th>\n",
       "      <th>username</th>\n",
       "      <th>type</th>\n",
       "      <th>title</th>\n",
       "      <th>text</th>\n",
       "      <th>rating</th>\n",
       "      <th>taObjectCity</th>\n",
       "      <th>ageRange</th>\n",
       "      <th>gender</th>\n",
       "      <th>travelStyle</th>\n",
       "    </tr>\n",
       "  </thead>\n",
       "  <tbody>\n",
       "    <tr>\n",
       "      <th>2</th>\n",
       "      <td>362</td>\n",
       "      <td>19Cam</td>\n",
       "      <td>Attractions</td>\n",
       "      <td>See it before its gone</td>\n",
       "      <td>The box is only a temporary exhibit while cons...</td>\n",
       "      <td>4</td>\n",
       "      <td>Berlin</td>\n",
       "      <td>25-34</td>\n",
       "      <td>male</td>\n",
       "      <td>Vegetarian, Urban Explorer, Art and Architectu...</td>\n",
       "    </tr>\n",
       "    <tr>\n",
       "      <th>3</th>\n",
       "      <td>363</td>\n",
       "      <td>19Cam</td>\n",
       "      <td>Attractions</td>\n",
       "      <td>Worth a look for the architecture alone</td>\n",
       "      <td>A large collection, presented in a stunning bu...</td>\n",
       "      <td>3</td>\n",
       "      <td>Berlin</td>\n",
       "      <td>25-34</td>\n",
       "      <td>male</td>\n",
       "      <td>Vegetarian, Urban Explorer, Art and Architectu...</td>\n",
       "    </tr>\n",
       "    <tr>\n",
       "      <th>4</th>\n",
       "      <td>378</td>\n",
       "      <td>19Cam</td>\n",
       "      <td>Attractions</td>\n",
       "      <td>Fantastic</td>\n",
       "      <td>After reading all the hype about this show, I ...</td>\n",
       "      <td>5</td>\n",
       "      <td>London</td>\n",
       "      <td>25-34</td>\n",
       "      <td>male</td>\n",
       "      <td>Vegetarian, Urban Explorer, Art and Architectu...</td>\n",
       "    </tr>\n",
       "    <tr>\n",
       "      <th>5</th>\n",
       "      <td>414</td>\n",
       "      <td>19Cam</td>\n",
       "      <td>Attractions</td>\n",
       "      <td>Tranquility in a busy city</td>\n",
       "      <td>Sited within the main botanical gardens area o...</td>\n",
       "      <td>4</td>\n",
       "      <td>Kuala Lumpur</td>\n",
       "      <td>25-34</td>\n",
       "      <td>male</td>\n",
       "      <td>Vegetarian, Urban Explorer, Art and Architectu...</td>\n",
       "    </tr>\n",
       "    <tr>\n",
       "      <th>18</th>\n",
       "      <td>778</td>\n",
       "      <td>1oldseagull</td>\n",
       "      <td>Attractions</td>\n",
       "      <td>THIS SHOULD BE A FIRST STOP</td>\n",
       "      <td>First thing, this visiter center was not easy ...</td>\n",
       "      <td>5</td>\n",
       "      <td>Chattanooga</td>\n",
       "      <td>65+</td>\n",
       "      <td>male</td>\n",
       "      <td>Foodie, Beach Goer, History Buff, 60+ Traveler...</td>\n",
       "    </tr>\n",
       "  </tbody>\n",
       "</table>\n",
       "</div>"
      ],
      "text/plain": [
       "     id     username         type                                    title  \\\n",
       "2   362        19Cam  Attractions                   See it before its gone   \n",
       "3   363        19Cam  Attractions  Worth a look for the architecture alone   \n",
       "4   378        19Cam  Attractions                                Fantastic   \n",
       "5   414        19Cam  Attractions               Tranquility in a busy city   \n",
       "18  778  1oldseagull  Attractions              THIS SHOULD BE A FIRST STOP   \n",
       "\n",
       "                                                 text  rating  taObjectCity  \\\n",
       "2   The box is only a temporary exhibit while cons...       4        Berlin   \n",
       "3   A large collection, presented in a stunning bu...       3        Berlin   \n",
       "4   After reading all the hype about this show, I ...       5        London   \n",
       "5   Sited within the main botanical gardens area o...       4  Kuala Lumpur   \n",
       "18  First thing, this visiter center was not easy ...       5   Chattanooga   \n",
       "\n",
       "   ageRange gender                                        travelStyle  \n",
       "2     25-34   male  Vegetarian, Urban Explorer, Art and Architectu...  \n",
       "3     25-34   male  Vegetarian, Urban Explorer, Art and Architectu...  \n",
       "4     25-34   male  Vegetarian, Urban Explorer, Art and Architectu...  \n",
       "5     25-34   male  Vegetarian, Urban Explorer, Art and Architectu...  \n",
       "18      65+   male  Foodie, Beach Goer, History Buff, 60+ Traveler...  "
      ]
     },
     "execution_count": 13,
     "metadata": {},
     "output_type": "execute_result"
    }
   ],
   "source": [
    "final_df = data3_merge_4[data3_merge_4.taObjectCity.isin(popular_city)]\n",
    "final_df.head()"
   ]
  },
  {
   "cell_type": "code",
   "execution_count": 14,
   "metadata": {},
   "outputs": [
    {
     "data": {
      "text/plain": [
       "(963, 10)"
      ]
     },
     "execution_count": 14,
     "metadata": {},
     "output_type": "execute_result"
    }
   ],
   "source": [
    "final_df.shape"
   ]
  },
  {
   "cell_type": "code",
   "execution_count": null,
   "metadata": {},
   "outputs": [],
   "source": []
  },
  {
   "cell_type": "code",
   "execution_count": null,
   "metadata": {},
   "outputs": [],
   "source": []
  },
  {
   "cell_type": "code",
   "execution_count": null,
   "metadata": {},
   "outputs": [],
   "source": []
  },
  {
   "cell_type": "markdown",
   "metadata": {},
   "source": [
    "# NMF model\n"
   ]
  },
  {
   "cell_type": "code",
   "execution_count": 24,
   "metadata": {},
   "outputs": [],
   "source": [
    "X = np.array([[1, 1, 3], [2, 1, 4], [3, 1.2, 5], [4, 1, 3], [5, 0.8, 4], [6, 1, 5]])\n"
   ]
  },
  {
   "cell_type": "code",
   "execution_count": 25,
   "metadata": {},
   "outputs": [
    {
     "data": {
      "text/html": [
       "<div>\n",
       "<style scoped>\n",
       "    .dataframe tbody tr th:only-of-type {\n",
       "        vertical-align: middle;\n",
       "    }\n",
       "\n",
       "    .dataframe tbody tr th {\n",
       "        vertical-align: top;\n",
       "    }\n",
       "\n",
       "    .dataframe thead th {\n",
       "        text-align: right;\n",
       "    }\n",
       "</style>\n",
       "<table border=\"1\" class=\"dataframe\">\n",
       "  <thead>\n",
       "    <tr style=\"text-align: right;\">\n",
       "      <th></th>\n",
       "      <th>0</th>\n",
       "      <th>1</th>\n",
       "      <th>2</th>\n",
       "    </tr>\n",
       "  </thead>\n",
       "  <tbody>\n",
       "    <tr>\n",
       "      <th>0</th>\n",
       "      <td>1.0</td>\n",
       "      <td>1.0</td>\n",
       "      <td>3.0</td>\n",
       "    </tr>\n",
       "    <tr>\n",
       "      <th>1</th>\n",
       "      <td>2.0</td>\n",
       "      <td>1.0</td>\n",
       "      <td>4.0</td>\n",
       "    </tr>\n",
       "    <tr>\n",
       "      <th>2</th>\n",
       "      <td>3.0</td>\n",
       "      <td>1.2</td>\n",
       "      <td>5.0</td>\n",
       "    </tr>\n",
       "    <tr>\n",
       "      <th>3</th>\n",
       "      <td>4.0</td>\n",
       "      <td>1.0</td>\n",
       "      <td>3.0</td>\n",
       "    </tr>\n",
       "    <tr>\n",
       "      <th>4</th>\n",
       "      <td>5.0</td>\n",
       "      <td>0.8</td>\n",
       "      <td>4.0</td>\n",
       "    </tr>\n",
       "    <tr>\n",
       "      <th>5</th>\n",
       "      <td>6.0</td>\n",
       "      <td>1.0</td>\n",
       "      <td>5.0</td>\n",
       "    </tr>\n",
       "  </tbody>\n",
       "</table>\n",
       "</div>"
      ],
      "text/plain": [
       "     0    1    2\n",
       "0  1.0  1.0  3.0\n",
       "1  2.0  1.0  4.0\n",
       "2  3.0  1.2  5.0\n",
       "3  4.0  1.0  3.0\n",
       "4  5.0  0.8  4.0\n",
       "5  6.0  1.0  5.0"
      ]
     },
     "execution_count": 25,
     "metadata": {},
     "output_type": "execute_result"
    }
   ],
   "source": [
    "X_df = pd.DataFrame(data = X)\n",
    "#  columns=['user','city','rating']\n",
    "X_df"
   ]
  },
  {
   "cell_type": "code",
   "execution_count": 32,
   "metadata": {},
   "outputs": [],
   "source": [
    "model = NMF(n_components=2, init='random', random_state=0)\n",
    "W = model.fit_transform(X)\n",
    "H = model.components_"
   ]
  },
  {
   "cell_type": "code",
   "execution_count": 33,
   "metadata": {},
   "outputs": [
    {
     "data": {
      "text/plain": [
       "array([[2.21803764, 0.37620259, 1.71324087],\n",
       "       [1.452353  , 1.21912311, 4.46312145]])"
      ]
     },
     "execution_count": 33,
     "metadata": {},
     "output_type": "execute_result"
    }
   ],
   "source": [
    "H"
   ]
  },
  {
   "cell_type": "code",
   "execution_count": 34,
   "metadata": {},
   "outputs": [
    {
     "data": {
      "text/plain": [
       "array([[0.        , 0.68300273],\n",
       "       [0.42469943, 0.73000053],\n",
       "       [0.83390742, 0.79482885],\n",
       "       [1.79214877, 0.00507249],\n",
       "       [2.23458995, 0.03315586],\n",
       "       [2.64379794, 0.09798417]])"
      ]
     },
     "execution_count": 34,
     "metadata": {},
     "output_type": "execute_result"
    }
   ],
   "source": [
    "W"
   ]
  },
  {
   "cell_type": "code",
   "execution_count": 42,
   "metadata": {},
   "outputs": [
    {
     "data": {
      "text/plain": [
       "4.966777925454759"
      ]
     },
     "execution_count": 42,
     "metadata": {},
     "output_type": "execute_result"
    }
   ],
   "source": [
    "W[5].dot(H.T[2])"
   ]
  },
  {
   "cell_type": "code",
   "execution_count": null,
   "metadata": {},
   "outputs": [],
   "source": []
  },
  {
   "cell_type": "code",
   "execution_count": null,
   "metadata": {},
   "outputs": [],
   "source": []
  },
  {
   "cell_type": "markdown",
   "metadata": {},
   "source": [
    "# ALS model\n",
    "## create spark dataframe"
   ]
  },
  {
   "cell_type": "code",
   "execution_count": 78,
   "metadata": {},
   "outputs": [],
   "source": [
    "# Build our Spark Session and Context\n",
    "\n",
    "spark = pyspark.sql.SparkSession.builder.getOrCreate()\n",
    "sc = spark.sparkContext\n",
    "spark, sc\n",
    "sqlContext = SQLContext(sc)"
   ]
  },
  {
   "cell_type": "code",
   "execution_count": 79,
   "metadata": {},
   "outputs": [],
   "source": [
    "temp_rdd = final_df[['username', 'taObjectCity', 'rating']]\n"
   ]
  },
  {
   "cell_type": "code",
   "execution_count": 80,
   "metadata": {},
   "outputs": [],
   "source": [
    "user_dict_df = pd.DataFrame(temp_rdd.username.unique(), columns = ['username'])\n",
    "city_dict_df = pd.DataFrame(temp_rdd.taObjectCity.unique(), columns = ['taObjectCity'])"
   ]
  },
  {
   "cell_type": "code",
   "execution_count": 81,
   "metadata": {},
   "outputs": [
    {
     "data": {
      "text/html": [
       "<div>\n",
       "<style scoped>\n",
       "    .dataframe tbody tr th:only-of-type {\n",
       "        vertical-align: middle;\n",
       "    }\n",
       "\n",
       "    .dataframe tbody tr th {\n",
       "        vertical-align: top;\n",
       "    }\n",
       "\n",
       "    .dataframe thead th {\n",
       "        text-align: right;\n",
       "    }\n",
       "</style>\n",
       "<table border=\"1\" class=\"dataframe\">\n",
       "  <thead>\n",
       "    <tr style=\"text-align: right;\">\n",
       "      <th></th>\n",
       "      <th>username</th>\n",
       "    </tr>\n",
       "  </thead>\n",
       "  <tbody>\n",
       "    <tr>\n",
       "      <th>0</th>\n",
       "      <td>19Cam</td>\n",
       "    </tr>\n",
       "    <tr>\n",
       "      <th>1</th>\n",
       "      <td>1oldseagull</td>\n",
       "    </tr>\n",
       "    <tr>\n",
       "      <th>2</th>\n",
       "      <td>2093</td>\n",
       "    </tr>\n",
       "    <tr>\n",
       "      <th>3</th>\n",
       "      <td>23stationroad</td>\n",
       "    </tr>\n",
       "    <tr>\n",
       "      <th>4</th>\n",
       "      <td>29grapes</td>\n",
       "    </tr>\n",
       "  </tbody>\n",
       "</table>\n",
       "</div>"
      ],
      "text/plain": [
       "        username\n",
       "0          19Cam\n",
       "1    1oldseagull\n",
       "2           2093\n",
       "3  23stationroad\n",
       "4       29grapes"
      ]
     },
     "execution_count": 81,
     "metadata": {},
     "output_type": "execute_result"
    }
   ],
   "source": [
    "user_dict_df.head()"
   ]
  },
  {
   "cell_type": "code",
   "execution_count": 82,
   "metadata": {},
   "outputs": [],
   "source": [
    "user_temp = user_dict_df.reset_index()\n",
    "city_temp = city_dict_df.reset_index()"
   ]
  },
  {
   "cell_type": "code",
   "execution_count": 83,
   "metadata": {},
   "outputs": [],
   "source": [
    "user_df = user_temp.rename(columns = {'index':'user_id'})\n",
    "city_df = city_temp.rename(columns = {'index':'city_id'})\n"
   ]
  },
  {
   "cell_type": "code",
   "execution_count": 84,
   "metadata": {},
   "outputs": [
    {
     "data": {
      "text/plain": [
       "(208, 2)"
      ]
     },
     "execution_count": 84,
     "metadata": {},
     "output_type": "execute_result"
    }
   ],
   "source": [
    "user_df.shape"
   ]
  },
  {
   "cell_type": "code",
   "execution_count": 85,
   "metadata": {},
   "outputs": [
    {
     "data": {
      "text/plain": [
       "(56, 2)"
      ]
     },
     "execution_count": 85,
     "metadata": {},
     "output_type": "execute_result"
    }
   ],
   "source": [
    "city_df.shape"
   ]
  },
  {
   "cell_type": "code",
   "execution_count": 86,
   "metadata": {},
   "outputs": [
    {
     "data": {
      "text/plain": [
       "11648"
      ]
     },
     "execution_count": 86,
     "metadata": {},
     "output_type": "execute_result"
    }
   ],
   "source": [
    "208*56"
   ]
  },
  {
   "cell_type": "code",
   "execution_count": 87,
   "metadata": {
    "scrolled": true
   },
   "outputs": [],
   "source": [
    "# dictionary contains unique value for each user\n",
    "#temp1_df = pd.merge(left, right, on='username')\n"
   ]
  },
  {
   "cell_type": "code",
   "execution_count": 88,
   "metadata": {},
   "outputs": [
    {
     "data": {
      "text/html": [
       "<div>\n",
       "<style scoped>\n",
       "    .dataframe tbody tr th:only-of-type {\n",
       "        vertical-align: middle;\n",
       "    }\n",
       "\n",
       "    .dataframe tbody tr th {\n",
       "        vertical-align: top;\n",
       "    }\n",
       "\n",
       "    .dataframe thead th {\n",
       "        text-align: right;\n",
       "    }\n",
       "</style>\n",
       "<table border=\"1\" class=\"dataframe\">\n",
       "  <thead>\n",
       "    <tr style=\"text-align: right;\">\n",
       "      <th></th>\n",
       "      <th>user_id</th>\n",
       "      <th>username</th>\n",
       "    </tr>\n",
       "  </thead>\n",
       "  <tbody>\n",
       "    <tr>\n",
       "      <th>0</th>\n",
       "      <td>0</td>\n",
       "      <td>19Cam</td>\n",
       "    </tr>\n",
       "    <tr>\n",
       "      <th>1</th>\n",
       "      <td>1</td>\n",
       "      <td>1oldseagull</td>\n",
       "    </tr>\n",
       "    <tr>\n",
       "      <th>2</th>\n",
       "      <td>2</td>\n",
       "      <td>2093</td>\n",
       "    </tr>\n",
       "    <tr>\n",
       "      <th>3</th>\n",
       "      <td>3</td>\n",
       "      <td>23stationroad</td>\n",
       "    </tr>\n",
       "    <tr>\n",
       "      <th>4</th>\n",
       "      <td>4</td>\n",
       "      <td>29grapes</td>\n",
       "    </tr>\n",
       "    <tr>\n",
       "      <th>5</th>\n",
       "      <td>5</td>\n",
       "      <td>2toots</td>\n",
       "    </tr>\n",
       "    <tr>\n",
       "      <th>6</th>\n",
       "      <td>6</td>\n",
       "      <td>422</td>\n",
       "    </tr>\n",
       "    <tr>\n",
       "      <th>7</th>\n",
       "      <td>7</td>\n",
       "      <td>4bigdogsCalgary</td>\n",
       "    </tr>\n",
       "    <tr>\n",
       "      <th>8</th>\n",
       "      <td>8</td>\n",
       "      <td>6079max</td>\n",
       "    </tr>\n",
       "    <tr>\n",
       "      <th>9</th>\n",
       "      <td>9</td>\n",
       "      <td>678855</td>\n",
       "    </tr>\n",
       "  </tbody>\n",
       "</table>\n",
       "</div>"
      ],
      "text/plain": [
       "   user_id         username\n",
       "0        0            19Cam\n",
       "1        1      1oldseagull\n",
       "2        2             2093\n",
       "3        3    23stationroad\n",
       "4        4         29grapes\n",
       "5        5           2toots\n",
       "6        6              422\n",
       "7        7  4bigdogsCalgary\n",
       "8        8          6079max\n",
       "9        9           678855"
      ]
     },
     "execution_count": 88,
     "metadata": {},
     "output_type": "execute_result"
    }
   ],
   "source": [
    "user_df.head(10)"
   ]
  },
  {
   "cell_type": "code",
   "execution_count": 89,
   "metadata": {},
   "outputs": [
    {
     "data": {
      "text/html": [
       "<div>\n",
       "<style scoped>\n",
       "    .dataframe tbody tr th:only-of-type {\n",
       "        vertical-align: middle;\n",
       "    }\n",
       "\n",
       "    .dataframe tbody tr th {\n",
       "        vertical-align: top;\n",
       "    }\n",
       "\n",
       "    .dataframe thead th {\n",
       "        text-align: right;\n",
       "    }\n",
       "</style>\n",
       "<table border=\"1\" class=\"dataframe\">\n",
       "  <thead>\n",
       "    <tr style=\"text-align: right;\">\n",
       "      <th></th>\n",
       "      <th>city_id</th>\n",
       "      <th>taObjectCity</th>\n",
       "    </tr>\n",
       "  </thead>\n",
       "  <tbody>\n",
       "    <tr>\n",
       "      <th>0</th>\n",
       "      <td>0</td>\n",
       "      <td>Berlin</td>\n",
       "    </tr>\n",
       "    <tr>\n",
       "      <th>1</th>\n",
       "      <td>1</td>\n",
       "      <td>London</td>\n",
       "    </tr>\n",
       "    <tr>\n",
       "      <th>2</th>\n",
       "      <td>2</td>\n",
       "      <td>Kuala Lumpur</td>\n",
       "    </tr>\n",
       "    <tr>\n",
       "      <th>3</th>\n",
       "      <td>3</td>\n",
       "      <td>Chattanooga</td>\n",
       "    </tr>\n",
       "    <tr>\n",
       "      <th>4</th>\n",
       "      <td>4</td>\n",
       "      <td>St. Petersburg</td>\n",
       "    </tr>\n",
       "  </tbody>\n",
       "</table>\n",
       "</div>"
      ],
      "text/plain": [
       "   city_id    taObjectCity\n",
       "0        0          Berlin\n",
       "1        1          London\n",
       "2        2    Kuala Lumpur\n",
       "3        3     Chattanooga\n",
       "4        4  St. Petersburg"
      ]
     },
     "execution_count": 89,
     "metadata": {},
     "output_type": "execute_result"
    }
   ],
   "source": [
    "city_df.head()"
   ]
  },
  {
   "cell_type": "code",
   "execution_count": 90,
   "metadata": {},
   "outputs": [],
   "source": [
    "left = temp_rdd\n",
    "right1 = user_df\n",
    "right2 = city_df\n",
    "\n",
    "\n",
    "up_temp_df = pd.merge(left, right1, on = 'username')\n",
    "result_df = pd.merge(up_temp_df, right2, on = 'taObjectCity')"
   ]
  },
  {
   "cell_type": "code",
   "execution_count": 91,
   "metadata": {},
   "outputs": [
    {
     "data": {
      "text/html": [
       "<div>\n",
       "<style scoped>\n",
       "    .dataframe tbody tr th:only-of-type {\n",
       "        vertical-align: middle;\n",
       "    }\n",
       "\n",
       "    .dataframe tbody tr th {\n",
       "        vertical-align: top;\n",
       "    }\n",
       "\n",
       "    .dataframe thead th {\n",
       "        text-align: right;\n",
       "    }\n",
       "</style>\n",
       "<table border=\"1\" class=\"dataframe\">\n",
       "  <thead>\n",
       "    <tr style=\"text-align: right;\">\n",
       "      <th></th>\n",
       "      <th>username</th>\n",
       "      <th>taObjectCity</th>\n",
       "      <th>rating</th>\n",
       "      <th>user_id</th>\n",
       "      <th>city_id</th>\n",
       "    </tr>\n",
       "  </thead>\n",
       "  <tbody>\n",
       "    <tr>\n",
       "      <th>0</th>\n",
       "      <td>19Cam</td>\n",
       "      <td>Berlin</td>\n",
       "      <td>4</td>\n",
       "      <td>0</td>\n",
       "      <td>0</td>\n",
       "    </tr>\n",
       "    <tr>\n",
       "      <th>1</th>\n",
       "      <td>19Cam</td>\n",
       "      <td>Berlin</td>\n",
       "      <td>3</td>\n",
       "      <td>0</td>\n",
       "      <td>0</td>\n",
       "    </tr>\n",
       "    <tr>\n",
       "      <th>2</th>\n",
       "      <td>6079max</td>\n",
       "      <td>Berlin</td>\n",
       "      <td>5</td>\n",
       "      <td>8</td>\n",
       "      <td>0</td>\n",
       "    </tr>\n",
       "    <tr>\n",
       "      <th>3</th>\n",
       "      <td>6079max</td>\n",
       "      <td>Berlin</td>\n",
       "      <td>5</td>\n",
       "      <td>8</td>\n",
       "      <td>0</td>\n",
       "    </tr>\n",
       "    <tr>\n",
       "      <th>4</th>\n",
       "      <td>Bumbi17</td>\n",
       "      <td>Berlin</td>\n",
       "      <td>4</td>\n",
       "      <td>94</td>\n",
       "      <td>0</td>\n",
       "    </tr>\n",
       "    <tr>\n",
       "      <th>5</th>\n",
       "      <td>Bumbi17</td>\n",
       "      <td>Berlin</td>\n",
       "      <td>3</td>\n",
       "      <td>94</td>\n",
       "      <td>0</td>\n",
       "    </tr>\n",
       "    <tr>\n",
       "      <th>6</th>\n",
       "      <td>Bumbi17</td>\n",
       "      <td>Berlin</td>\n",
       "      <td>3</td>\n",
       "      <td>94</td>\n",
       "      <td>0</td>\n",
       "    </tr>\n",
       "    <tr>\n",
       "      <th>7</th>\n",
       "      <td>Bumbi17</td>\n",
       "      <td>Berlin</td>\n",
       "      <td>5</td>\n",
       "      <td>94</td>\n",
       "      <td>0</td>\n",
       "    </tr>\n",
       "    <tr>\n",
       "      <th>8</th>\n",
       "      <td>CJIMI</td>\n",
       "      <td>Berlin</td>\n",
       "      <td>5</td>\n",
       "      <td>99</td>\n",
       "      <td>0</td>\n",
       "    </tr>\n",
       "    <tr>\n",
       "      <th>9</th>\n",
       "      <td>CJIMI</td>\n",
       "      <td>Berlin</td>\n",
       "      <td>5</td>\n",
       "      <td>99</td>\n",
       "      <td>0</td>\n",
       "    </tr>\n",
       "  </tbody>\n",
       "</table>\n",
       "</div>"
      ],
      "text/plain": [
       "  username taObjectCity  rating  user_id  city_id\n",
       "0    19Cam       Berlin       4        0        0\n",
       "1    19Cam       Berlin       3        0        0\n",
       "2  6079max       Berlin       5        8        0\n",
       "3  6079max       Berlin       5        8        0\n",
       "4  Bumbi17       Berlin       4       94        0\n",
       "5  Bumbi17       Berlin       3       94        0\n",
       "6  Bumbi17       Berlin       3       94        0\n",
       "7  Bumbi17       Berlin       5       94        0\n",
       "8    CJIMI       Berlin       5       99        0\n",
       "9    CJIMI       Berlin       5       99        0"
      ]
     },
     "execution_count": 91,
     "metadata": {},
     "output_type": "execute_result"
    }
   ],
   "source": [
    "result_df.head(10)"
   ]
  },
  {
   "cell_type": "code",
   "execution_count": 92,
   "metadata": {},
   "outputs": [],
   "source": [
    "\n",
    "agg_dict = {'rating':'median'}\n",
    "util_matrix = result_df.groupby(['user_id', 'city_id']).agg(agg_dict).reset_index()"
   ]
  },
  {
   "cell_type": "code",
   "execution_count": 93,
   "metadata": {},
   "outputs": [
    {
     "data": {
      "text/html": [
       "<div>\n",
       "<style scoped>\n",
       "    .dataframe tbody tr th:only-of-type {\n",
       "        vertical-align: middle;\n",
       "    }\n",
       "\n",
       "    .dataframe tbody tr th {\n",
       "        vertical-align: top;\n",
       "    }\n",
       "\n",
       "    .dataframe thead th {\n",
       "        text-align: right;\n",
       "    }\n",
       "</style>\n",
       "<table border=\"1\" class=\"dataframe\">\n",
       "  <thead>\n",
       "    <tr style=\"text-align: right;\">\n",
       "      <th></th>\n",
       "      <th>user_id</th>\n",
       "      <th>city_id</th>\n",
       "      <th>rating</th>\n",
       "    </tr>\n",
       "  </thead>\n",
       "  <tbody>\n",
       "    <tr>\n",
       "      <th>0</th>\n",
       "      <td>0</td>\n",
       "      <td>0</td>\n",
       "      <td>3.5</td>\n",
       "    </tr>\n",
       "    <tr>\n",
       "      <th>1</th>\n",
       "      <td>0</td>\n",
       "      <td>1</td>\n",
       "      <td>5.0</td>\n",
       "    </tr>\n",
       "    <tr>\n",
       "      <th>2</th>\n",
       "      <td>0</td>\n",
       "      <td>2</td>\n",
       "      <td>4.0</td>\n",
       "    </tr>\n",
       "    <tr>\n",
       "      <th>3</th>\n",
       "      <td>1</td>\n",
       "      <td>3</td>\n",
       "      <td>5.0</td>\n",
       "    </tr>\n",
       "    <tr>\n",
       "      <th>4</th>\n",
       "      <td>1</td>\n",
       "      <td>4</td>\n",
       "      <td>5.0</td>\n",
       "    </tr>\n",
       "  </tbody>\n",
       "</table>\n",
       "</div>"
      ],
      "text/plain": [
       "   user_id  city_id  rating\n",
       "0        0        0     3.5\n",
       "1        0        1     5.0\n",
       "2        0        2     4.0\n",
       "3        1        3     5.0\n",
       "4        1        4     5.0"
      ]
     },
     "execution_count": 93,
     "metadata": {},
     "output_type": "execute_result"
    }
   ],
   "source": [
    "util_matrix.head()"
   ]
  },
  {
   "cell_type": "code",
   "execution_count": 94,
   "metadata": {},
   "outputs": [
    {
     "name": "stdout",
     "output_type": "stream",
     "text": [
      "<class 'pandas.core.frame.DataFrame'>\n",
      "RangeIndex: 449 entries, 0 to 448\n",
      "Data columns (total 3 columns):\n",
      "user_id    449 non-null int64\n",
      "city_id    449 non-null int64\n",
      "rating     449 non-null float64\n",
      "dtypes: float64(1), int64(2)\n",
      "memory usage: 10.6 KB\n"
     ]
    }
   ],
   "source": [
    "util_matrix.info()"
   ]
  },
  {
   "cell_type": "code",
   "execution_count": 95,
   "metadata": {
    "scrolled": true
   },
   "outputs": [
    {
     "data": {
      "text/plain": [
       "(449, 3)"
      ]
     },
     "execution_count": 95,
     "metadata": {},
     "output_type": "execute_result"
    }
   ],
   "source": [
    "util_matrix.shape"
   ]
  },
  {
   "cell_type": "code",
   "execution_count": null,
   "metadata": {},
   "outputs": [],
   "source": []
  },
  {
   "cell_type": "code",
   "execution_count": null,
   "metadata": {},
   "outputs": [],
   "source": []
  },
  {
   "cell_type": "code",
   "execution_count": null,
   "metadata": {},
   "outputs": [],
   "source": []
  },
  {
   "cell_type": "code",
   "execution_count": null,
   "metadata": {},
   "outputs": [],
   "source": []
  },
  {
   "cell_type": "code",
   "execution_count": 29,
   "metadata": {},
   "outputs": [
    {
     "data": {
      "image/png": "[encoded data removed]",
      "text/plain": [
       "<matplotlib.figure.Figure at 0x1a0c453f28>"
      ]
     },
     "metadata": {},
     "output_type": "display_data"
    }
   ],
   "source": [
    "plt.hist(util_matrix.rating);"
   ]
  },
  {
   "cell_type": "code",
   "execution_count": 30,
   "metadata": {},
   "outputs": [],
   "source": [
    "#util_matrix.shape"
   ]
  },
  {
   "cell_type": "code",
   "execution_count": 96,
   "metadata": {},
   "outputs": [],
   "source": [
    "    schema = StructType( [\n",
    "    StructField('user', IntegerType(), True),\n",
    "    StructField('city', IntegerType(), True),\n",
    "    StructField('rating', FloatType(), True)]\n",
    ")"
   ]
  },
  {
   "cell_type": "code",
   "execution_count": 97,
   "metadata": {},
   "outputs": [],
   "source": [
    "# creating spark dataframe\n",
    "#spark_df = sqlContext.createDataFrame(final_rdd, schema)\n",
    "\n",
    "spark_df = sqlContext.createDataFrame(util_matrix, schema)\n"
   ]
  },
  {
   "cell_type": "code",
   "execution_count": 98,
   "metadata": {},
   "outputs": [],
   "source": [
    "#train, test = spark_df.randomSplit([0.85, 0.15], seed=427471138)"
   ]
  },
  {
   "cell_type": "code",
   "execution_count": 99,
   "metadata": {},
   "outputs": [
    {
     "name": "stdout",
     "output_type": "stream",
     "text": [
      "+----+----+------+\n",
      "|user|city|rating|\n",
      "+----+----+------+\n",
      "|   1|   4|   5.0|\n",
      "|   1|   5|   5.0|\n",
      "|   2|   6|   4.0|\n",
      "|   7|  16|   4.0|\n",
      "|   7|  17|   5.0|\n",
      "|   9|  21|   4.5|\n",
      "|  13|   2|   3.5|\n",
      "|  20|   8|   3.5|\n",
      "|  20|   9|   5.0|\n",
      "|  20|  38|   5.0|\n",
      "|  27|  15|   4.0|\n",
      "|  27|  17|   5.0|\n",
      "|  30|  20|   5.0|\n",
      "|  31|  15|   5.0|\n",
      "|  33|  36|   5.0|\n",
      "|  39|  37|   5.0|\n",
      "|  41|  39|   5.0|\n",
      "|  43|  19|   4.5|\n",
      "|  47|  11|   5.0|\n",
      "|  49|  26|   5.0|\n",
      "+----+----+------+\n",
      "only showing top 20 rows\n",
      "\n"
     ]
    }
   ],
   "source": [
    "test.show()"
   ]
  },
  {
   "cell_type": "code",
   "execution_count": 100,
   "metadata": {},
   "outputs": [],
   "source": [
    "als_model = ALS(userCol='user',\n",
    "                itemCol='city',\n",
    "                ratingCol='rating',\n",
    "                nonnegative=True,\n",
    "                regParam=0.1,\n",
    "                rank=15\n",
    "               )"
   ]
  },
  {
   "cell_type": "code",
   "execution_count": 125,
   "metadata": {},
   "outputs": [
    {
     "data": {
      "text/plain": [
       "ALS_432998ec9ba5195653d6"
      ]
     },
     "execution_count": 125,
     "metadata": {},
     "output_type": "execute_result"
    }
   ],
   "source": [
    "als_recommender = als_model.fit(spark_df)\n",
    "als_recommender"
   ]
  },
  {
   "cell_type": "code",
   "execution_count": 126,
   "metadata": {},
   "outputs": [],
   "source": [
    "predictions = als_recommender.transform(test)\n"
   ]
  },
  {
   "cell_type": "code",
   "execution_count": 127,
   "metadata": {},
   "outputs": [],
   "source": [
    "user_factor_df = als_recommender.userFactors.toPandas()"
   ]
  },
  {
   "cell_type": "code",
   "execution_count": 128,
   "metadata": {},
   "outputs": [
    {
     "data": {
      "text/html": [
       "<div>\n",
       "<style scoped>\n",
       "    .dataframe tbody tr th:only-of-type {\n",
       "        vertical-align: middle;\n",
       "    }\n",
       "\n",
       "    .dataframe tbody tr th {\n",
       "        vertical-align: top;\n",
       "    }\n",
       "\n",
       "    .dataframe thead th {\n",
       "        text-align: right;\n",
       "    }\n",
       "</style>\n",
       "<table border=\"1\" class=\"dataframe\">\n",
       "  <thead>\n",
       "    <tr style=\"text-align: right;\">\n",
       "      <th></th>\n",
       "      <th>id</th>\n",
       "      <th>features</th>\n",
       "    </tr>\n",
       "  </thead>\n",
       "  <tbody>\n",
       "    <tr>\n",
       "      <th>198</th>\n",
       "      <td>109</td>\n",
       "      <td>[0.21960453689098358, 0.38068944215774536, 0.5...</td>\n",
       "    </tr>\n",
       "    <tr>\n",
       "      <th>199</th>\n",
       "      <td>119</td>\n",
       "      <td>[0.3474847376346588, 0.44106218218803406, 0.73...</td>\n",
       "    </tr>\n",
       "    <tr>\n",
       "      <th>200</th>\n",
       "      <td>129</td>\n",
       "      <td>[0.3856968283653259, 0.8335927724838257, 0.715...</td>\n",
       "    </tr>\n",
       "    <tr>\n",
       "      <th>201</th>\n",
       "      <td>139</td>\n",
       "      <td>[0.301262229681015, 0.510736882686615, 0.53730...</td>\n",
       "    </tr>\n",
       "    <tr>\n",
       "      <th>202</th>\n",
       "      <td>149</td>\n",
       "      <td>[0.048186108469963074, 0.10428865253925323, 0....</td>\n",
       "    </tr>\n",
       "    <tr>\n",
       "      <th>203</th>\n",
       "      <td>159</td>\n",
       "      <td>[0.353498250246048, 0.7316778302192688, 0.7627...</td>\n",
       "    </tr>\n",
       "    <tr>\n",
       "      <th>204</th>\n",
       "      <td>169</td>\n",
       "      <td>[0.3692573010921478, 0.7333199977874756, 0.760...</td>\n",
       "    </tr>\n",
       "    <tr>\n",
       "      <th>205</th>\n",
       "      <td>179</td>\n",
       "      <td>[0.06925108283758163, 0.5910173654556274, 1.22...</td>\n",
       "    </tr>\n",
       "    <tr>\n",
       "      <th>206</th>\n",
       "      <td>189</td>\n",
       "      <td>[0.0, 0.0, 0.0, 1.3584983348846436, 0.0, 0.0, ...</td>\n",
       "    </tr>\n",
       "    <tr>\n",
       "      <th>207</th>\n",
       "      <td>199</td>\n",
       "      <td>[0.14801350235939026, 0.8483789563179016, 1.06...</td>\n",
       "    </tr>\n",
       "  </tbody>\n",
       "</table>\n",
       "</div>"
      ],
      "text/plain": [
       "      id                                           features\n",
       "198  109  [0.21960453689098358, 0.38068944215774536, 0.5...\n",
       "199  119  [0.3474847376346588, 0.44106218218803406, 0.73...\n",
       "200  129  [0.3856968283653259, 0.8335927724838257, 0.715...\n",
       "201  139  [0.301262229681015, 0.510736882686615, 0.53730...\n",
       "202  149  [0.048186108469963074, 0.10428865253925323, 0....\n",
       "203  159  [0.353498250246048, 0.7316778302192688, 0.7627...\n",
       "204  169  [0.3692573010921478, 0.7333199977874756, 0.760...\n",
       "205  179  [0.06925108283758163, 0.5910173654556274, 1.22...\n",
       "206  189  [0.0, 0.0, 0.0, 1.3584983348846436, 0.0, 0.0, ...\n",
       "207  199  [0.14801350235939026, 0.8483789563179016, 1.06..."
      ]
     },
     "execution_count": 128,
     "metadata": {},
     "output_type": "execute_result"
    }
   ],
   "source": [
    "user_factor_df.tail(10)"
   ]
  },
  {
   "cell_type": "code",
   "execution_count": 129,
   "metadata": {},
   "outputs": [],
   "source": [
    "item_factor_df = als_recommender.itemFactors.toPandas()"
   ]
  },
  {
   "cell_type": "code",
   "execution_count": 148,
   "metadata": {},
   "outputs": [],
   "source": [
    "user_df = pd.read_pickle('src/user_factor_df.pkl')"
   ]
  },
  {
   "cell_type": "code",
   "execution_count": 149,
   "metadata": {},
   "outputs": [],
   "source": [
    "item_df = pd.read_pickle('src/item_factor_df.pkl')"
   ]
  },
  {
   "cell_type": "code",
   "execution_count": 150,
   "metadata": {},
   "outputs": [
    {
     "data": {
      "text/html": [
       "<div>\n",
       "<style scoped>\n",
       "    .dataframe tbody tr th:only-of-type {\n",
       "        vertical-align: middle;\n",
       "    }\n",
       "\n",
       "    .dataframe tbody tr th {\n",
       "        vertical-align: top;\n",
       "    }\n",
       "\n",
       "    .dataframe thead th {\n",
       "        text-align: right;\n",
       "    }\n",
       "</style>\n",
       "<table border=\"1\" class=\"dataframe\">\n",
       "  <thead>\n",
       "    <tr style=\"text-align: right;\">\n",
       "      <th></th>\n",
       "      <th>id</th>\n",
       "      <th>features</th>\n",
       "    </tr>\n",
       "  </thead>\n",
       "  <tbody>\n",
       "    <tr>\n",
       "      <th>0</th>\n",
       "      <td>0</td>\n",
       "      <td>[0.052830565720796585, 0.5680032968521118, 0.0...</td>\n",
       "    </tr>\n",
       "    <tr>\n",
       "      <th>1</th>\n",
       "      <td>10</td>\n",
       "      <td>[0.08755596727132797, 0.5332696437835693, 0.05...</td>\n",
       "    </tr>\n",
       "    <tr>\n",
       "      <th>2</th>\n",
       "      <td>20</td>\n",
       "      <td>[0.20748959481716156, 0.3947450518608093, 0.0,...</td>\n",
       "    </tr>\n",
       "    <tr>\n",
       "      <th>3</th>\n",
       "      <td>30</td>\n",
       "      <td>[0.15829311311244965, 0.29818713665008545, 0.1...</td>\n",
       "    </tr>\n",
       "    <tr>\n",
       "      <th>4</th>\n",
       "      <td>40</td>\n",
       "      <td>[0.2609822452068329, 0.2876499593257904, 0.030...</td>\n",
       "    </tr>\n",
       "  </tbody>\n",
       "</table>\n",
       "</div>"
      ],
      "text/plain": [
       "   id                                           features\n",
       "0   0  [0.052830565720796585, 0.5680032968521118, 0.0...\n",
       "1  10  [0.08755596727132797, 0.5332696437835693, 0.05...\n",
       "2  20  [0.20748959481716156, 0.3947450518608093, 0.0,...\n",
       "3  30  [0.15829311311244965, 0.29818713665008545, 0.1...\n",
       "4  40  [0.2609822452068329, 0.2876499593257904, 0.030..."
      ]
     },
     "execution_count": 150,
     "metadata": {},
     "output_type": "execute_result"
    }
   ],
   "source": [
    "user_df.head()"
   ]
  },
  {
   "cell_type": "code",
   "execution_count": 145,
   "metadata": {},
   "outputs": [
    {
     "data": {
      "text/plain": [
       "'[0.01533648744225502, 0.27583181858062744, 0.6643658876419067, 0.19901108741760254, 0.5352938771247864, 0.11077322065830231, 0.5207207202911377, 0.08845271915197372, 0.10690970718860626, 0.061266012489795685, 0.25728487968444824, 0.23047767579555511, 0.8079668879508972, 0.2950819134712219, 0.39722147583961487]'"
      ]
     },
     "execution_count": 145,
     "metadata": {},
     "output_type": "execute_result"
    }
   ],
   "source": [
    "user_df.features[10]"
   ]
  },
  {
   "cell_type": "code",
   "execution_count": null,
   "metadata": {},
   "outputs": [],
   "source": []
  },
  {
   "cell_type": "code",
   "execution_count": null,
   "metadata": {},
   "outputs": [],
   "source": []
  },
  {
   "cell_type": "code",
   "execution_count": null,
   "metadata": {},
   "outputs": [],
   "source": []
  },
  {
   "cell_type": "code",
   "execution_count": 153,
   "metadata": {},
   "outputs": [
    {
     "data": {
      "text/plain": [
       "2.83641854466153"
      ]
     },
     "execution_count": 153,
     "metadata": {},
     "output_type": "execute_result"
    }
   ],
   "source": [
    "np.dot(user_df.features[120], item_df.features[50])"
   ]
  },
  {
   "cell_type": "code",
   "execution_count": 137,
   "metadata": {},
   "outputs": [
    {
     "data": {
      "text/html": [
       "<div>\n",
       "<style scoped>\n",
       "    .dataframe tbody tr th:only-of-type {\n",
       "        vertical-align: middle;\n",
       "    }\n",
       "\n",
       "    .dataframe tbody tr th {\n",
       "        vertical-align: top;\n",
       "    }\n",
       "\n",
       "    .dataframe thead th {\n",
       "        text-align: right;\n",
       "    }\n",
       "</style>\n",
       "<table border=\"1\" class=\"dataframe\">\n",
       "  <thead>\n",
       "    <tr style=\"text-align: right;\">\n",
       "      <th></th>\n",
       "      <th>user</th>\n",
       "      <th>city</th>\n",
       "      <th>rating</th>\n",
       "      <th>prediction</th>\n",
       "    </tr>\n",
       "  </thead>\n",
       "  <tbody>\n",
       "    <tr>\n",
       "      <th>0</th>\n",
       "      <td>49</td>\n",
       "      <td>26</td>\n",
       "      <td>5.0</td>\n",
       "      <td>4.536008</td>\n",
       "    </tr>\n",
       "    <tr>\n",
       "      <th>1</th>\n",
       "      <td>135</td>\n",
       "      <td>26</td>\n",
       "      <td>5.0</td>\n",
       "      <td>5.835579</td>\n",
       "    </tr>\n",
       "    <tr>\n",
       "      <th>2</th>\n",
       "      <td>164</td>\n",
       "      <td>27</td>\n",
       "      <td>5.0</td>\n",
       "      <td>0.000000</td>\n",
       "    </tr>\n",
       "    <tr>\n",
       "      <th>3</th>\n",
       "      <td>108</td>\n",
       "      <td>12</td>\n",
       "      <td>5.0</td>\n",
       "      <td>4.103354</td>\n",
       "    </tr>\n",
       "    <tr>\n",
       "      <th>4</th>\n",
       "      <td>200</td>\n",
       "      <td>22</td>\n",
       "      <td>5.0</td>\n",
       "      <td>3.933136</td>\n",
       "    </tr>\n",
       "  </tbody>\n",
       "</table>\n",
       "</div>"
      ],
      "text/plain": [
       "   user  city  rating  prediction\n",
       "0    49    26     5.0    4.536008\n",
       "1   135    26     5.0    5.835579\n",
       "2   164    27     5.0    0.000000\n",
       "3   108    12     5.0    4.103354\n",
       "4   200    22     5.0    3.933136"
      ]
     },
     "execution_count": 137,
     "metadata": {},
     "output_type": "execute_result"
    }
   ],
   "source": [
    "df_predictions.fillna(0,inplace=True)\n",
    "df_predictions.head()"
   ]
  },
  {
   "cell_type": "code",
   "execution_count": 156,
   "metadata": {},
   "outputs": [
    {
     "data": {
      "text/plain": [
       "True"
      ]
     },
     "execution_count": 156,
     "metadata": {},
     "output_type": "execute_result"
    }
   ],
   "source": [
    "df_predictions[(df_predictions.user == 200) & (df_predictions.city == 16)].shape[0] == 0"
   ]
  },
  {
   "cell_type": "code",
   "execution_count": 154,
   "metadata": {},
   "outputs": [
    {
     "data": {
      "text/plain": [
       "Series([], Name: prediction, dtype: bool)"
      ]
     },
     "execution_count": 154,
     "metadata": {},
     "output_type": "execute_result"
    }
   ],
   "source": [
    "(df_predictions[(df_predictions.user == 200) & (df_predictions.city == 16)].prediction) == []"
   ]
  },
  {
   "cell_type": "code",
   "execution_count": 125,
   "metadata": {},
   "outputs": [
    {
     "name": "stdout",
     "output_type": "stream",
     "text": [
      "+----+----+------+----------+\n",
      "|user|city|rating|prediction|\n",
      "+----+----+------+----------+\n",
      "| 200|  22|   5.0|  3.933136|\n",
      "+----+----+------+----------+\n",
      "\n"
     ]
    }
   ],
   "source": [
    "predictions[(predictions.user == '200')].show()"
   ]
  },
  {
   "cell_type": "code",
   "execution_count": 42,
   "metadata": {},
   "outputs": [],
   "source": [
    "#pred = predictions[(predictions.user == '200') & (predictions.city == '22')].select(\"prediction\").collect()\n"
   ]
  },
  {
   "cell_type": "code",
   "execution_count": 118,
   "metadata": {},
   "outputs": [],
   "source": [
    "foo = predictions.prediction"
   ]
  },
  {
   "cell_type": "code",
   "execution_count": 121,
   "metadata": {},
   "outputs": [
    {
     "ename": "NameError",
     "evalue": "name 'isNull' is not defined",
     "output_type": "error",
     "traceback": [
      "\u001b[0;31m---------------------------------------------------------------------------\u001b[0m",
      "\u001b[0;31mNameError\u001b[0m                                 Traceback (most recent call last)",
      "\u001b[0;32m<ipython-input-121-b71547ab4f9f>\u001b[0m in \u001b[0;36m<module>\u001b[0;34m()\u001b[0m\n\u001b[0;32m----> 1\u001b[0;31m \u001b[0mfoo\u001b[0m\u001b[0;34m.\u001b[0m\u001b[0mprediction\u001b[0m\u001b[0;34m.\u001b[0m\u001b[0mwhen\u001b[0m\u001b[0;34m(\u001b[0m\u001b[0misNull\u001b[0m\u001b[0;34m(\u001b[0m\u001b[0;34m)\u001b[0m\u001b[0;34m,\u001b[0m\u001b[0;36m0\u001b[0m\u001b[0;34m)\u001b[0m\u001b[0;34m.\u001b[0m\u001b[0mshow\u001b[0m\u001b[0;34m(\u001b[0m\u001b[0;36m20\u001b[0m\u001b[0;34m)\u001b[0m\u001b[0;34m\u001b[0m\u001b[0m\n\u001b[0m",
      "\u001b[0;31mNameError\u001b[0m: name 'isNull' is not defined"
     ]
    }
   ],
   "source": [
    "foo.prediction."
   ]
  },
  {
   "cell_type": "code",
   "execution_count": null,
   "metadata": {},
   "outputs": [],
   "source": [
    "predictions.show(20)"
   ]
  },
  {
   "cell_type": "code",
   "execution_count": 102,
   "metadata": {},
   "outputs": [],
   "source": [
    "pred = predictions[(predictions.user == '100') & (predictions.city == '13')].select(\"prediction\").collect()"
   ]
  },
  {
   "cell_type": "code",
   "execution_count": 123,
   "metadata": {},
   "outputs": [
    {
     "ename": "AttributeError",
     "evalue": "'list' object has no attribute 'show'",
     "output_type": "error",
     "traceback": [
      "\u001b[0;31m---------------------------------------------------------------------------\u001b[0m",
      "\u001b[0;31mAttributeError\u001b[0m                            Traceback (most recent call last)",
      "\u001b[0;32m<ipython-input-123-ce5584aa6ce2>\u001b[0m in \u001b[0;36m<module>\u001b[0;34m()\u001b[0m\n\u001b[0;32m----> 1\u001b[0;31m \u001b[0mpred\u001b[0m\u001b[0;34m.\u001b[0m\u001b[0mshow\u001b[0m\u001b[0;34m(\u001b[0m\u001b[0;34m)\u001b[0m\u001b[0;34m\u001b[0m\u001b[0m\n\u001b[0m",
      "\u001b[0;31mAttributeError\u001b[0m: 'list' object has no attribute 'show'"
     ]
    }
   ],
   "source": [
    "pred[0][0]"
   ]
  },
  {
   "cell_type": "code",
   "execution_count": 111,
   "metadata": {},
   "outputs": [
    {
     "data": {
      "text/plain": [
       "float"
      ]
     },
     "execution_count": 111,
     "metadata": {},
     "output_type": "execute_result"
    }
   ],
   "source": [
    "type(pred[0][0])"
   ]
  },
  {
   "cell_type": "code",
   "execution_count": 110,
   "metadata": {},
   "outputs": [
    {
     "ename": "NameError",
     "evalue": "name 'nan' is not defined",
     "output_type": "error",
     "traceback": [
      "\u001b[0;31m---------------------------------------------------------------------------\u001b[0m",
      "\u001b[0;31mNameError\u001b[0m                                 Traceback (most recent call last)",
      "\u001b[0;32m<ipython-input-110-d468487ee8e1>\u001b[0m in \u001b[0;36m<module>\u001b[0;34m()\u001b[0m\n\u001b[0;32m----> 1\u001b[0;31m \u001b[0;34m(\u001b[0m\u001b[0mpred\u001b[0m\u001b[0;34m[\u001b[0m\u001b[0;36m0\u001b[0m\u001b[0;34m]\u001b[0m\u001b[0;34m[\u001b[0m\u001b[0;36m0\u001b[0m\u001b[0;34m]\u001b[0m\u001b[0;34m)\u001b[0m \u001b[0;34m==\u001b[0m \u001b[0mfloat\u001b[0m\u001b[0;34m(\u001b[0m\u001b[0mnan\u001b[0m\u001b[0;34m)\u001b[0m\u001b[0;34m\u001b[0m\u001b[0m\n\u001b[0m",
      "\u001b[0;31mNameError\u001b[0m: name 'nan' is not defined"
     ]
    }
   ],
   "source": [
    "(pred[0][0]) == float(nan)"
   ]
  },
  {
   "cell_type": "code",
   "execution_count": 112,
   "metadata": {},
   "outputs": [
    {
     "data": {
      "text/plain": [
       "False"
      ]
     },
     "execution_count": 112,
     "metadata": {},
     "output_type": "execute_result"
    }
   ],
   "source": [
    "pred[0][0] == 0"
   ]
  },
  {
   "cell_type": "code",
   "execution_count": null,
   "metadata": {},
   "outputs": [],
   "source": []
  },
  {
   "cell_type": "code",
   "execution_count": 44,
   "metadata": {},
   "outputs": [
    {
     "name": "stdout",
     "output_type": "stream",
     "text": [
      "ALS model''s MSE:  1.1025872\n"
     ]
    }
   ],
   "source": [
    "from sklearn.metrics import mean_squared_error\n",
    "df_pred = predictions.toPandas()\n",
    "pred = df_pred.prediction\n",
    "\n",
    "actual = df_pred.rating\n",
    "mse = mean_squared_error(actual, pred.fillna(pred.median()))\n",
    "print(\"ALS model''s MSE: \", np.sqrt(mse))"
   ]
  },
  {
   "cell_type": "code",
   "execution_count": 45,
   "metadata": {},
   "outputs": [],
   "source": [
    "#df_pred.head()"
   ]
  },
  {
   "cell_type": "code",
   "execution_count": null,
   "metadata": {},
   "outputs": [],
   "source": []
  },
  {
   "cell_type": "markdown",
   "metadata": {},
   "source": [
    "# Hybrid model\n",
    "## user-only matrix"
   ]
  },
  {
   "cell_type": "code",
   "execution_count": 34,
   "metadata": {},
   "outputs": [
    {
     "data": {
      "text/html": [
       "<div>\n",
       "<style scoped>\n",
       "    .dataframe tbody tr th:only-of-type {\n",
       "        vertical-align: middle;\n",
       "    }\n",
       "\n",
       "    .dataframe tbody tr th {\n",
       "        vertical-align: top;\n",
       "    }\n",
       "\n",
       "    .dataframe thead th {\n",
       "        text-align: right;\n",
       "    }\n",
       "</style>\n",
       "<table border=\"1\" class=\"dataframe\">\n",
       "  <thead>\n",
       "    <tr style=\"text-align: right;\">\n",
       "      <th></th>\n",
       "      <th>username</th>\n",
       "      <th>ageRange</th>\n",
       "      <th>gender</th>\n",
       "      <th>travelStyle</th>\n",
       "    </tr>\n",
       "  </thead>\n",
       "  <tbody>\n",
       "    <tr>\n",
       "      <th>2</th>\n",
       "      <td>19Cam</td>\n",
       "      <td>25-34</td>\n",
       "      <td>male</td>\n",
       "      <td>Vegetarian, Urban Explorer, Art and Architectu...</td>\n",
       "    </tr>\n",
       "    <tr>\n",
       "      <th>3</th>\n",
       "      <td>19Cam</td>\n",
       "      <td>25-34</td>\n",
       "      <td>male</td>\n",
       "      <td>Vegetarian, Urban Explorer, Art and Architectu...</td>\n",
       "    </tr>\n",
       "    <tr>\n",
       "      <th>4</th>\n",
       "      <td>19Cam</td>\n",
       "      <td>25-34</td>\n",
       "      <td>male</td>\n",
       "      <td>Vegetarian, Urban Explorer, Art and Architectu...</td>\n",
       "    </tr>\n",
       "    <tr>\n",
       "      <th>5</th>\n",
       "      <td>19Cam</td>\n",
       "      <td>25-34</td>\n",
       "      <td>male</td>\n",
       "      <td>Vegetarian, Urban Explorer, Art and Architectu...</td>\n",
       "    </tr>\n",
       "    <tr>\n",
       "      <th>18</th>\n",
       "      <td>1oldseagull</td>\n",
       "      <td>65+</td>\n",
       "      <td>male</td>\n",
       "      <td>Foodie, Beach Goer, History Buff, 60+ Traveler...</td>\n",
       "    </tr>\n",
       "    <tr>\n",
       "      <th>25</th>\n",
       "      <td>1oldseagull</td>\n",
       "      <td>65+</td>\n",
       "      <td>male</td>\n",
       "      <td>Foodie, Beach Goer, History Buff, 60+ Traveler...</td>\n",
       "    </tr>\n",
       "    <tr>\n",
       "      <th>26</th>\n",
       "      <td>1oldseagull</td>\n",
       "      <td>65+</td>\n",
       "      <td>male</td>\n",
       "      <td>Foodie, Beach Goer, History Buff, 60+ Traveler...</td>\n",
       "    </tr>\n",
       "    <tr>\n",
       "      <th>32</th>\n",
       "      <td>1oldseagull</td>\n",
       "      <td>65+</td>\n",
       "      <td>male</td>\n",
       "      <td>Foodie, Beach Goer, History Buff, 60+ Traveler...</td>\n",
       "    </tr>\n",
       "    <tr>\n",
       "      <th>33</th>\n",
       "      <td>1oldseagull</td>\n",
       "      <td>65+</td>\n",
       "      <td>male</td>\n",
       "      <td>Foodie, Beach Goer, History Buff, 60+ Traveler...</td>\n",
       "    </tr>\n",
       "    <tr>\n",
       "      <th>40</th>\n",
       "      <td>2093</td>\n",
       "      <td>35-49</td>\n",
       "      <td>female</td>\n",
       "      <td>Like a Local, History Buff, Urban Explorer</td>\n",
       "    </tr>\n",
       "    <tr>\n",
       "      <th>41</th>\n",
       "      <td>2093</td>\n",
       "      <td>35-49</td>\n",
       "      <td>female</td>\n",
       "      <td>Like a Local, History Buff, Urban Explorer</td>\n",
       "    </tr>\n",
       "    <tr>\n",
       "      <th>42</th>\n",
       "      <td>2093</td>\n",
       "      <td>35-49</td>\n",
       "      <td>female</td>\n",
       "      <td>Like a Local, History Buff, Urban Explorer</td>\n",
       "    </tr>\n",
       "    <tr>\n",
       "      <th>47</th>\n",
       "      <td>2093</td>\n",
       "      <td>35-49</td>\n",
       "      <td>female</td>\n",
       "      <td>Like a Local, History Buff, Urban Explorer</td>\n",
       "    </tr>\n",
       "    <tr>\n",
       "      <th>49</th>\n",
       "      <td>2093</td>\n",
       "      <td>35-49</td>\n",
       "      <td>female</td>\n",
       "      <td>Like a Local, History Buff, Urban Explorer</td>\n",
       "    </tr>\n",
       "    <tr>\n",
       "      <th>50</th>\n",
       "      <td>2093</td>\n",
       "      <td>35-49</td>\n",
       "      <td>female</td>\n",
       "      <td>Like a Local, History Buff, Urban Explorer</td>\n",
       "    </tr>\n",
       "    <tr>\n",
       "      <th>52</th>\n",
       "      <td>2093</td>\n",
       "      <td>35-49</td>\n",
       "      <td>female</td>\n",
       "      <td>Like a Local, History Buff, Urban Explorer</td>\n",
       "    </tr>\n",
       "    <tr>\n",
       "      <th>56</th>\n",
       "      <td>2093</td>\n",
       "      <td>35-49</td>\n",
       "      <td>female</td>\n",
       "      <td>Like a Local, History Buff, Urban Explorer</td>\n",
       "    </tr>\n",
       "    <tr>\n",
       "      <th>61</th>\n",
       "      <td>2093</td>\n",
       "      <td>35-49</td>\n",
       "      <td>female</td>\n",
       "      <td>Like a Local, History Buff, Urban Explorer</td>\n",
       "    </tr>\n",
       "    <tr>\n",
       "      <th>62</th>\n",
       "      <td>2093</td>\n",
       "      <td>35-49</td>\n",
       "      <td>female</td>\n",
       "      <td>Like a Local, History Buff, Urban Explorer</td>\n",
       "    </tr>\n",
       "    <tr>\n",
       "      <th>63</th>\n",
       "      <td>2093</td>\n",
       "      <td>35-49</td>\n",
       "      <td>female</td>\n",
       "      <td>Like a Local, History Buff, Urban Explorer</td>\n",
       "    </tr>\n",
       "  </tbody>\n",
       "</table>\n",
       "</div>"
      ],
      "text/plain": [
       "       username ageRange  gender  \\\n",
       "2         19Cam    25-34    male   \n",
       "3         19Cam    25-34    male   \n",
       "4         19Cam    25-34    male   \n",
       "5         19Cam    25-34    male   \n",
       "18  1oldseagull      65+    male   \n",
       "25  1oldseagull      65+    male   \n",
       "26  1oldseagull      65+    male   \n",
       "32  1oldseagull      65+    male   \n",
       "33  1oldseagull      65+    male   \n",
       "40         2093    35-49  female   \n",
       "41         2093    35-49  female   \n",
       "42         2093    35-49  female   \n",
       "47         2093    35-49  female   \n",
       "49         2093    35-49  female   \n",
       "50         2093    35-49  female   \n",
       "52         2093    35-49  female   \n",
       "56         2093    35-49  female   \n",
       "61         2093    35-49  female   \n",
       "62         2093    35-49  female   \n",
       "63         2093    35-49  female   \n",
       "\n",
       "                                          travelStyle  \n",
       "2   Vegetarian, Urban Explorer, Art and Architectu...  \n",
       "3   Vegetarian, Urban Explorer, Art and Architectu...  \n",
       "4   Vegetarian, Urban Explorer, Art and Architectu...  \n",
       "5   Vegetarian, Urban Explorer, Art and Architectu...  \n",
       "18  Foodie, Beach Goer, History Buff, 60+ Traveler...  \n",
       "25  Foodie, Beach Goer, History Buff, 60+ Traveler...  \n",
       "26  Foodie, Beach Goer, History Buff, 60+ Traveler...  \n",
       "32  Foodie, Beach Goer, History Buff, 60+ Traveler...  \n",
       "33  Foodie, Beach Goer, History Buff, 60+ Traveler...  \n",
       "40         Like a Local, History Buff, Urban Explorer  \n",
       "41         Like a Local, History Buff, Urban Explorer  \n",
       "42         Like a Local, History Buff, Urban Explorer  \n",
       "47         Like a Local, History Buff, Urban Explorer  \n",
       "49         Like a Local, History Buff, Urban Explorer  \n",
       "50         Like a Local, History Buff, Urban Explorer  \n",
       "52         Like a Local, History Buff, Urban Explorer  \n",
       "56         Like a Local, History Buff, Urban Explorer  \n",
       "61         Like a Local, History Buff, Urban Explorer  \n",
       "62         Like a Local, History Buff, Urban Explorer  \n",
       "63         Like a Local, History Buff, Urban Explorer  "
      ]
     },
     "execution_count": 34,
     "metadata": {},
     "output_type": "execute_result"
    }
   ],
   "source": [
    "feature_temp = final_df[['username', 'ageRange', 'gender', 'travelStyle']]\n",
    "feature_temp.head(20)"
   ]
  },
  {
   "cell_type": "code",
   "execution_count": 35,
   "metadata": {},
   "outputs": [],
   "source": [
    "feature_temp = feature_temp.drop_duplicates()"
   ]
  },
  {
   "cell_type": "code",
   "execution_count": 36,
   "metadata": {},
   "outputs": [
    {
     "data": {
      "text/html": [
       "<div>\n",
       "<style scoped>\n",
       "    .dataframe tbody tr th:only-of-type {\n",
       "        vertical-align: middle;\n",
       "    }\n",
       "\n",
       "    .dataframe tbody tr th {\n",
       "        vertical-align: top;\n",
       "    }\n",
       "\n",
       "    .dataframe thead th {\n",
       "        text-align: right;\n",
       "    }\n",
       "</style>\n",
       "<table border=\"1\" class=\"dataframe\">\n",
       "  <thead>\n",
       "    <tr style=\"text-align: right;\">\n",
       "      <th></th>\n",
       "      <th>username</th>\n",
       "      <th>ageRange</th>\n",
       "      <th>gender</th>\n",
       "      <th>travelStyle</th>\n",
       "    </tr>\n",
       "  </thead>\n",
       "  <tbody>\n",
       "    <tr>\n",
       "      <th>2</th>\n",
       "      <td>19Cam</td>\n",
       "      <td>25-34</td>\n",
       "      <td>male</td>\n",
       "      <td>Vegetarian, Urban Explorer, Art and Architectu...</td>\n",
       "    </tr>\n",
       "    <tr>\n",
       "      <th>18</th>\n",
       "      <td>1oldseagull</td>\n",
       "      <td>65+</td>\n",
       "      <td>male</td>\n",
       "      <td>Foodie, Beach Goer, History Buff, 60+ Traveler...</td>\n",
       "    </tr>\n",
       "    <tr>\n",
       "      <th>40</th>\n",
       "      <td>2093</td>\n",
       "      <td>35-49</td>\n",
       "      <td>female</td>\n",
       "      <td>Like a Local, History Buff, Urban Explorer</td>\n",
       "    </tr>\n",
       "    <tr>\n",
       "      <th>83</th>\n",
       "      <td>23stationroad</td>\n",
       "      <td>50-64</td>\n",
       "      <td>female</td>\n",
       "      <td>Foodie, Like a Local, Thrifty Traveller</td>\n",
       "    </tr>\n",
       "    <tr>\n",
       "      <th>88</th>\n",
       "      <td>29grapes</td>\n",
       "      <td>65+</td>\n",
       "      <td>male</td>\n",
       "      <td>Foodie, 60+ Traveler, Like a Local, Nature Lov...</td>\n",
       "    </tr>\n",
       "  </tbody>\n",
       "</table>\n",
       "</div>"
      ],
      "text/plain": [
       "         username ageRange  gender  \\\n",
       "2           19Cam    25-34    male   \n",
       "18    1oldseagull      65+    male   \n",
       "40           2093    35-49  female   \n",
       "83  23stationroad    50-64  female   \n",
       "88       29grapes      65+    male   \n",
       "\n",
       "                                          travelStyle  \n",
       "2   Vegetarian, Urban Explorer, Art and Architectu...  \n",
       "18  Foodie, Beach Goer, History Buff, 60+ Traveler...  \n",
       "40         Like a Local, History Buff, Urban Explorer  \n",
       "83            Foodie, Like a Local, Thrifty Traveller  \n",
       "88  Foodie, 60+ Traveler, Like a Local, Nature Lov...  "
      ]
     },
     "execution_count": 36,
     "metadata": {},
     "output_type": "execute_result"
    }
   ],
   "source": [
    "feature_temp.head()"
   ]
  },
  {
   "cell_type": "code",
   "execution_count": 37,
   "metadata": {},
   "outputs": [],
   "source": [
    "style_lst = [item.split(', ') for item in feature_temp.travelStyle]\n",
    "style_serie = pd.Series(style_lst)\n"
   ]
  },
  {
   "cell_type": "code",
   "execution_count": 38,
   "metadata": {},
   "outputs": [],
   "source": [
    "feature_temp['new_travel'] = style_serie.values"
   ]
  },
  {
   "cell_type": "code",
   "execution_count": 39,
   "metadata": {},
   "outputs": [],
   "source": [
    "#feature_temp.append(pd.Series(style_lst), columns= 'travel_style')"
   ]
  },
  {
   "cell_type": "code",
   "execution_count": 40,
   "metadata": {},
   "outputs": [],
   "source": [
    "# for item in style_lst:\n",
    "#     print(item)"
   ]
  },
  {
   "cell_type": "code",
   "execution_count": 41,
   "metadata": {},
   "outputs": [
    {
     "data": {
      "text/html": [
       "<div>\n",
       "<style scoped>\n",
       "    .dataframe tbody tr th:only-of-type {\n",
       "        vertical-align: middle;\n",
       "    }\n",
       "\n",
       "    .dataframe tbody tr th {\n",
       "        vertical-align: top;\n",
       "    }\n",
       "\n",
       "    .dataframe thead th {\n",
       "        text-align: right;\n",
       "    }\n",
       "</style>\n",
       "<table border=\"1\" class=\"dataframe\">\n",
       "  <thead>\n",
       "    <tr style=\"text-align: right;\">\n",
       "      <th></th>\n",
       "      <th>username</th>\n",
       "      <th>ageRange</th>\n",
       "      <th>gender</th>\n",
       "      <th>travelStyle</th>\n",
       "      <th>new_travel</th>\n",
       "    </tr>\n",
       "  </thead>\n",
       "  <tbody>\n",
       "    <tr>\n",
       "      <th>2</th>\n",
       "      <td>19Cam</td>\n",
       "      <td>25-34</td>\n",
       "      <td>male</td>\n",
       "      <td>Vegetarian, Urban Explorer, Art and Architectu...</td>\n",
       "      <td>[Vegetarian, Urban Explorer, Art and Architect...</td>\n",
       "    </tr>\n",
       "    <tr>\n",
       "      <th>18</th>\n",
       "      <td>1oldseagull</td>\n",
       "      <td>65+</td>\n",
       "      <td>male</td>\n",
       "      <td>Foodie, Beach Goer, History Buff, 60+ Traveler...</td>\n",
       "      <td>[Foodie, Beach Goer, History Buff, 60+ Travele...</td>\n",
       "    </tr>\n",
       "    <tr>\n",
       "      <th>40</th>\n",
       "      <td>2093</td>\n",
       "      <td>35-49</td>\n",
       "      <td>female</td>\n",
       "      <td>Like a Local, History Buff, Urban Explorer</td>\n",
       "      <td>[Like a Local, History Buff, Urban Explorer]</td>\n",
       "    </tr>\n",
       "    <tr>\n",
       "      <th>83</th>\n",
       "      <td>23stationroad</td>\n",
       "      <td>50-64</td>\n",
       "      <td>female</td>\n",
       "      <td>Foodie, Like a Local, Thrifty Traveller</td>\n",
       "      <td>[Foodie, Like a Local, Thrifty Traveller]</td>\n",
       "    </tr>\n",
       "    <tr>\n",
       "      <th>88</th>\n",
       "      <td>29grapes</td>\n",
       "      <td>65+</td>\n",
       "      <td>male</td>\n",
       "      <td>Foodie, 60+ Traveler, Like a Local, Nature Lov...</td>\n",
       "      <td>[Foodie, 60+ Traveler, Like a Local, Nature Lo...</td>\n",
       "    </tr>\n",
       "  </tbody>\n",
       "</table>\n",
       "</div>"
      ],
      "text/plain": [
       "         username ageRange  gender  \\\n",
       "2           19Cam    25-34    male   \n",
       "18    1oldseagull      65+    male   \n",
       "40           2093    35-49  female   \n",
       "83  23stationroad    50-64  female   \n",
       "88       29grapes      65+    male   \n",
       "\n",
       "                                          travelStyle  \\\n",
       "2   Vegetarian, Urban Explorer, Art and Architectu...   \n",
       "18  Foodie, Beach Goer, History Buff, 60+ Traveler...   \n",
       "40         Like a Local, History Buff, Urban Explorer   \n",
       "83            Foodie, Like a Local, Thrifty Traveller   \n",
       "88  Foodie, 60+ Traveler, Like a Local, Nature Lov...   \n",
       "\n",
       "                                           new_travel  \n",
       "2   [Vegetarian, Urban Explorer, Art and Architect...  \n",
       "18  [Foodie, Beach Goer, History Buff, 60+ Travele...  \n",
       "40       [Like a Local, History Buff, Urban Explorer]  \n",
       "83          [Foodie, Like a Local, Thrifty Traveller]  \n",
       "88  [Foodie, 60+ Traveler, Like a Local, Nature Lo...  "
      ]
     },
     "execution_count": 41,
     "metadata": {},
     "output_type": "execute_result"
    }
   ],
   "source": [
    "feature_temp.head()"
   ]
  },
  {
   "cell_type": "code",
   "execution_count": 42,
   "metadata": {},
   "outputs": [],
   "source": [
    "style_matrix = feature_temp['new_travel'].apply(pd.Series) # 19 styles\n",
    "style_df = pd.get_dummies(style_matrix.apply(pd.Series).stack()).sum(level=0).rename(columns = lambda x : x)"
   ]
  },
  {
   "cell_type": "code",
   "execution_count": 43,
   "metadata": {},
   "outputs": [],
   "source": [
    "right = style_df"
   ]
  },
  {
   "cell_type": "code",
   "execution_count": 44,
   "metadata": {},
   "outputs": [
    {
     "data": {
      "text/html": [
       "<div>\n",
       "<style scoped>\n",
       "    .dataframe tbody tr th:only-of-type {\n",
       "        vertical-align: middle;\n",
       "    }\n",
       "\n",
       "    .dataframe tbody tr th {\n",
       "        vertical-align: top;\n",
       "    }\n",
       "\n",
       "    .dataframe thead th {\n",
       "        text-align: right;\n",
       "    }\n",
       "</style>\n",
       "<table border=\"1\" class=\"dataframe\">\n",
       "  <thead>\n",
       "    <tr style=\"text-align: right;\">\n",
       "      <th></th>\n",
       "      <th>60+ Traveler</th>\n",
       "      <th>Art and Architecture Lover</th>\n",
       "      <th>Backpacker</th>\n",
       "      <th>Beach Goer</th>\n",
       "      <th>Eco-tourist</th>\n",
       "      <th>Family Hoilday Maker</th>\n",
       "      <th>Foodie</th>\n",
       "      <th>History Buff</th>\n",
       "      <th>Like a Local</th>\n",
       "      <th>Luxury Traveller</th>\n",
       "      <th>Nature Lover</th>\n",
       "      <th>Nightlife Seeker</th>\n",
       "      <th>Peace and Quiet Seeker</th>\n",
       "      <th>Shopping Fanatic</th>\n",
       "      <th>Thrifty Traveller</th>\n",
       "      <th>Thrill Seeker</th>\n",
       "      <th>Trendsetter</th>\n",
       "      <th>Urban Explorer</th>\n",
       "      <th>Vegetarian</th>\n",
       "    </tr>\n",
       "  </thead>\n",
       "  <tbody>\n",
       "    <tr>\n",
       "      <th>2</th>\n",
       "      <td>0</td>\n",
       "      <td>1</td>\n",
       "      <td>0</td>\n",
       "      <td>0</td>\n",
       "      <td>0</td>\n",
       "      <td>0</td>\n",
       "      <td>0</td>\n",
       "      <td>0</td>\n",
       "      <td>0</td>\n",
       "      <td>0</td>\n",
       "      <td>0</td>\n",
       "      <td>0</td>\n",
       "      <td>0</td>\n",
       "      <td>0</td>\n",
       "      <td>0</td>\n",
       "      <td>0</td>\n",
       "      <td>0</td>\n",
       "      <td>1</td>\n",
       "      <td>1</td>\n",
       "    </tr>\n",
       "    <tr>\n",
       "      <th>18</th>\n",
       "      <td>1</td>\n",
       "      <td>0</td>\n",
       "      <td>0</td>\n",
       "      <td>1</td>\n",
       "      <td>0</td>\n",
       "      <td>0</td>\n",
       "      <td>1</td>\n",
       "      <td>1</td>\n",
       "      <td>0</td>\n",
       "      <td>0</td>\n",
       "      <td>0</td>\n",
       "      <td>0</td>\n",
       "      <td>0</td>\n",
       "      <td>0</td>\n",
       "      <td>1</td>\n",
       "      <td>0</td>\n",
       "      <td>0</td>\n",
       "      <td>0</td>\n",
       "      <td>0</td>\n",
       "    </tr>\n",
       "    <tr>\n",
       "      <th>40</th>\n",
       "      <td>0</td>\n",
       "      <td>0</td>\n",
       "      <td>0</td>\n",
       "      <td>0</td>\n",
       "      <td>0</td>\n",
       "      <td>0</td>\n",
       "      <td>0</td>\n",
       "      <td>1</td>\n",
       "      <td>1</td>\n",
       "      <td>0</td>\n",
       "      <td>0</td>\n",
       "      <td>0</td>\n",
       "      <td>0</td>\n",
       "      <td>0</td>\n",
       "      <td>0</td>\n",
       "      <td>0</td>\n",
       "      <td>0</td>\n",
       "      <td>1</td>\n",
       "      <td>0</td>\n",
       "    </tr>\n",
       "    <tr>\n",
       "      <th>83</th>\n",
       "      <td>0</td>\n",
       "      <td>0</td>\n",
       "      <td>0</td>\n",
       "      <td>0</td>\n",
       "      <td>0</td>\n",
       "      <td>0</td>\n",
       "      <td>1</td>\n",
       "      <td>0</td>\n",
       "      <td>1</td>\n",
       "      <td>0</td>\n",
       "      <td>0</td>\n",
       "      <td>0</td>\n",
       "      <td>0</td>\n",
       "      <td>0</td>\n",
       "      <td>1</td>\n",
       "      <td>0</td>\n",
       "      <td>0</td>\n",
       "      <td>0</td>\n",
       "      <td>0</td>\n",
       "    </tr>\n",
       "    <tr>\n",
       "      <th>88</th>\n",
       "      <td>1</td>\n",
       "      <td>0</td>\n",
       "      <td>0</td>\n",
       "      <td>0</td>\n",
       "      <td>0</td>\n",
       "      <td>0</td>\n",
       "      <td>1</td>\n",
       "      <td>0</td>\n",
       "      <td>1</td>\n",
       "      <td>1</td>\n",
       "      <td>1</td>\n",
       "      <td>0</td>\n",
       "      <td>1</td>\n",
       "      <td>1</td>\n",
       "      <td>0</td>\n",
       "      <td>0</td>\n",
       "      <td>0</td>\n",
       "      <td>1</td>\n",
       "      <td>0</td>\n",
       "    </tr>\n",
       "  </tbody>\n",
       "</table>\n",
       "</div>"
      ],
      "text/plain": [
       "    60+ Traveler  Art and Architecture Lover  Backpacker  Beach Goer  \\\n",
       "2              0                           1           0           0   \n",
       "18             1                           0           0           1   \n",
       "40             0                           0           0           0   \n",
       "83             0                           0           0           0   \n",
       "88             1                           0           0           0   \n",
       "\n",
       "    Eco-tourist  Family Hoilday Maker  Foodie  History Buff  Like a Local  \\\n",
       "2             0                     0       0             0             0   \n",
       "18            0                     0       1             1             0   \n",
       "40            0                     0       0             1             1   \n",
       "83            0                     0       1             0             1   \n",
       "88            0                     0       1             0             1   \n",
       "\n",
       "    Luxury Traveller  Nature Lover  Nightlife Seeker  Peace and Quiet Seeker  \\\n",
       "2                  0             0                 0                       0   \n",
       "18                 0             0                 0                       0   \n",
       "40                 0             0                 0                       0   \n",
       "83                 0             0                 0                       0   \n",
       "88                 1             1                 0                       1   \n",
       "\n",
       "    Shopping Fanatic  Thrifty Traveller  Thrill Seeker  Trendsetter  \\\n",
       "2                  0                  0              0            0   \n",
       "18                 0                  1              0            0   \n",
       "40                 0                  0              0            0   \n",
       "83                 0                  1              0            0   \n",
       "88                 1                  0              0            0   \n",
       "\n",
       "    Urban Explorer  Vegetarian  \n",
       "2                1           1  \n",
       "18               0           0  \n",
       "40               1           0  \n",
       "83               0           0  \n",
       "88               1           0  "
      ]
     },
     "execution_count": 44,
     "metadata": {},
     "output_type": "execute_result"
    }
   ],
   "source": [
    "right.head()"
   ]
  },
  {
   "cell_type": "code",
   "execution_count": 45,
   "metadata": {},
   "outputs": [],
   "source": [
    "feature_temp = pd.get_dummies(feature_temp, columns = ['ageRange', 'gender'])"
   ]
  },
  {
   "cell_type": "code",
   "execution_count": 46,
   "metadata": {},
   "outputs": [
    {
     "data": {
      "text/html": [
       "<div>\n",
       "<style scoped>\n",
       "    .dataframe tbody tr th:only-of-type {\n",
       "        vertical-align: middle;\n",
       "    }\n",
       "\n",
       "    .dataframe tbody tr th {\n",
       "        vertical-align: top;\n",
       "    }\n",
       "\n",
       "    .dataframe thead th {\n",
       "        text-align: right;\n",
       "    }\n",
       "</style>\n",
       "<table border=\"1\" class=\"dataframe\">\n",
       "  <thead>\n",
       "    <tr style=\"text-align: right;\">\n",
       "      <th></th>\n",
       "      <th>username</th>\n",
       "      <th>travelStyle</th>\n",
       "      <th>new_travel</th>\n",
       "      <th>ageRange_25-34</th>\n",
       "      <th>ageRange_35-49</th>\n",
       "      <th>ageRange_50-64</th>\n",
       "      <th>ageRange_65+</th>\n",
       "      <th>gender_female</th>\n",
       "      <th>gender_male</th>\n",
       "    </tr>\n",
       "  </thead>\n",
       "  <tbody>\n",
       "    <tr>\n",
       "      <th>2</th>\n",
       "      <td>19Cam</td>\n",
       "      <td>Vegetarian, Urban Explorer, Art and Architectu...</td>\n",
       "      <td>[Vegetarian, Urban Explorer, Art and Architect...</td>\n",
       "      <td>1</td>\n",
       "      <td>0</td>\n",
       "      <td>0</td>\n",
       "      <td>0</td>\n",
       "      <td>0</td>\n",
       "      <td>1</td>\n",
       "    </tr>\n",
       "    <tr>\n",
       "      <th>18</th>\n",
       "      <td>1oldseagull</td>\n",
       "      <td>Foodie, Beach Goer, History Buff, 60+ Traveler...</td>\n",
       "      <td>[Foodie, Beach Goer, History Buff, 60+ Travele...</td>\n",
       "      <td>0</td>\n",
       "      <td>0</td>\n",
       "      <td>0</td>\n",
       "      <td>1</td>\n",
       "      <td>0</td>\n",
       "      <td>1</td>\n",
       "    </tr>\n",
       "    <tr>\n",
       "      <th>40</th>\n",
       "      <td>2093</td>\n",
       "      <td>Like a Local, History Buff, Urban Explorer</td>\n",
       "      <td>[Like a Local, History Buff, Urban Explorer]</td>\n",
       "      <td>0</td>\n",
       "      <td>1</td>\n",
       "      <td>0</td>\n",
       "      <td>0</td>\n",
       "      <td>1</td>\n",
       "      <td>0</td>\n",
       "    </tr>\n",
       "    <tr>\n",
       "      <th>83</th>\n",
       "      <td>23stationroad</td>\n",
       "      <td>Foodie, Like a Local, Thrifty Traveller</td>\n",
       "      <td>[Foodie, Like a Local, Thrifty Traveller]</td>\n",
       "      <td>0</td>\n",
       "      <td>0</td>\n",
       "      <td>1</td>\n",
       "      <td>0</td>\n",
       "      <td>1</td>\n",
       "      <td>0</td>\n",
       "    </tr>\n",
       "    <tr>\n",
       "      <th>88</th>\n",
       "      <td>29grapes</td>\n",
       "      <td>Foodie, 60+ Traveler, Like a Local, Nature Lov...</td>\n",
       "      <td>[Foodie, 60+ Traveler, Like a Local, Nature Lo...</td>\n",
       "      <td>0</td>\n",
       "      <td>0</td>\n",
       "      <td>0</td>\n",
       "      <td>1</td>\n",
       "      <td>0</td>\n",
       "      <td>1</td>\n",
       "    </tr>\n",
       "  </tbody>\n",
       "</table>\n",
       "</div>"
      ],
      "text/plain": [
       "         username                                        travelStyle  \\\n",
       "2           19Cam  Vegetarian, Urban Explorer, Art and Architectu...   \n",
       "18    1oldseagull  Foodie, Beach Goer, History Buff, 60+ Traveler...   \n",
       "40           2093         Like a Local, History Buff, Urban Explorer   \n",
       "83  23stationroad            Foodie, Like a Local, Thrifty Traveller   \n",
       "88       29grapes  Foodie, 60+ Traveler, Like a Local, Nature Lov...   \n",
       "\n",
       "                                           new_travel  ageRange_25-34  \\\n",
       "2   [Vegetarian, Urban Explorer, Art and Architect...               1   \n",
       "18  [Foodie, Beach Goer, History Buff, 60+ Travele...               0   \n",
       "40       [Like a Local, History Buff, Urban Explorer]               0   \n",
       "83          [Foodie, Like a Local, Thrifty Traveller]               0   \n",
       "88  [Foodie, 60+ Traveler, Like a Local, Nature Lo...               0   \n",
       "\n",
       "    ageRange_35-49  ageRange_50-64  ageRange_65+  gender_female  gender_male  \n",
       "2                0               0             0              0            1  \n",
       "18               0               0             1              0            1  \n",
       "40               1               0             0              1            0  \n",
       "83               0               1             0              1            0  \n",
       "88               0               0             1              0            1  "
      ]
     },
     "execution_count": 46,
     "metadata": {},
     "output_type": "execute_result"
    }
   ],
   "source": [
    "feature_temp.head()"
   ]
  },
  {
   "cell_type": "code",
   "execution_count": 47,
   "metadata": {},
   "outputs": [],
   "source": [
    "left = feature_temp"
   ]
  },
  {
   "cell_type": "code",
   "execution_count": 48,
   "metadata": {},
   "outputs": [],
   "source": [
    "feature_temp = left.join(right)"
   ]
  },
  {
   "cell_type": "code",
   "execution_count": 49,
   "metadata": {
    "scrolled": false
   },
   "outputs": [],
   "source": [
    "feature_final = feature_temp.drop(['travelStyle', 'new_travel', 'gender_male','60+ Traveler', 'username'], axis =1)"
   ]
  },
  {
   "cell_type": "code",
   "execution_count": 50,
   "metadata": {},
   "outputs": [],
   "source": [
    "feature_final.reset_index(drop=True, inplace=True)"
   ]
  },
  {
   "cell_type": "code",
   "execution_count": 51,
   "metadata": {},
   "outputs": [
    {
     "data": {
      "text/html": [
       "<div>\n",
       "<style scoped>\n",
       "    .dataframe tbody tr th:only-of-type {\n",
       "        vertical-align: middle;\n",
       "    }\n",
       "\n",
       "    .dataframe tbody tr th {\n",
       "        vertical-align: top;\n",
       "    }\n",
       "\n",
       "    .dataframe thead th {\n",
       "        text-align: right;\n",
       "    }\n",
       "</style>\n",
       "<table border=\"1\" class=\"dataframe\">\n",
       "  <thead>\n",
       "    <tr style=\"text-align: right;\">\n",
       "      <th></th>\n",
       "      <th>ageRange_25-34</th>\n",
       "      <th>ageRange_35-49</th>\n",
       "      <th>ageRange_50-64</th>\n",
       "      <th>ageRange_65+</th>\n",
       "      <th>gender_female</th>\n",
       "      <th>Art and Architecture Lover</th>\n",
       "      <th>Backpacker</th>\n",
       "      <th>Beach Goer</th>\n",
       "      <th>Eco-tourist</th>\n",
       "      <th>Family Hoilday Maker</th>\n",
       "      <th>...</th>\n",
       "      <th>Luxury Traveller</th>\n",
       "      <th>Nature Lover</th>\n",
       "      <th>Nightlife Seeker</th>\n",
       "      <th>Peace and Quiet Seeker</th>\n",
       "      <th>Shopping Fanatic</th>\n",
       "      <th>Thrifty Traveller</th>\n",
       "      <th>Thrill Seeker</th>\n",
       "      <th>Trendsetter</th>\n",
       "      <th>Urban Explorer</th>\n",
       "      <th>Vegetarian</th>\n",
       "    </tr>\n",
       "  </thead>\n",
       "  <tbody>\n",
       "    <tr>\n",
       "      <th>0</th>\n",
       "      <td>1</td>\n",
       "      <td>0</td>\n",
       "      <td>0</td>\n",
       "      <td>0</td>\n",
       "      <td>0</td>\n",
       "      <td>1</td>\n",
       "      <td>0</td>\n",
       "      <td>0</td>\n",
       "      <td>0</td>\n",
       "      <td>0</td>\n",
       "      <td>...</td>\n",
       "      <td>0</td>\n",
       "      <td>0</td>\n",
       "      <td>0</td>\n",
       "      <td>0</td>\n",
       "      <td>0</td>\n",
       "      <td>0</td>\n",
       "      <td>0</td>\n",
       "      <td>0</td>\n",
       "      <td>1</td>\n",
       "      <td>1</td>\n",
       "    </tr>\n",
       "    <tr>\n",
       "      <th>1</th>\n",
       "      <td>0</td>\n",
       "      <td>0</td>\n",
       "      <td>0</td>\n",
       "      <td>1</td>\n",
       "      <td>0</td>\n",
       "      <td>0</td>\n",
       "      <td>0</td>\n",
       "      <td>1</td>\n",
       "      <td>0</td>\n",
       "      <td>0</td>\n",
       "      <td>...</td>\n",
       "      <td>0</td>\n",
       "      <td>0</td>\n",
       "      <td>0</td>\n",
       "      <td>0</td>\n",
       "      <td>0</td>\n",
       "      <td>1</td>\n",
       "      <td>0</td>\n",
       "      <td>0</td>\n",
       "      <td>0</td>\n",
       "      <td>0</td>\n",
       "    </tr>\n",
       "    <tr>\n",
       "      <th>2</th>\n",
       "      <td>0</td>\n",
       "      <td>1</td>\n",
       "      <td>0</td>\n",
       "      <td>0</td>\n",
       "      <td>1</td>\n",
       "      <td>0</td>\n",
       "      <td>0</td>\n",
       "      <td>0</td>\n",
       "      <td>0</td>\n",
       "      <td>0</td>\n",
       "      <td>...</td>\n",
       "      <td>0</td>\n",
       "      <td>0</td>\n",
       "      <td>0</td>\n",
       "      <td>0</td>\n",
       "      <td>0</td>\n",
       "      <td>0</td>\n",
       "      <td>0</td>\n",
       "      <td>0</td>\n",
       "      <td>1</td>\n",
       "      <td>0</td>\n",
       "    </tr>\n",
       "    <tr>\n",
       "      <th>3</th>\n",
       "      <td>0</td>\n",
       "      <td>0</td>\n",
       "      <td>1</td>\n",
       "      <td>0</td>\n",
       "      <td>1</td>\n",
       "      <td>0</td>\n",
       "      <td>0</td>\n",
       "      <td>0</td>\n",
       "      <td>0</td>\n",
       "      <td>0</td>\n",
       "      <td>...</td>\n",
       "      <td>0</td>\n",
       "      <td>0</td>\n",
       "      <td>0</td>\n",
       "      <td>0</td>\n",
       "      <td>0</td>\n",
       "      <td>1</td>\n",
       "      <td>0</td>\n",
       "      <td>0</td>\n",
       "      <td>0</td>\n",
       "      <td>0</td>\n",
       "    </tr>\n",
       "    <tr>\n",
       "      <th>4</th>\n",
       "      <td>0</td>\n",
       "      <td>0</td>\n",
       "      <td>0</td>\n",
       "      <td>1</td>\n",
       "      <td>0</td>\n",
       "      <td>0</td>\n",
       "      <td>0</td>\n",
       "      <td>0</td>\n",
       "      <td>0</td>\n",
       "      <td>0</td>\n",
       "      <td>...</td>\n",
       "      <td>1</td>\n",
       "      <td>1</td>\n",
       "      <td>0</td>\n",
       "      <td>1</td>\n",
       "      <td>1</td>\n",
       "      <td>0</td>\n",
       "      <td>0</td>\n",
       "      <td>0</td>\n",
       "      <td>1</td>\n",
       "      <td>0</td>\n",
       "    </tr>\n",
       "  </tbody>\n",
       "</table>\n",
       "<p>5 rows × 23 columns</p>\n",
       "</div>"
      ],
      "text/plain": [
       "   ageRange_25-34  ageRange_35-49  ageRange_50-64  ageRange_65+  \\\n",
       "0               1               0               0             0   \n",
       "1               0               0               0             1   \n",
       "2               0               1               0             0   \n",
       "3               0               0               1             0   \n",
       "4               0               0               0             1   \n",
       "\n",
       "   gender_female  Art and Architecture Lover  Backpacker  Beach Goer  \\\n",
       "0              0                           1           0           0   \n",
       "1              0                           0           0           1   \n",
       "2              1                           0           0           0   \n",
       "3              1                           0           0           0   \n",
       "4              0                           0           0           0   \n",
       "\n",
       "   Eco-tourist  Family Hoilday Maker     ...      Luxury Traveller  \\\n",
       "0            0                     0     ...                     0   \n",
       "1            0                     0     ...                     0   \n",
       "2            0                     0     ...                     0   \n",
       "3            0                     0     ...                     0   \n",
       "4            0                     0     ...                     1   \n",
       "\n",
       "   Nature Lover  Nightlife Seeker  Peace and Quiet Seeker  Shopping Fanatic  \\\n",
       "0             0                 0                       0                 0   \n",
       "1             0                 0                       0                 0   \n",
       "2             0                 0                       0                 0   \n",
       "3             0                 0                       0                 0   \n",
       "4             1                 0                       1                 1   \n",
       "\n",
       "   Thrifty Traveller  Thrill Seeker  Trendsetter  Urban Explorer  Vegetarian  \n",
       "0                  0              0            0               1           1  \n",
       "1                  1              0            0               0           0  \n",
       "2                  0              0            0               1           0  \n",
       "3                  1              0            0               0           0  \n",
       "4                  0              0            0               1           0  \n",
       "\n",
       "[5 rows x 23 columns]"
      ]
     },
     "execution_count": 51,
     "metadata": {},
     "output_type": "execute_result"
    }
   ],
   "source": [
    "feature_final.head()"
   ]
  },
  {
   "cell_type": "code",
   "execution_count": 52,
   "metadata": {},
   "outputs": [],
   "source": [
    "invert_feature = feature_final.T"
   ]
  },
  {
   "cell_type": "code",
   "execution_count": 53,
   "metadata": {},
   "outputs": [
    {
     "data": {
      "text/plain": [
       "(23, 208)"
      ]
     },
     "execution_count": 53,
     "metadata": {},
     "output_type": "execute_result"
    }
   ],
   "source": [
    "invert_feature.shape"
   ]
  },
  {
   "cell_type": "code",
   "execution_count": 58,
   "metadata": {},
   "outputs": [
    {
     "data": {
      "text/plain": [
       "ageRange_25-34                0\n",
       "ageRange_35-49                1\n",
       "ageRange_50-64                0\n",
       "ageRange_65+                  0\n",
       "gender_female                 0\n",
       "Art and Architecture Lover    1\n",
       "Backpacker                    0\n",
       "Beach Goer                    0\n",
       "Eco-tourist                   0\n",
       "Family Hoilday Maker          1\n",
       "Foodie                        1\n",
       "History Buff                  0\n",
       "Like a Local                  1\n",
       "Luxury Traveller              1\n",
       "Nature Lover                  0\n",
       "Nightlife Seeker              0\n",
       "Peace and Quiet Seeker        0\n",
       "Shopping Fanatic              0\n",
       "Thrifty Traveller             1\n",
       "Thrill Seeker                 0\n",
       "Trendsetter                   0\n",
       "Urban Explorer                0\n",
       "Vegetarian                    0\n",
       "Name: 50, dtype: uint8"
      ]
     },
     "execution_count": 58,
     "metadata": {},
     "output_type": "execute_result"
    }
   ],
   "source": [
    "invert_feature[50] #male, ageRange_35-49, Art and Architecture Lover, \n",
    "# Thrifty Traveller, Luxury Traveller, Family Hoilday Maker,\n",
    "# Like a Local *4"
   ]
  },
  {
   "cell_type": "code",
   "execution_count": 73,
   "metadata": {},
   "outputs": [
    {
     "data": {
      "text/plain": [
       "ageRange_25-34                0\n",
       "ageRange_35-49                0\n",
       "ageRange_50-64                1\n",
       "ageRange_65+                  0\n",
       "gender_female                 1\n",
       "Art and Architecture Lover    0\n",
       "Backpacker                    0\n",
       "Beach Goer                    1\n",
       "Eco-tourist                   0\n",
       "Family Hoilday Maker          0\n",
       "Foodie                        1\n",
       "History Buff                  1\n",
       "Like a Local                  0\n",
       "Luxury Traveller              0\n",
       "Nature Lover                  1\n",
       "Nightlife Seeker              0\n",
       "Peace and Quiet Seeker        0\n",
       "Shopping Fanatic              0\n",
       "Thrifty Traveller             0\n",
       "Thrill Seeker                 0\n",
       "Trendsetter                   0\n",
       "Urban Explorer                0\n",
       "Vegetarian                    1\n",
       "Name: 30, dtype: uint8"
      ]
     },
     "execution_count": 73,
     "metadata": {},
     "output_type": "execute_result"
    }
   ],
   "source": [
    "invert_feature[30] #female, ageRange_50-64 \n",
    "#Beach Goer, History Buff, Nature Lover,Vegetarian *3"
   ]
  },
  {
   "cell_type": "code",
   "execution_count": 139,
   "metadata": {},
   "outputs": [
    {
     "data": {
      "text/plain": [
       "ageRange_25-34                0\n",
       "ageRange_35-49                1\n",
       "ageRange_50-64                0\n",
       "ageRange_65+                  0\n",
       "gender_female                 0\n",
       "Art and Architecture Lover    0\n",
       "Backpacker                    0\n",
       "Beach Goer                    0\n",
       "Eco-tourist                   0\n",
       "Family Hoilday Maker          0\n",
       "Foodie                        1\n",
       "History Buff                  0\n",
       "Like a Local                  1\n",
       "Luxury Traveller              0\n",
       "Nature Lover                  0\n",
       "Nightlife Seeker              0\n",
       "Peace and Quiet Seeker        0\n",
       "Shopping Fanatic              0\n",
       "Thrifty Traveller             0\n",
       "Thrill Seeker                 0\n",
       "Trendsetter                   0\n",
       "Urban Explorer                1\n",
       "Vegetarian                    0\n",
       "Name: 62, dtype: uint8"
      ]
     },
     "execution_count": 139,
     "metadata": {},
     "output_type": "execute_result"
    }
   ],
   "source": [
    "invert_feature[163] # female, ageRange_50-64, Luxury Traveller, Shopping Fanatic, Urban Explorer *2\n",
    "invert_feature[183] # ageRange_25-34, female, Beach Goer, Nightlife Seeker, Urban Explorer *1\n",
    "invert_feature[151] # male, ageRange_50-64,Family Hoilday Maker, History Buff, Thrifty Traveller *5\n",
    "invert_feature[41] # male, ageRange_35-49 ,Like a Local, Thrill Seeker, Nightlife Seeker *6\n",
    "invert_feature[12] # female, ageRange_25-34 , Luxury Traveller, Peace and Quiet Seeker, Shopping Fanatic,Trendsetter \n",
    "#Urban Explorer \n",
    "invert_feature[62] "
   ]
  },
  {
   "cell_type": "code",
   "execution_count": null,
   "metadata": {},
   "outputs": [],
   "source": [
    "invert_feature[183]"
   ]
  },
  {
   "cell_type": "code",
   "execution_count": null,
   "metadata": {},
   "outputs": [],
   "source": []
  },
  {
   "cell_type": "code",
   "execution_count": null,
   "metadata": {},
   "outputs": [],
   "source": []
  },
  {
   "cell_type": "code",
   "execution_count": 134,
   "metadata": {},
   "outputs": [
    {
     "data": {
      "text/plain": [
       "0.5217391304347826"
      ]
     },
     "execution_count": 134,
     "metadata": {},
     "output_type": "execute_result"
    }
   ],
   "source": [
    "jaccard_similarity_score(invert_feature[12], invert_feature[41])"
   ]
  },
  {
   "cell_type": "code",
   "execution_count": 1,
   "metadata": {},
   "outputs": [
    {
     "ename": "NameError",
     "evalue": "name 'jaccard_similarity_score' is not defined",
     "output_type": "error",
     "traceback": [
      "\u001b[0;31m---------------------------------------------------------------------------\u001b[0m",
      "\u001b[0;31mNameError\u001b[0m                                 Traceback (most recent call last)",
      "\u001b[0;32m<ipython-input-1-d22f2e9908cb>\u001b[0m in \u001b[0;36m<module>\u001b[0;34m()\u001b[0m\n\u001b[0;32m----> 1\u001b[0;31m \u001b[0mjaccard_similarity_score\u001b[0m\u001b[0;34m(\u001b[0m\u001b[0minvert_feature\u001b[0m\u001b[0;34m[\u001b[0m\u001b[0;36m151\u001b[0m\u001b[0;34m]\u001b[0m\u001b[0;34m,\u001b[0m \u001b[0minvert_feature\u001b[0m\u001b[0;34m[\u001b[0m\u001b[0;36m41\u001b[0m\u001b[0;34m]\u001b[0m\u001b[0;34m)\u001b[0m\u001b[0;34m\u001b[0m\u001b[0m\n\u001b[0m",
      "\u001b[0;31mNameError\u001b[0m: name 'jaccard_similarity_score' is not defined"
     ]
    }
   ],
   "source": [
    "jaccard_similarity_score(invert_feature[151], invert_feature[41])"
   ]
  },
  {
   "cell_type": "code",
   "execution_count": 100,
   "metadata": {},
   "outputs": [
    {
     "data": {
      "text/plain": [
       "0.6956521739130435"
      ]
     },
     "execution_count": 100,
     "metadata": {},
     "output_type": "execute_result"
    }
   ],
   "source": [
    "jaccard_similarity_score(invert_feature[163], invert_feature[183])"
   ]
  },
  {
   "cell_type": "code",
   "execution_count": null,
   "metadata": {},
   "outputs": [],
   "source": []
  },
  {
   "cell_type": "code",
   "execution_count": null,
   "metadata": {},
   "outputs": [],
   "source": []
  },
  {
   "cell_type": "code",
   "execution_count": null,
   "metadata": {},
   "outputs": [],
   "source": [
    "jaccard_similarity_score(invert_feature[50], invert_feature[1])"
   ]
  },
  {
   "cell_type": "code",
   "execution_count": 94,
   "metadata": {
    "scrolled": true
   },
   "outputs": [
    {
     "data": {
      "text/plain": [
       "0.6086956521739131"
      ]
     },
     "execution_count": 94,
     "metadata": {},
     "output_type": "execute_result"
    }
   ],
   "source": [
    "jaccard_similarity_score(invert_feature[50], invert_feature[1])"
   ]
  },
  {
   "cell_type": "code",
   "execution_count": null,
   "metadata": {},
   "outputs": [],
   "source": [
    "jaccard_similarity_score(invert_feature[50], invert_feature[1])"
   ]
  },
  {
   "cell_type": "code",
   "execution_count": null,
   "metadata": {},
   "outputs": [],
   "source": []
  },
  {
   "cell_type": "code",
   "execution_count": null,
   "metadata": {},
   "outputs": [],
   "source": []
  },
  {
   "cell_type": "code",
   "execution_count": null,
   "metadata": {},
   "outputs": [],
   "source": []
  },
  {
   "cell_type": "code",
   "execution_count": 67,
   "metadata": {},
   "outputs": [
    {
     "ename": "NameError",
     "evalue": "name 'final_rdd' is not defined",
     "output_type": "error",
     "traceback": [
      "\u001b[0;31m---------------------------------------------------------------------------\u001b[0m",
      "\u001b[0;31mNameError\u001b[0m                                 Traceback (most recent call last)",
      "\u001b[0;32m<ipython-input-67-d32f595f8aac>\u001b[0m in \u001b[0;36m<module>\u001b[0;34m()\u001b[0m\n\u001b[1;32m      1\u001b[0m \u001b[0;31m#final_rdd.groupby(['city_id', 'user_id'])\u001b[0m\u001b[0;34m\u001b[0m\u001b[0;34m\u001b[0m\u001b[0m\n\u001b[0;32m----> 2\u001b[0;31m \u001b[0mfinal_rdd\u001b[0m\u001b[0;34m.\u001b[0m\u001b[0mhead\u001b[0m\u001b[0;34m(\u001b[0m\u001b[0;34m)\u001b[0m\u001b[0;34m\u001b[0m\u001b[0m\n\u001b[0m",
      "\u001b[0;31mNameError\u001b[0m: name 'final_rdd' is not defined"
     ]
    }
   ],
   "source": [
    "#final_rdd.groupby(['city_id', 'user_id'])\n",
    "final_rdd.head()"
   ]
  },
  {
   "cell_type": "code",
   "execution_count": null,
   "metadata": {},
   "outputs": [],
   "source": []
  },
  {
   "cell_type": "code",
   "execution_count": null,
   "metadata": {
    "scrolled": true
   },
   "outputs": [],
   "source": [
    "# df = final_rdd.copy()\n",
    "# final_rdd.groupby(['city_id', 'user_id']).rating_float.mean()"
   ]
  },
  {
   "cell_type": "code",
   "execution_count": null,
   "metadata": {},
   "outputs": [],
   "source": [
    "def get_rating(df,uid,cid):\n",
    "    try:\n",
    "        return df[(df.user_id == uid) & (df.city_id == cid)].rating_float.values[0]\n",
    "    except:\n",
    "        return None"
   ]
  },
  {
   "cell_type": "code",
   "execution_count": null,
   "metadata": {},
   "outputs": [],
   "source": [
    "x = get_rating(util_matrix,0,34)\n",
    "print(x)"
   ]
  },
  {
   "cell_type": "code",
   "execution_count": null,
   "metadata": {
    "scrolled": true
   },
   "outputs": [],
   "source": [
    "abc = util_matrix[util_matrix.city_id == 5]\n",
    "abc"
   ]
  },
  {
   "cell_type": "code",
   "execution_count": null,
   "metadata": {},
   "outputs": [],
   "source": [
    "for i in abc.user_id.values:\n",
    "    print (i)\n",
    "    "
   ]
  },
  {
   "cell_type": "code",
   "execution_count": 168,
   "metadata": {},
   "outputs": [],
   "source": [
    "def jaccard_sim_score(udi, cid, user_matrix, util_matrix):\n",
    "    ''' \n",
    "    takes in user(index) and item\n",
    "    returns jaccard similarity score\n",
    "    '''\n",
    "    overall_rating = 0\n",
    "    overall_sim = 0\n",
    "    final_score = 0\n",
    "    \n",
    "    filtered_user = util_matrix[util_matrix.city_id == cid]\n",
    "    #print(filtered_user)\n",
    "    for user in filtered_user.user_id.values: \n",
    "        sim_score = jaccard_similarity_score(invert_feature[udi], invert_feature[user])\n",
    "        rating = filtered_user[(filtered_user.user_id == user)].rating.values[0]\n",
    "        overall_rating += sim_score * rating\n",
    "        overall_sim +=sim_score\n",
    "\n",
    "    if overall_sim != 0:\n",
    "        final_score = overall_rating / overall_sim\n",
    "    else:\n",
    "        final_score = 3\n",
    "        \n",
    "    return final_score"
   ]
  },
  {
   "cell_type": "code",
   "execution_count": null,
   "metadata": {},
   "outputs": [],
   "source": []
  },
  {
   "cell_type": "code",
   "execution_count": 96,
   "metadata": {},
   "outputs": [
    {
     "data": {
      "text/plain": [
       "4.0276497695852544"
      ]
     },
     "execution_count": 96,
     "metadata": {},
     "output_type": "execute_result"
    }
   ],
   "source": [
    "user_i = 18\n",
    "item = 20 \n",
    "user_matrix = invert_feature\n",
    "utility_matrix = util_matrix\n",
    "jaccard_sim_score(user_i, item, invert_feature, util_matrix)"
   ]
  },
  {
   "cell_type": "code",
   "execution_count": 1,
   "metadata": {},
   "outputs": [],
   "source": [
    "test_list = [16, 31, 2, 57, 21, 53, 50]"
   ]
  },
  {
   "cell_type": "code",
   "execution_count": 100,
   "metadata": {},
   "outputs": [
    {
     "ename": "IndexError",
     "evalue": "list index out of range",
     "output_type": "error",
     "traceback": [
      "\u001b[0;31m---------------------------------------------------------------------------\u001b[0m",
      "\u001b[0;31mIndexError\u001b[0m                                Traceback (most recent call last)",
      "\u001b[0;32m<ipython-input-100-a6def933c15d>\u001b[0m in \u001b[0;36m<module>\u001b[0;34m()\u001b[0m\n\u001b[1;32m      9\u001b[0m     \u001b[0mutility_matrix\u001b[0m \u001b[0;34m=\u001b[0m \u001b[0mutil_matrix\u001b[0m\u001b[0;34m\u001b[0m\u001b[0m\n\u001b[1;32m     10\u001b[0m \u001b[0;34m\u001b[0m\u001b[0m\n\u001b[0;32m---> 11\u001b[0;31m     \u001b[0mals_score\u001b[0m \u001b[0;34m=\u001b[0m \u001b[0mpredictions\u001b[0m\u001b[0;34m[\u001b[0m\u001b[0;34m(\u001b[0m\u001b[0mpredictions\u001b[0m\u001b[0;34m.\u001b[0m\u001b[0muser\u001b[0m \u001b[0;34m==\u001b[0m \u001b[0mstr\u001b[0m\u001b[0;34m(\u001b[0m\u001b[0muser_i\u001b[0m\u001b[0;34m)\u001b[0m\u001b[0;34m)\u001b[0m \u001b[0;34m&\u001b[0m \u001b[0;34m(\u001b[0m\u001b[0mpredictions\u001b[0m\u001b[0;34m.\u001b[0m\u001b[0mcity\u001b[0m \u001b[0;34m==\u001b[0m \u001b[0mstr\u001b[0m\u001b[0;34m(\u001b[0m\u001b[0mcity\u001b[0m\u001b[0;34m)\u001b[0m\u001b[0;34m)\u001b[0m\u001b[0;34m]\u001b[0m                 \u001b[0;34m.\u001b[0m\u001b[0mselect\u001b[0m\u001b[0;34m(\u001b[0m\u001b[0;34m\"prediction\"\u001b[0m\u001b[0;34m)\u001b[0m\u001b[0;34m.\u001b[0m\u001b[0mcollect\u001b[0m\u001b[0;34m(\u001b[0m\u001b[0;34m)\u001b[0m\u001b[0;34m[\u001b[0m\u001b[0;36m0\u001b[0m\u001b[0;34m]\u001b[0m\u001b[0;34m[\u001b[0m\u001b[0;36m0\u001b[0m\u001b[0;34m]\u001b[0m\u001b[0;34m\u001b[0m\u001b[0m\n\u001b[0m\u001b[1;32m     12\u001b[0m     \u001b[0mjacc_sim_score\u001b[0m \u001b[0;34m=\u001b[0m \u001b[0mjaccard_sim_score\u001b[0m\u001b[0;34m(\u001b[0m\u001b[0muser_i\u001b[0m\u001b[0;34m,\u001b[0m \u001b[0mitem\u001b[0m\u001b[0;34m,\u001b[0m \u001b[0minvert_feature\u001b[0m\u001b[0;34m,\u001b[0m \u001b[0mutil_matrix\u001b[0m\u001b[0;34m)\u001b[0m\u001b[0;34m\u001b[0m\u001b[0m\n\u001b[1;32m     13\u001b[0m \u001b[0;34m\u001b[0m\u001b[0m\n",
      "\u001b[0;31mIndexError\u001b[0m: list index out of range"
     ]
    }
   ],
   "source": [
    "\n",
    "# # overall score\n",
    "\n",
    "\n",
    "# for i in test_list:\n",
    "#     user_i = 200\n",
    "#     city = i\n",
    "#     user_matrix = invert_feature\n",
    "#     utility_matrix = util_matrix\n",
    "\n",
    "#     als_score = predictions[(predictions.user == str(user_i)) & (predictions.city == str(city))] \\\n",
    "#                 .select(\"prediction\").collect()[0][0]\n",
    "#     jacc_sim_score = jaccard_sim_score(user_i, item, invert_feature, util_matrix)\n",
    "\n",
    "#     final_score = 0.5 * jacc_sim_score + 0.5 * als_score\n",
    "#     final_score"
   ]
  },
  {
   "cell_type": "code",
   "execution_count": 8,
   "metadata": {},
   "outputs": [
    {
     "name": "stdout",
     "output_type": "stream",
     "text": [
      "16\n"
     ]
    },
    {
     "ename": "NameError",
     "evalue": "name 'invert_feature' is not defined",
     "output_type": "error",
     "traceback": [
      "\u001b[0;31m---------------------------------------------------------------------------\u001b[0m",
      "\u001b[0;31mNameError\u001b[0m                                 Traceback (most recent call last)",
      "\u001b[0;32m<ipython-input-8-6c2314350e83>\u001b[0m in \u001b[0;36m<module>\u001b[0;34m()\u001b[0m\n\u001b[1;32m      7\u001b[0m     \u001b[0mcity\u001b[0m \u001b[0;34m=\u001b[0m \u001b[0mi\u001b[0m\u001b[0;34m\u001b[0m\u001b[0m\n\u001b[1;32m      8\u001b[0m     \u001b[0mprint\u001b[0m\u001b[0;34m(\u001b[0m\u001b[0mcity\u001b[0m\u001b[0;34m)\u001b[0m\u001b[0;34m\u001b[0m\u001b[0m\n\u001b[0;32m----> 9\u001b[0;31m     \u001b[0muser_matrix\u001b[0m \u001b[0;34m=\u001b[0m \u001b[0minvert_feature\u001b[0m\u001b[0;34m\u001b[0m\u001b[0m\n\u001b[0m\u001b[1;32m     10\u001b[0m     \u001b[0mutility_matrix\u001b[0m \u001b[0;34m=\u001b[0m \u001b[0mutil_matrix\u001b[0m\u001b[0;34m\u001b[0m\u001b[0m\n\u001b[1;32m     11\u001b[0m \u001b[0;34m\u001b[0m\u001b[0m\n",
      "\u001b[0;31mNameError\u001b[0m: name 'invert_feature' is not defined"
     ]
    }
   ],
   "source": [
    "\n",
    "# overall score\n",
    "\n",
    "final_score_lst = []\n",
    "for i in test_list:\n",
    "    user_i = 200\n",
    "    city = i\n",
    "    print(city)\n",
    "    user_matrix = invert_feature\n",
    "    utility_matrix = util_matrix\n",
    "\n",
    "    als_score = df_predictions[(df_predictions.user == user_i) & (df_predictions.city == city)] \\\n",
    "                .prediction\n",
    "    #print(als_score)\n",
    "    jacc_sim_score = jaccard_sim_score(user_i, city, invert_feature, util_matrix)\n",
    "    #print(jacc_sim_score)\n",
    "    if als_score.shape[0] == 0:\n",
    "        final_score = jacc_sim_score\n",
    "    else:\n",
    "        final_score = 0.5 * jacc_sim_score + 0.5 * als_score\n",
    "    \n",
    "    final_pair = (city, final_score)\n",
    "    final_score_lst.append(final_pair)\n",
    "    \n",
    "final_score_lst"
   ]
  },
  {
   "cell_type": "code",
   "execution_count": 13,
   "metadata": {},
   "outputs": [],
   "source": [
    "test_rates = [(4.735294117647059, 55), (4.757575757575757, 28), (4.0, 34), (4.244897959183673, 41), (4.641414141414142, 49), (4.732394366197184, 5)]"
   ]
  },
  {
   "cell_type": "code",
   "execution_count": 16,
   "metadata": {},
   "outputs": [
    {
     "data": {
      "text/plain": [
       "[(4.735294117647059, 55),\n",
       " (4.757575757575757, 28),\n",
       " (4.0, 34),\n",
       " (4.244897959183673, 41),\n",
       " (4.641414141414142, 49),\n",
       " (4.732394366197184, 5)]"
      ]
     },
     "execution_count": 16,
     "metadata": {},
     "output_type": "execute_result"
    }
   ],
   "source": [
    "test_rates"
   ]
  },
  {
   "cell_type": "code",
   "execution_count": 19,
   "metadata": {},
   "outputs": [
    {
     "ename": "SyntaxError",
     "evalue": "unexpected EOF while parsing (<ipython-input-19-0b543cddf5a9>, line 2)",
     "output_type": "error",
     "traceback": [
      "\u001b[0;36m  File \u001b[0;32m\"<ipython-input-19-0b543cddf5a9>\"\u001b[0;36m, line \u001b[0;32m2\u001b[0m\n\u001b[0;31m    #print(sorted(test_rates))\u001b[0m\n\u001b[0m                              ^\u001b[0m\n\u001b[0;31mSyntaxError\u001b[0m\u001b[0;31m:\u001b[0m unexpected EOF while parsing\n"
     ]
    }
   ],
   "source": [
    "for x, y in test_rates:\n",
    "    #print(sorted(test_rates))"
   ]
  },
  {
   "cell_type": "code",
   "execution_count": 21,
   "metadata": {},
   "outputs": [],
   "source": [
    "top = sorted(test_rates, reverse = True)[:3]"
   ]
  },
  {
   "cell_type": "code",
   "execution_count": 22,
   "metadata": {},
   "outputs": [
    {
     "name": "stdout",
     "output_type": "stream",
     "text": [
      "28\n",
      "55\n",
      "5\n"
     ]
    }
   ],
   "source": [
    "for x,y in top:\n",
    "    print(y)"
   ]
  },
  {
   "cell_type": "code",
   "execution_count": null,
   "metadata": {},
   "outputs": [],
   "source": []
  },
  {
   "cell_type": "code",
   "execution_count": null,
   "metadata": {},
   "outputs": [],
   "source": []
  },
  {
   "cell_type": "code",
   "execution_count": null,
   "metadata": {},
   "outputs": [],
   "source": []
  },
  {
   "cell_type": "code",
   "execution_count": null,
   "metadata": {},
   "outputs": [],
   "source": [
    "#df_grouped.describe().T"
   ]
  },
  {
   "cell_type": "code",
   "execution_count": null,
   "metadata": {
    "scrolled": true
   },
   "outputs": [],
   "source": [
    "#df_combined = pd.DataFrame(data = df_grouped.rating_float, index = df_grouped.user_id, columns = df_grouped.city_id )"
   ]
  },
  {
   "cell_type": "code",
   "execution_count": null,
   "metadata": {},
   "outputs": [],
   "source": [
    "#df_combined.head()"
   ]
  },
  {
   "cell_type": "code",
   "execution_count": null,
   "metadata": {},
   "outputs": [],
   "source": [
    "df_combined = df_combined.groupby(['user_id']).sum()"
   ]
  },
  {
   "cell_type": "code",
   "execution_count": null,
   "metadata": {},
   "outputs": [],
   "source": [
    "df_combined.index[1]"
   ]
  },
  {
   "cell_type": "code",
   "execution_count": null,
   "metadata": {},
   "outputs": [],
   "source": []
  }
 ],
 "metadata": {
  "kernelspec": {
   "display_name": "Python 3",
   "language": "python",
   "name": "python3"
  },
  "language_info": {
   "codemirror_mode": {
    "name": "ipython",
    "version": 3
   },
   "file_extension": ".py",
   "mimetype": "text/x-python",
   "name": "python",
   "nbconvert_exporter": "python",
   "pygments_lexer": "ipython3",
   "version": "3.6.4"
  }
 },
 "nbformat": 4,
 "nbformat_minor": 2
}
